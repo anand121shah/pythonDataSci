{
  "nbformat": 4,
  "nbformat_minor": 0,
  "metadata": {
    "colab": {
      "provenance": [],
      "authorship_tag": "ABX9TyN3twvuej7IvGO5IP7Rm4Es",
      "include_colab_link": true
    },
    "kernelspec": {
      "name": "python3",
      "display_name": "Python 3"
    },
    "language_info": {
      "name": "python"
    }
  },
  "cells": [
    {
      "cell_type": "markdown",
      "metadata": {
        "id": "view-in-github",
        "colab_type": "text"
      },
      "source": [
        "<a href=\"https://colab.research.google.com/github/as-bestinclass/pythonDataSci/blob/main/Due_Week_3_%7C_Complete_Assignments.ipynb\" target=\"_parent\"><img src=\"https://colab.research.google.com/assets/colab-badge.svg\" alt=\"Open In Colab\"/></a>"
      ]
    },
    {
      "cell_type": "code",
      "execution_count": null,
      "metadata": {
        "id": "CIj8LKEv4Fds"
      },
      "outputs": [],
      "source": [
        "\"\"\"\n",
        "1) Swap two numbers using 3rd variable\n",
        "2) Swap two numbers without using 3rd variable\n",
        "3) Remove duplicate elements from a list without converting to tuple\n",
        "3) Write a program to find greatest common divisor (GCD) or highest common factor (HCF) of given two numbers\n",
        "4) Write a loop to print following series\n",
        "10, 20, 30,  …………………, 300\n",
        "5) Write a loop to print following series\n",
        "105,98,91,………………………,7\n",
        "6) Write a program to print number names of diegits in a number like \n",
        "SAMPLE INPUT 231 \t\tSAMPLE OUTPUT TWO THREE ONE\n",
        "7) Write a program to print Fibonacci series till n terms take n =50\n",
        "8) Write a program to print factorial of a number\n",
        "9) Write a program to check if a number is Armstrong or not\n",
        "10) Write a program to convert binary to decimal\n",
        "11) Write a program to convert decimal to binary\n",
        "12) Write a program to check if number is palindrome on not (Without converting to string)\n",
        "13) Write a program to print all numbers which are divisible by 13 but not by 3 between 100 and 500\n",
        "14) Write a Python program to convert temperatures to and from Celsius and Fahrenheit.\n",
        "15) Write a Python program that takes two digits m (row) and n (column) as input and generates a two-dimensional array. The element value in the i-th row and j-th column of the array should be i*j. else it will be 0\n",
        "16. Write a Python program that accepts a string and calculates the number of digits and letters.\n",
        "Sample Data: Python 3.2\n",
        "Expected Output: \n",
        "Letters 6\n",
        "Digits 2\n",
        "17) Print all possible combination for a string or a word\n",
        "Sample input “ABC”\n",
        "Sample output\n",
        "BAC\n",
        "CAB\n",
        "CBA\n",
        "ACB\n",
        "BCA\n",
        "\n",
        "18) Write a Python program to check if a triangle is equilateral, isosceles or scalene. Take 3 inputs for each side\n",
        "\n",
        "\n",
        "Note :\n",
        "An equilateral triangle is a triangle in which all three sides are equal.\n",
        "A scalene triangle is a triangle that has three unequal sides.\n",
        "An isosceles triangle is a triangle with (at least) two equal sides.\n",
        "\n",
        "19) Write a Python program to get the next day of a given date.\n",
        "Expected Output:\n",
        "Input a year: 2016                                                      \n",
        "Input a month [1-12]: 08                                                \n",
        "Input a day [1-31]: 23                                                  \n",
        "The next date is [yyyy-mm-dd] 2016-8-24  \n",
        "\"\"\""
      ]
    },
    {
      "cell_type": "code",
      "source": [],
      "metadata": {
        "id": "mY7lDsuCWey0"
      },
      "execution_count": null,
      "outputs": []
    },
    {
      "cell_type": "code",
      "source": [
        "#1) Swap two numbers using 3rd variable\n",
        "\n",
        "input1 = 10\n",
        "input2 = 20\n",
        "\n",
        "print('Current variable1 and variable2 are: ', input1, ' and ', input2)\n",
        "\n",
        "tempv = input1\n",
        "input1=input2\n",
        "input2=tempv\n",
        "\n",
        "print('Swapped variable1 and variable2 are: ', input1, ' and ', input2)\n"
      ],
      "metadata": {
        "id": "Qtpr9Csp5Dgq"
      },
      "execution_count": null,
      "outputs": []
    },
    {
      "cell_type": "code",
      "source": [
        "#2) Swap two numbers without using 3rd variable\n",
        "\n",
        "\n",
        "input1 = 10\n",
        "input2 = 20\n",
        "\n",
        "print('Current variable1 and variable2 are: ', input1, ' and ', input2)\n",
        "\n",
        "input1=input1+input2\n",
        "input2=input1-input2\n",
        "input1=input1-input2\n",
        "\n",
        "print('Swapped variable1 and variable2 are: ', input1, ' and ', input2)\n"
      ],
      "metadata": {
        "id": "Bp90rQkd5Fj4"
      },
      "execution_count": null,
      "outputs": []
    },
    {
      "cell_type": "code",
      "source": [
        "#3) Remove duplicate elements from a list without converting to tuple\n",
        "\n",
        "listA =[2,5,3,2,1,1]\n",
        "setA=set(listA)\n",
        "\n",
        "listA = list(setA)\n",
        "\n",
        "print(listA)\n"
      ],
      "metadata": {
        "id": "tP4l2Iiw5JLa"
      },
      "execution_count": null,
      "outputs": []
    },
    {
      "cell_type": "code",
      "source": [
        "from re import I\n",
        "#3) Write a program to find greatest common divisor (GCD) or highest common factor (HCF) of given two numbers\n",
        "\n",
        "num1 = 3\n",
        "num2 = 2\n",
        "\n",
        "if num1>num2:\n",
        "  loopN=num1+1\n",
        "else:\n",
        "  loopN=num2+1\n",
        "\n",
        "hcf=1\n",
        "for i in range(1,loopN//2):\n",
        "  if num1%i==0 and num2%i==0:\n",
        "    hcf = i\n",
        "print('HCF is ', hcf)\n",
        "\n",
        "lcm=(num1*num2)//hcf\n",
        "print('GCD is ', lcm)\n",
        "\n"
      ],
      "metadata": {
        "id": "CEtIFl4T5N6h"
      },
      "execution_count": null,
      "outputs": []
    },
    {
      "cell_type": "code",
      "source": [
        "#4) Write a loop to print following series 10, 20, 30,  …………………, 300\n",
        "\n",
        "for i in range (1,31):\n",
        "  print(i*10, end=', ')"
      ],
      "metadata": {
        "colab": {
          "base_uri": "https://localhost:8080/"
        },
        "id": "EJSU2-O05SoF",
        "outputId": "eb9bc219-10a8-4e61-dbc9-d8db73f9bc36"
      },
      "execution_count": null,
      "outputs": [
        {
          "output_type": "stream",
          "name": "stdout",
          "text": [
            "10, 20, 30, 40, 50, 60, 70, 80, 90, 100, 110, 120, 130, 140, 150, 160, 170, 180, 190, 200, 210, 220, 230, 240, 250, 260, 270, 280, 290, 300, "
          ]
        }
      ]
    },
    {
      "cell_type": "code",
      "source": [
        "#5) Write a loop to print following series 105,98,91,………………………,7\n",
        "\n",
        "for i in range(105, 0, -7):\n",
        "  print(i, end = ', ')"
      ],
      "metadata": {
        "id": "m1DG9fcSKID9",
        "colab": {
          "base_uri": "https://localhost:8080/"
        },
        "outputId": "f1f6883c-90bf-4715-c66e-a6570dc2643e"
      },
      "execution_count": null,
      "outputs": [
        {
          "output_type": "stream",
          "name": "stdout",
          "text": [
            "105, 98, 91, 84, 77, 70, 63, 56, 49, 42, 35, 28, 21, 14, 7, "
          ]
        }
      ]
    },
    {
      "cell_type": "code",
      "source": [
        "#6) Write a program to print number names of digits in a number like \n",
        "#SAMPLE INPUT 231 \t\tSAMPLE OUTPUT TWO THREE ONE\n",
        "\n",
        "inpN = 15907235710\n",
        "inpS = str(inpN)\n",
        "\n",
        "for i in range(len(inpS)):\n",
        "  if inpS[i]=='1':\n",
        "    print('One', end=' ')\n",
        "  elif inpS[i]=='2':\n",
        "    print('Two', end=' ')\n",
        "  elif inpS[i]=='3':\n",
        "    print('Three', end=' ')\n",
        "  elif inpS[i]=='4':\n",
        "    print('Four', end=' ')\n",
        "  elif inpS[i]=='5':\n",
        "    print('Five', end=' ')\n",
        "  elif inpS[i]=='6':\n",
        "    print('Six', end=' ')\n",
        "  elif inpS[i]=='7':\n",
        "    print('Seven', end=' ')\n",
        "  elif inpS[i]=='8':\n",
        "    print('Eight', end=' ')\n",
        "  elif inpS[i]=='9':\n",
        "    print('Nine', end=' ')\n",
        "  elif inpS[i]=='0':\n",
        "    print('Zero', end=' ')\n"
      ],
      "metadata": {
        "colab": {
          "base_uri": "https://localhost:8080/"
        },
        "id": "buLIzfKZgsGI",
        "outputId": "32aa3268-ac3a-4325-8479-4f10ac435663"
      },
      "execution_count": null,
      "outputs": [
        {
          "output_type": "stream",
          "name": "stdout",
          "text": [
            "One Five Nine Zero Seven Two Three Five Seven One Zero "
          ]
        }
      ]
    },
    {
      "cell_type": "code",
      "source": [
        "#7) Write a program to print Fibonacci series till n terms take n =50\n",
        "\n",
        "firstN = 0\n",
        "lastN = 1\n",
        "\n",
        "n = 50\n",
        "\n",
        "for i in range(n-1):\n",
        "  sum = firstN + lastN\n",
        "  print(sum, end = ', ')\n",
        "  firstN = lastN\n",
        "  lastN = sum"
      ],
      "metadata": {
        "colab": {
          "base_uri": "https://localhost:8080/"
        },
        "id": "CZwmDQSKjPTa",
        "outputId": "af408159-0c47-4dec-96cc-6f6ac43c7f58"
      },
      "execution_count": null,
      "outputs": [
        {
          "output_type": "stream",
          "name": "stdout",
          "text": [
            "1, 2, 3, 5, 8, 13, 21, 34, 55, 89, 144, 233, 377, 610, 987, 1597, 2584, 4181, 6765, 10946, 17711, 28657, 46368, 75025, 121393, 196418, 317811, 514229, 832040, 1346269, 2178309, 3524578, 5702887, 9227465, 14930352, 24157817, 39088169, 63245986, 102334155, 165580141, 267914296, 433494437, 701408733, 1134903170, 1836311903, 2971215073, 4807526976, 7778742049, 12586269025, "
          ]
        }
      ]
    },
    {
      "cell_type": "code",
      "source": [
        "#8) Write a program to print factorial of a number\n",
        "\n",
        "n = 5\n",
        "x=1\n",
        "for i in range(1, n+1):\n",
        "  x = x*i \n",
        "\n",
        "print(x)"
      ],
      "metadata": {
        "colab": {
          "base_uri": "https://localhost:8080/"
        },
        "id": "u0S8JlPZmEnW",
        "outputId": "e010b3fc-bdd3-4efc-86fb-6bf08c8b99ad"
      },
      "execution_count": null,
      "outputs": [
        {
          "output_type": "stream",
          "name": "stdout",
          "text": [
            "120\n"
          ]
        }
      ]
    },
    {
      "cell_type": "code",
      "source": [
        "#9) Write a program to check if a number is Armstrong or not\n",
        "\n",
        "def strLen(string):\n",
        "    length = 0\n",
        "    for _ in string:\n",
        "        length += 1\n",
        "    return length\n",
        "\n",
        "originalInput = 1234\n",
        "len=strLen(str(originalInput))\n",
        "\n",
        "newN = 0\n",
        "s=originalInput\n",
        "for i in range(len):\n",
        "  newN = newN + (s%10)**len\n",
        "  s=s//10\n",
        "\n",
        "if newN == originalInput:\n",
        "  print(originalInput,' is Armstrong')\n",
        "else:\n",
        "  print(originalInput,' is not Armstrong')"
      ],
      "metadata": {
        "colab": {
          "base_uri": "https://localhost:8080/"
        },
        "id": "SLSKIuBzmmsC",
        "outputId": "71a52ae1-1e1d-4389-a166-b49ccebea9c7"
      },
      "execution_count": null,
      "outputs": [
        {
          "output_type": "stream",
          "name": "stdout",
          "text": [
            "1234  is not Armstrong\n"
          ]
        }
      ]
    },
    {
      "cell_type": "code",
      "source": [
        "#10) Write a program to convert binary to decimal\n",
        "def strLen(string):\n",
        "    length = 0\n",
        "    for _ in string:\n",
        "        length += 1\n",
        "    return length\n",
        "\n",
        "inp = 11011000\n",
        "asdf = inp\n",
        "lenth = strLen(str(asdf))\n",
        "x=0\n",
        "\n",
        "for i in range(lenth):\n",
        "  x = x + (inp%10)*(2**i)\n",
        "  inp = inp//10\n",
        "\n",
        "print(x)"
      ],
      "metadata": {
        "colab": {
          "base_uri": "https://localhost:8080/"
        },
        "id": "67xp_uPvoloa",
        "outputId": "a1ee7f91-bd93-42ac-8185-9596e3810156"
      },
      "execution_count": null,
      "outputs": [
        {
          "output_type": "stream",
          "name": "stdout",
          "text": [
            "216\n"
          ]
        }
      ]
    },
    {
      "cell_type": "code",
      "source": [
        "#11) Write a program to convert decimal to binary\n",
        "\n",
        "num = 171\n",
        "x = num\n",
        "binN = ''\n",
        "\n",
        "while (num>1):\n",
        "  if (num%2) == 1:\n",
        "    binN = binN + '1'\n",
        "  elif (num%2) == 0:\n",
        "    binN = binN + '0'\n",
        "  num = num//2\n",
        "\n",
        "binN = binN +'1'\n",
        "binN = binN[::-1]\n",
        "print(binN)\n"
      ],
      "metadata": {
        "colab": {
          "base_uri": "https://localhost:8080/"
        },
        "id": "fNbAkb9ruvtf",
        "outputId": "1699d6c1-da79-4594-ea53-57d0f4e4a2e2"
      },
      "execution_count": null,
      "outputs": [
        {
          "output_type": "stream",
          "name": "stdout",
          "text": [
            "10101011\n"
          ]
        }
      ]
    },
    {
      "cell_type": "code",
      "source": [
        "#12) Write a program to check if number is palindrome on not (Without converting to string)\n",
        "\n",
        "inp = 12344321\n",
        "\n",
        "\n",
        "h=inp\n",
        "pN=0\n",
        "while(h>0):\n",
        "  pN = pN+ h%10\n",
        "  pN = pN*10\n",
        "  h = h//10\n",
        "pN=pN//10\n",
        "\n",
        "\n",
        "if(pN == inp):\n",
        "  print(inp,'is a palindrome number')\n",
        "else:\n",
        "  print(inp,'is not a palindrome')\n"
      ],
      "metadata": {
        "id": "iQ9AymWg37cm",
        "colab": {
          "base_uri": "https://localhost:8080/"
        },
        "outputId": "24b43084-cf0f-4ab4-f8ae-aeb48f954a65"
      },
      "execution_count": null,
      "outputs": [
        {
          "output_type": "stream",
          "name": "stdout",
          "text": [
            "12344321 is a palindrome number\n"
          ]
        }
      ]
    },
    {
      "cell_type": "code",
      "source": [
        "#13) Write a program to print all numbers which are divisible by 13 but not by 3 between 100 and 500\n",
        "\n",
        "yes1=13\n",
        "not2=3\n",
        "\n",
        "for i in range(100,500):\n",
        "  if i%yes1 == 0 and i%not2 != 0:\n",
        "    print(i,'divisible by 13 but not by 3')"
      ],
      "metadata": {
        "id": "gWJn-tijoNum",
        "colab": {
          "base_uri": "https://localhost:8080/"
        },
        "outputId": "a44e6874-430d-445a-b6cd-cda7e3878ee9"
      },
      "execution_count": null,
      "outputs": [
        {
          "output_type": "stream",
          "name": "stdout",
          "text": [
            "104 divisible by 13 but not by 3\n",
            "130 divisible by 13 but not by 3\n",
            "143 divisible by 13 but not by 3\n",
            "169 divisible by 13 but not by 3\n",
            "182 divisible by 13 but not by 3\n",
            "208 divisible by 13 but not by 3\n",
            "221 divisible by 13 but not by 3\n",
            "247 divisible by 13 but not by 3\n",
            "260 divisible by 13 but not by 3\n",
            "286 divisible by 13 but not by 3\n",
            "299 divisible by 13 but not by 3\n",
            "325 divisible by 13 but not by 3\n",
            "338 divisible by 13 but not by 3\n",
            "364 divisible by 13 but not by 3\n",
            "377 divisible by 13 but not by 3\n",
            "403 divisible by 13 but not by 3\n",
            "416 divisible by 13 but not by 3\n",
            "442 divisible by 13 but not by 3\n",
            "455 divisible by 13 but not by 3\n",
            "481 divisible by 13 but not by 3\n",
            "494 divisible by 13 but not by 3\n"
          ]
        }
      ]
    },
    {
      "cell_type": "code",
      "source": [
        "#14) Write a Python program to convert temperatures to and from Celsius and Fahrenheit.\n",
        "\n",
        "def cTOf(c):\n",
        "  f = ((9/5)*c)+32\n",
        "  return f\n",
        "\n",
        "def fTOc(f):\n",
        "  c = (5/9)*(f-32)\n",
        "  return c\n",
        "\n",
        "cel = 0\n",
        "far = 100\n",
        "\n",
        "print(cTOf(cel))\n",
        "print(fTOc(far))"
      ],
      "metadata": {
        "colab": {
          "base_uri": "https://localhost:8080/"
        },
        "id": "3K5sgeSJEbrS",
        "outputId": "4f426022-88e4-4f0c-b2fe-acb909c91231"
      },
      "execution_count": null,
      "outputs": [
        {
          "output_type": "stream",
          "name": "stdout",
          "text": [
            "32.0\n",
            "37.77777777777778\n"
          ]
        }
      ]
    },
    {
      "cell_type": "code",
      "source": [
        "#15) Write a Python program that takes two digits m (row) and n (column) as input and generates a two-dimensional array. \n",
        "#The element value in the i-th row and j-th column of the array should be i*j. else it will be 0\n",
        "\n",
        "m = int(input(\"enter row \"))\n",
        "n = int(input(\"enter column \"))\n",
        "\n",
        "for i in range(n):\n",
        "  for i in range(m):\n",
        "    print('* ', end='')\n",
        "  print('')"
      ],
      "metadata": {
        "id": "XK5z-DmQI5fd",
        "colab": {
          "base_uri": "https://localhost:8080/"
        },
        "outputId": "7ef396fb-e458-4613-b5b2-f5edcb289f08"
      },
      "execution_count": null,
      "outputs": [
        {
          "output_type": "stream",
          "name": "stdout",
          "text": [
            "enter row 3\n",
            "enter column 3\n",
            "* * * \n",
            "* * * \n",
            "* * * \n"
          ]
        }
      ]
    },
    {
      "cell_type": "code",
      "source": [
        "# 16. Write a Python program that accepts a string and calculates the number of digits and letters.\n",
        "#Sample Data: Python 3.2\n",
        "#Expected Output: \n",
        "#Letters 6\n",
        "#Digits 2\n",
        "def strLen(string):\n",
        "    length = 0\n",
        "    for _ in string:\n",
        "        length += 1\n",
        "    return length\n",
        "\n",
        "inp = str(input(\"Enter your phrase: \"))\n",
        "digits = 0\n",
        "letters = 0\n",
        "lenth = strLen(inp)\n",
        "\n",
        "for i in range(lenth):\n",
        "  if inp[i].isnumeric():\n",
        "    digits+=1\n",
        "  elif inp[i].isalpha():\n",
        "    letters+=1\n",
        "print('Letters:', letters)\n",
        "print('Digits: ', digits)\n"
      ],
      "metadata": {
        "colab": {
          "base_uri": "https://localhost:8080/"
        },
        "id": "AgmPePcTRC-D",
        "outputId": "73223ee8-29b8-4c5b-f26e-97dc64faa1d3"
      },
      "execution_count": null,
      "outputs": [
        {
          "output_type": "stream",
          "name": "stdout",
          "text": [
            "Enter your phrase: python 3.2\n",
            "Letters: 6\n",
            "Digits:  2\n"
          ]
        }
      ]
    },
    {
      "cell_type": "code",
      "source": [
        "#17) Print all possible combination for a string or a word\n",
        "\"\"\"Sample input “ABC”\n",
        "Sample output\n",
        "BAC\n",
        "CAB\n",
        "CBA\n",
        "ACB\n",
        "BCA\"\"\"\n",
        "\n",
        "def strLen(string):\n",
        "    length = 0\n",
        "    for _ in string:\n",
        "        length += 1\n",
        "    return length\n",
        "\n",
        "inp = str(input(\"Enter your phrase: \"))\n",
        "\n",
        "lenth = strLen(inp)\n",
        "lst = []\n",
        "\n",
        "for i in range(lenth):\n",
        "  for j in range(i):\n",
        "    \n",
        "\n"
      ],
      "metadata": {
        "id": "32aAWYMxSyd-"
      },
      "execution_count": null,
      "outputs": []
    },
    {
      "cell_type": "code",
      "source": [
        "#18) Write a Python program to check if a triangle is equilateral, isosceles or scalene. Take 3 inputs for each side\n",
        "#Note :\n",
        "#An equilateral triangle is a triangle in which all three sides are equal.\n",
        "#A scalene triangle is a triangle that has three unequal sides.\n",
        "#An isosceles triangle is a triangle with (at least) two equal sides.\n",
        "\n",
        "side1 = str(input(\"Enter side1: \"))\n",
        "side2 = str(input(\"Enter side2: \"))\n",
        "side3 = str(input(\"Enter side3: \"))\n",
        "\n",
        "if side1 == side2 == side3:\n",
        "  print('It is an equilateral traingle.')\n",
        "elif side1 != side2 != side3:\n",
        "  print('It is a scalen triangle.')\n",
        "elif side1 == side2 != side3 or side1 != side2 == side3:\n",
        "  print('Ir is an isoceles triangle.')"
      ],
      "metadata": {
        "colab": {
          "base_uri": "https://localhost:8080/"
        },
        "id": "D6C0oIt3XWKU",
        "outputId": "5ee1600c-6b93-4792-89cf-dd8edc82b0c8"
      },
      "execution_count": null,
      "outputs": [
        {
          "output_type": "stream",
          "name": "stdout",
          "text": [
            "Enter side1: 1\n",
            "Enter side2: 2\n",
            "Enter side3: 3\n",
            "It is a scalen triangle.\n"
          ]
        }
      ]
    },
    {
      "cell_type": "code",
      "source": [
        "#19) Write a Python program to get the next day of a given date.\n",
        "#Expected Output:\n",
        "#Input a year: 2016                                                      \n",
        "#Input a month [1-12]: 08                                                \n",
        "#Input a day [1-31]: 23                                                  \n",
        "#The next date is [yyyy-mm-dd] 2016-8-24  \n",
        "\n",
        "y = int(input(\"Enter year: \"))\n",
        "m = int(input(\"Enter month: \"))\n",
        "d = int(input(\"Enter day: \"))\n",
        "\n",
        "if (d<30 and m!=2) or (d<29 and m == 2 and y%4==0):\n",
        "  d+=1\n",
        "elif (d==30 and (m==4 or m==6 or m==8 or m==10)) or (d==31 and (m==1 or m==3 or m==5 or m==7 or m==8 or m==10)) or ((d==28 or d == 29) and m==2):\n",
        "  d=1\n",
        "  m+=1\n",
        "elif (d==31 and m==12):\n",
        "  d=1\n",
        "  m=1\n",
        "  y+=1\n",
        "print('The next date is ', y,'-',m,'-',d)"
      ],
      "metadata": {
        "colab": {
          "base_uri": "https://localhost:8080/"
        },
        "id": "iPcRzsFGYwwv",
        "outputId": "4f4478c0-6b46-4b2d-c98e-be164798aee0"
      },
      "execution_count": null,
      "outputs": [
        {
          "output_type": "stream",
          "name": "stdout",
          "text": [
            "Enter year: 2024\n",
            "Enter month: 2\n",
            "Enter day: 28\n",
            "The next date is  2024 - 2 - 29\n"
          ]
        }
      ]
    }
  ]
}