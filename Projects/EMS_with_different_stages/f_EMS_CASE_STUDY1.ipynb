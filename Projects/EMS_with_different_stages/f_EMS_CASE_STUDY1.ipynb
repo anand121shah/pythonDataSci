{
  "nbformat": 4,
  "nbformat_minor": 0,
  "metadata": {
    "colab": {
      "provenance": []
    },
    "kernelspec": {
      "name": "python3",
      "display_name": "Python 3"
    },
    "language_info": {
      "name": "python"
    }
  },
  "cells": [
    {
      "cell_type": "code",
      "source": [
        "#Write a program to perform the following operations"
      ],
      "metadata": {
        "id": "BJNWAdPxw-Ft"
      },
      "execution_count": null,
      "outputs": []
    },
    {
      "cell_type": "code",
      "source": [
        "# 5 parameters firstname,lastname,salary,id,department\n",
        "\n",
        "# 1 Add employee (firstname,lastname,salary,id,department)\n",
        "# 2 remove employee by id # 7 employees added find the correct id and remove # 6 will remain\n",
        "# 3 remove employee by name \n",
        "# 4 Update Details\n",
        "# 5 print details by ID\n",
        "# 6 print details of all employees\n",
        "# 7 exit"
      ],
      "metadata": {
        "id": "iaHPkvxRwru3"
      },
      "execution_count": null,
      "outputs": []
    },
    {
      "cell_type": "code",
      "execution_count": 1,
      "metadata": {
        "id": "vG0U7lrh5W3D"
      },
      "outputs": [],
      "source": [
        "def add_employee(first_name,last_name,emp_id,salary,department):\n",
        "\n",
        "  if emp_id not in emp_id_list:\n",
        "    emp_first_name_list.append(first_name)\n",
        "    emp_last_name_list.append(last_name)\n",
        "    emp_id_list.append(emp_id)\n",
        "    emp_salary_list.append(salary)\n",
        "    emp_department_list.append(department)\n",
        "    print(\"Record Added Successfully\")\n",
        "  else:\n",
        "    print(\"Employee ID Already Exists Try updating the details for the Employee\")\n",
        "\n",
        "\n",
        "def remove_employee_by_id(emp_id):\n",
        "  try:\n",
        "    # .index function returns index of value in list or a error if not found\n",
        "\n",
        "    index_to_remove=emp_id_list.index(emp_id)\n",
        "    emp_first_name_list.pop(index_to_remove)\n",
        "    emp_last_name_list.pop(index_to_remove)\n",
        "    emp_id_list.pop(index_to_remove)\n",
        "    emp_salary_list.pop(index_to_remove)\n",
        "    emp_department_list.pop(index_to_remove)\n",
        "    print(\"Employee Removed Successfully !!\")\n",
        "  except :\n",
        "    print(\"Id Doesnt not Exists Please verify the input once\")\n",
        "\n",
        "def find_record_by_id(emp_id):\n",
        "  try:\n",
        "    index_to_return=emp_id_list.index(emp_id)\n",
        "    return index_to_return\n",
        "  except:\n",
        "    return -1\n",
        "\n",
        "def update_details_by_id(index_to_replace,first_name,last_name,salary,department):\n",
        "  emp_first_name_list[index_to_replace]=first_name\n",
        "  emp_last_name_list[index_to_replace]=last_name\n",
        "  emp_salary_list[index_to_replace]=salary\n",
        "  emp_department_list[index_to_replace]=department\n",
        "  print(\"Recorded Updated Successfully \\n\")\n",
        "\n",
        "def print_record_by_id(emp_id):\n",
        "  try:\n",
        "    index_to_print=emp_id_list.index(emp_id)\n",
        "    print(\"EMPLOYEE FIRST NAME :-\",emp_first_name_list[index_to_print])\n",
        "    print(\"EMPLOYEE LAST NAME :-\",emp_last_name_list[index_to_print])\n",
        "    print(\"EMPLOYEE ID :-\",emp_id_list[index_to_print])\n",
        "    print(\"EMPLOYEE SALARY :-\",emp_salary_list[index_to_print])\n",
        "    print(\"EMPLOYEE Department NAME :-\",emp_department_list[index_to_print])\n",
        "    print(\"\")\n",
        "  except:\n",
        "    print(\"ID DOES NOT EXISTS \\n\")\n",
        "\n",
        "def remove_by_name(first_name,last_name):\n",
        "  all_records=[]\n",
        "  for k in range(len(emp_first_name_list)):\n",
        "    if emp_first_name_list[k]==first_name:\n",
        "      if emp_last_name_list[k]==last_name:\n",
        "        all_records.append(k)\n",
        "\n",
        "  if len(all_records)>1:\n",
        "    print(\"Found Multiple IDS Please confirm which id to remove\")\n",
        "    for c in all_records:\n",
        "      print(\"ID :-\",emp_id_list[c])\n",
        "    get_id_to_remove=input(\"Please enter the Employee ID to Remove :- \")\n",
        "    remove_employee_by_id(get_id_to_remove)\n",
        "\n",
        "  elif len(all_records)==1:\n",
        "    # 1 record in all_records list\n",
        "    get_id_to_remove=emp_id_list[all_records[0]]\n",
        "    remove_employee_by_id(get_id_to_remove)\n",
        "  else:\n",
        "    print(\"No Such Record Exists please check the input entered\")"
      ]
    },
    {
      "cell_type": "code",
      "source": [],
      "metadata": {
        "id": "dpeQ1NMkwkI0"
      },
      "execution_count": null,
      "outputs": []
    },
    {
      "cell_type": "code",
      "source": [],
      "metadata": {
        "id": "FbdkHc6DwhOh"
      },
      "execution_count": 1,
      "outputs": []
    },
    {
      "cell_type": "code",
      "source": [],
      "metadata": {
        "id": "PcqUIrEpwi1L"
      },
      "execution_count": null,
      "outputs": []
    },
    {
      "cell_type": "code",
      "source": [
        "user_input=-1\n",
        "emp_first_name_list=[]\n",
        "emp_last_name_list=[]\n",
        "emp_id_list=[]\n",
        "emp_salary_list=[]\n",
        "emp_department_list=[]\n",
        "\n",
        "while user_input!=7:\n",
        "\n",
        "  print(\"\\n\")\n",
        "  print(\"1) Add Employee\")\n",
        "  print(\"2) Remove Employee by id \")\n",
        "  print(\"3) Remove Employee by name \")\n",
        "  print(\"4) Update Details of Employee by ID \")\n",
        "  print(\"5) Display details of Employee by ID \")\n",
        "  print(\"6) Display details of ALL Employee\")\n",
        "  print(\"7) Exit the EMS system\")\n",
        "\n",
        "  user_input=int(input(\"Please enter a Choice between 1-7 :- \"))\n",
        "  \n",
        "  if user_input==1:\n",
        "\n",
        "    first_name= input(\"Please enter the first name \")\n",
        "    last_name= input(\"Please enter the last name \")\n",
        "    salary= input(\"Please enter the salary \")\n",
        "    empy_id= input(\"Please enter the Employee ID \")\n",
        "    department= input(\"Please enter the Department \")\n",
        "    add_employee(first_name,last_name,empy_id,salary,department)\n",
        "    print(\"Confirmation that record is added\",emp_first_name_list)\n",
        "  \n",
        "  elif user_input==2:\n",
        "    empy_id= input(\"Please enter the Employee ID to Remove :- \")\n",
        "    remove_employee_by_id(empy_id)\n",
        "\n",
        "  elif user_input==3:\n",
        "    first_name= input(\"Please enter the first name of the employee to remove \")\n",
        "    last_name= input(\"Please enter the last name of the employee to remove\")\n",
        "    remove_by_name(first_name,last_name)\n",
        "    \n",
        "  elif user_input==4:\n",
        "    empy_id= input(\"Please enter the Employee ID to Update :- \")\n",
        "    index_to_update=find_record_by_id(emp_id)\n",
        "    if index_to_update!=-1:\n",
        "      first_name= input(\"Please enter the first name \")\n",
        "      last_name= input(\"Please enter the last name \")\n",
        "      salary= input(\"Please enter the salary \")\n",
        "      department= input(\"Please enter the Department \")\n",
        "      update_details_by_id(index_to_update,first_name,last_name,salary,department)\n",
        "    else:\n",
        "      print(\"No such Id Exists Check the input once\")\n",
        "\n",
        "  elif user_input==5:\n",
        "    empy_id= input(\"Please enter the Employee ID you want to check details for :- \")\n",
        "    print_record_by_id(empy_id)\n",
        "\n",
        "  elif user_input==6:\n",
        "    for k in emp_id_list:\n",
        "      print_record_by_id(k)\n",
        "\n",
        "  elif user_input==7:\n",
        "    print(\"Bye!!\")"
      ],
      "metadata": {
        "id": "YgJZd9Lp5XH6",
        "colab": {
          "base_uri": "https://localhost:8080/"
        },
        "outputId": "167a396c-13ed-495d-b6cd-8b134d0bef4e"
      },
      "execution_count": 2,
      "outputs": [
        {
          "output_type": "stream",
          "name": "stdout",
          "text": [
            "\n",
            "\n",
            "1) Add Employee\n",
            "2) Remove Employee by id \n",
            "3) Remove Employee by name \n",
            "4) Update Details of Employee by ID \n",
            "5) Display details of Employee by ID \n",
            "6) Display details of ALL Employee\n",
            "7) Exit the EMS system\n",
            "Please enter a Choice between 1-7 :- 1\n",
            "Please enter the first name Shanti\n",
            "Please enter the last name Dhakal\n",
            "Please enter the salary 23444\n",
            "Please enter the Employee ID 1\n",
            "Please enter the Department sales\n",
            "Record Added Successfully\n",
            "Confirmation that record is added ['Shanti']\n",
            "\n",
            "\n",
            "1) Add Employee\n",
            "2) Remove Employee by id \n",
            "3) Remove Employee by name \n",
            "4) Update Details of Employee by ID \n",
            "5) Display details of Employee by ID \n",
            "6) Display details of ALL Employee\n",
            "7) Exit the EMS system\n",
            "Please enter a Choice between 1-7 :- 7\n",
            "Bye!!\n"
          ]
        }
      ]
    },
    {
      "cell_type": "code",
      "source": [],
      "metadata": {
        "id": "n9eNcgZd2Vmh"
      },
      "execution_count": null,
      "outputs": []
    }
  ]
}