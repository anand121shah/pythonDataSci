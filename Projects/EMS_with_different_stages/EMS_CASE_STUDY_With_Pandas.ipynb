{
  "nbformat": 4,
  "nbformat_minor": 0,
  "metadata": {
    "colab": {
      "provenance": []
    },
    "kernelspec": {
      "name": "python3",
      "display_name": "Python 3"
    },
    "language_info": {
      "name": "python"
    }
  },
  "cells": [
    {
      "cell_type": "code",
      "source": [
        "# earlier case study only saved the data in memory and was lost once user exits\n",
        "# Now what we will do is save data in a csv\n",
        "# Read Data , Save Data\n",
        "# 1) Read Data what we will do in this is\n",
        "# Define 5 columns that are to be read by csv \n",
        "# read these 5 columns from csv as a list if CSV exists\n",
        "# if this csv does not exists we will initalize empty list\n",
        "# Save Data\n",
        "# save 5 lists to standard 5 columns and with index = False"
      ],
      "metadata": {
        "id": "t-JjA2cxzuBe"
      },
      "execution_count": null,
      "outputs": []
    },
    {
      "cell_type": "code",
      "execution_count": 1,
      "metadata": {
        "id": "vG0U7lrh5W3D"
      },
      "outputs": [],
      "source": [
        "import os\n",
        "import pandas as pd\n",
        "\n",
        "def save_data(file_name):\n",
        "    new_data={\"emp_first_name\":emp_first_name_list,\"emp_last_name\":emp_last_name_list,\"emp_id\":emp_id_list\n",
        "              ,\"emp_salary\":emp_salary_list,\"emp_department\":emp_department_list}\n",
        "    df=pd.DataFrame(new_data)\n",
        "    df.to_csv(file_name,index=False)\n",
        "\n",
        "def add_employee(first_name,last_name,emp_id,salary,department):\n",
        "\n",
        "  if emp_id not in emp_id_list:\n",
        "    emp_first_name_list.append(first_name)\n",
        "    emp_last_name_list.append(last_name)\n",
        "    emp_id_list.append(emp_id)\n",
        "    emp_salary_list.append(salary)\n",
        "    emp_department_list.append(department)\n",
        "    print(\"Record Added Successfully\")\n",
        "  else:\n",
        "    print(\"Employee ID Already Exists Try updating the details for the Employee\")\n",
        "\n",
        "\n",
        "def remove_employee_by_id(emp_id):\n",
        "  try:\n",
        "    # .index function returns index of value in list or a error if not found\n",
        "\n",
        "    index_to_remove=emp_id_list.index(emp_id)\n",
        "    emp_first_name_list.pop(index_to_remove)\n",
        "    emp_last_name_list.pop(index_to_remove)\n",
        "    emp_id_list.pop(index_to_remove)\n",
        "    emp_salary_list.pop(index_to_remove)\n",
        "    emp_department_list.pop(index_to_remove)\n",
        "    print(\"Employee Removed Successfully !!\")\n",
        "  except :\n",
        "    print(\"Id Doesnt not Exists Please verify the input once\")\n",
        "\n",
        "def find_record_by_id(emp_id):\n",
        "  try:\n",
        "    print(\"The list \",emp_id_list)\n",
        "    index_to_return=emp_id_list.index(emp_id)\n",
        "    return index_to_return\n",
        "  except:\n",
        "    return -1\n",
        "\n",
        "def update_details_by_id(index_to_replace,first_name,last_name,salary,department):\n",
        "  emp_first_name_list[index_to_replace]=first_name\n",
        "  emp_last_name_list[index_to_replace]=last_name\n",
        "  emp_salary_list[index_to_replace]=salary\n",
        "  emp_department_list[index_to_replace]=department\n",
        "  print(\"Recorded Updated Successfully \\n\")\n",
        "\n",
        "def print_record_by_id(emp_id):\n",
        "  try:\n",
        "    index_to_print=emp_id_list.index(emp_id)\n",
        "    print(\"EMPLOYEE FIRST NAME :-\",emp_first_name_list[index_to_print])\n",
        "    print(\"EMPLOYEE LAST NAME :-\",emp_last_name_list[index_to_print])\n",
        "    print(\"EMPLOYEE ID :-\",emp_id_list[index_to_print])\n",
        "    print(\"EMPLOYEE SALARY :-\",emp_salary_list[index_to_print])\n",
        "    print(\"EMPLOYEE Department NAME :-\",emp_department_list[index_to_print])\n",
        "    print(\"\")\n",
        "  except:\n",
        "    print(\"ID DOES NOT EXISTS \\n\")\n",
        "\n",
        "def remove_by_name(first_name,last_name):\n",
        "  all_records=[]\n",
        "  for k in range(len(emp_first_name_list)):\n",
        "    if emp_first_name_list[k]==first_name:\n",
        "      if emp_last_name_list[k]==last_name:\n",
        "        all_records.append(k)\n",
        "\n",
        "  if len(all_records)>1:\n",
        "    print(\"Found Multiple IDS Please confirm which id to remove\")\n",
        "    for c in all_records:\n",
        "      print(\"ID :-\",emp_id_list[c])\n",
        "    get_id_to_remove=input(\"Please enter the Employee ID to Remove :- \")\n",
        "    remove_employee_by_id(get_id_to_remove)\n",
        "\n",
        "  elif len(all_records)==1:\n",
        "    # 1 record in all_records list\n",
        "    get_id_to_remove=emp_id_list[all_records[0]]\n",
        "    remove_employee_by_id(get_id_to_remove)\n",
        "  else:\n",
        "    print(\"No Such Record Exists please check the input entered\")"
      ]
    },
    {
      "cell_type": "code",
      "source": [
        "user_input=-1\n",
        "file_name=\"emp_data.csv\"\n",
        "if os.path.exists(file_name):\n",
        "  df=pd.read_csv(file_name)\n",
        "  emp_first_name_list=list(df['emp_first_name'])\n",
        "  emp_last_name_list=list(df['emp_last_name'])\n",
        "  emp_id_list=list(df['emp_id'].astype(str))\n",
        "  emp_salary_list=list(df['emp_salary'].astype(str))\n",
        "  emp_department_list=list(df['emp_department'])\n",
        "else:\n",
        "  emp_first_name_list=[]\n",
        "  emp_last_name_list=[]\n",
        "  emp_id_list=[]\n",
        "  emp_salary_list=[]\n",
        "  emp_department_list=[]\n",
        "\n",
        "while user_input!=7:\n",
        "  print(\"\\n\")\n",
        "  print(\"1) Add Employee\")\n",
        "  print(\"2) Remove Employee by id \")\n",
        "  print(\"3) Remove Employee by name \")\n",
        "  print(\"4) Update Details of Employee by ID \")\n",
        "  print(\"5) Display details of Employee by ID \")\n",
        "  print(\"6) Display details of ALL Employee\")\n",
        "  print(\"7) Exit the EMS system\")\n",
        "\n",
        "  user_input=int(input(\"Please enter a Choice between 1-7 :- \"))\n",
        "  \n",
        "  if user_input==1:\n",
        "\n",
        "    first_name= input(\"Please enter the first name \")\n",
        "    last_name= input(\"Please enter the last name \")\n",
        "    salary= input(\"Please enter the salary \")\n",
        "    empy_id= input(\"Please enter the Employee ID \")\n",
        "    department= input(\"Please enter the Department \")\n",
        "    add_employee(first_name,last_name,empy_id,salary,department)\n",
        "  \n",
        "  elif user_input==2:\n",
        "    empy_id= input(\"Please enter the Employee ID to Remove :- \")\n",
        "    remove_employee_by_id(empy_id)\n",
        "\n",
        "  elif user_input==3:\n",
        "    first_name= input(\"Please enter the first name of the employee to remove \")\n",
        "    last_name= input(\"Please enter the last name of the employee to remove\")\n",
        "    remove_by_name(first_name,last_name)\n",
        "    \n",
        "  elif user_input==4:\n",
        "    empy_id= input(\"Please enter the Employee ID to Update :- \")\n",
        "    index_to_update=find_record_by_id(empy_id)\n",
        "    print(index_to_update)\n",
        "    if index_to_update!=-1:\n",
        "      first_name= input(\"Please enter the first name \")\n",
        "      last_name= input(\"Please enter the last name \")\n",
        "      salary= input(\"Please enter the salary \")\n",
        "      department= input(\"Please enter the Department \")\n",
        "      update_details_by_id(index_to_update,first_name,last_name,salary,department)\n",
        "    else:\n",
        "      print(\"No such Id Exists Check the input once\")\n",
        "\n",
        "  elif user_input==5:\n",
        "    empy_id= input(\"Please enter the Employee ID you want to check details for :- \")\n",
        "    print_record_by_id(empy_id)\n",
        "\n",
        "  elif user_input==6:\n",
        "    for k in emp_id_list:\n",
        "      print_record_by_id(k)\n",
        "\n",
        "  elif user_input==7:\n",
        "    save_data(file_name)\n",
        "    print(\"Bye!!\")"
      ],
      "metadata": {
        "id": "YgJZd9Lp5XH6",
        "colab": {
          "base_uri": "https://localhost:8080/"
        },
        "outputId": "708cf04a-efaf-4d90-a6db-9fa66b947fbc"
      },
      "execution_count": 2,
      "outputs": [
        {
          "output_type": "stream",
          "name": "stdout",
          "text": [
            "\n",
            "\n",
            "1) Add Employee\n",
            "2) Remove Employee by id \n",
            "3) Remove Employee by name \n",
            "4) Update Details of Employee by ID \n",
            "5) Display details of Employee by ID \n",
            "6) Display details of ALL Employee\n",
            "7) Exit the EMS system\n",
            "Please enter a Choice between 1-7 :- 1\n",
            "Please enter the first name Shanti\n",
            "Please enter the last name Dhakal\n",
            "Please enter the salary 34556787\n",
            "Please enter the Employee ID 1\n",
            "Please enter the Department sales\n",
            "Record Added Successfully\n",
            "\n",
            "\n",
            "1) Add Employee\n",
            "2) Remove Employee by id \n",
            "3) Remove Employee by name \n",
            "4) Update Details of Employee by ID \n",
            "5) Display details of Employee by ID \n",
            "6) Display details of ALL Employee\n",
            "7) Exit the EMS system\n",
            "Please enter a Choice between 1-7 :- 7\n",
            "Bye!!\n"
          ]
        }
      ]
    },
    {
      "cell_type": "code",
      "source": [
        "# remove employee by id\n",
        "# find if the id exists in the list emp_id_list, if it exists find the index and remove from all lists\n",
        "# if not exists tell user no such ID exists\n",
        "\n",
        "\n",
        "# Update Details of Employee by ID\n",
        "# find the id index in the list\n",
        "# ask for 4 details except id that is firstname,lastname,salary,department\n",
        "# update these details at thay specific index\n",
        "\n",
        "# print details by ID\n",
        "# find index of the id and print details of all parameters"
      ],
      "metadata": {
        "id": "jr9fEH-f5j0T"
      },
      "execution_count": null,
      "outputs": []
    },
    {
      "cell_type": "code",
      "source": [
        "# 5 parameters firstname,lastname,salary,id,department\n",
        "\n",
        "# 1 Add employee (firstname,lastname,salary,id,department)\n",
        "# 2 remove employee by id # 7 employees added find the correct id and remove # 6 will remain\n",
        "# 3 remove employee by name # think about how this can be done\n",
        "# 4 Update Details\n",
        "# 5 print details by ID\n",
        "# 6 print details of all employees\n",
        "# 7 exit"
      ],
      "metadata": {
        "id": "VWj52mZz5nDy"
      },
      "execution_count": null,
      "outputs": []
    },
    {
      "cell_type": "code",
      "source": [],
      "metadata": {
        "id": "n9eNcgZd2Vmh"
      },
      "execution_count": null,
      "outputs": []
    },
    {
      "cell_type": "code",
      "source": [
        "# Remove Employee by name \n",
        "# at first two inputs first name and last name\n",
        "# if 1 record with first and last name found remove directly\n",
        "# if no matching record show user wrong input\n",
        "# match all the records with same name\n",
        "# print out the ids of employees with same name\n",
        "# ask for id which needs to be removed\n",
        "# Both Rohit sharma records and prints their IDS and ask which id is to be removed"
      ],
      "metadata": {
        "id": "Lbjb07wPADRX"
      },
      "execution_count": null,
      "outputs": []
    },
    {
      "cell_type": "code",
      "source": [],
      "metadata": {
        "id": "JxQX_-4YGGti"
      },
      "execution_count": null,
      "outputs": []
    }
  ]
}