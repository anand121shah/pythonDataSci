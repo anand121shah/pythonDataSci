{
  "cells": [
    {
      "cell_type": "code",
      "execution_count": null,
      "metadata": {
        "colab": {
          "base_uri": "https://localhost:8080/"
        },
        "id": "1qVgKlYY9FBW",
        "outputId": "c8f5d5b1-2455-43e1-8be8-6f0dd57e2ba3"
      },
      "outputs": [
        {
          "name": "stdout",
          "output_type": "stream",
          "text": [
            "{'Name0': 0, 'Name1': 1, 'Name2': 2, 'Name3': 3, 'Name4': 4, 'Name5': 5, 'Name6': 6, 'Name7': 7, 'Name8': 8, 'Name9': 9}\n"
          ]
        }
      ],
      "source": [
        "'''Write this dictonary to text file\n",
        "\n",
        "read the data from text file\n",
        "\n",
        "and convert it back to dictoanary'''\n",
        "#{'Name0': 0, 'Name1': 1, 'Name2': 2, 'Name3': 3, 'Name4': 4, 'Name5': 5, 'Name6': 6, 'Name7': 7, 'Name8': 8, 'Name9': 9}\n",
        "\n",
        "\n",
        "temp_dict={}\n",
        "for k in range(10):\n",
        "  temp_dict[\"Name\"+str(k)]=k\n",
        "print(temp_dict)\n"
      ]
    },
    {
      "cell_type": "code",
      "execution_count": null,
      "metadata": {
        "colab": {
          "base_uri": "https://localhost:8080/"
        },
        "id": "xnLrke3EJuPl",
        "outputId": "22b4fcbb-651e-467d-faad-1bc885771359"
      },
      "outputs": [
        {
          "name": "stdout",
          "output_type": "stream",
          "text": [
            "{'Name0': 0, 'Name1': 1, 'Name2': 2, 'Name3': 3, 'Name4': 4, 'Name5': 5, 'Name6': 6, 'Name7': 7, 'Name8': 8, 'Name9': 9}\n"
          ]
        }
      ],
      "source": [
        "print(temp_dict)\n",
        "f=open(\"dictonary.txt\",'w')\n",
        "for key,value  in temp_dict.items():\n",
        "  f.write(str(key)+\",\"+str(value)+\"\\n\")\n",
        "f.close()"
      ]
    },
    {
      "cell_type": "code",
      "execution_count": null,
      "metadata": {
        "colab": {
          "base_uri": "https://localhost:8080/"
        },
        "id": "09g7qSfl-bjK",
        "outputId": "fcbbfc35-96b6-4e40-8cfa-2011778bd7ab"
      },
      "outputs": [
        {
          "name": "stdout",
          "output_type": "stream",
          "text": [
            "each line ['Name0,0', 'Name1,1', 'Name2,2', 'Name3,3', 'Name4,4', 'Name5,5', 'Name6,6', 'Name7,7', 'Name8,8', 'Name9,9', '']\n",
            "{'Name0': 0, 'Name1': 1, 'Name2': 2, 'Name3': 3, 'Name4': 4, 'Name5': 5, 'Name6': 6, 'Name7': 7, 'Name8': 8, 'Name9': 9}\n"
          ]
        }
      ],
      "source": [
        "#dictionary to a text file.\n",
        "empt_dict={}\n",
        "f1=open(\"dictonary.txt\",'r')\n",
        "data=f1.read()\n",
        "each_line=data.split(\"\\n\")\n",
        "print(\"each line\", each_line)\n",
        "for k in each_line[:-1]:\n",
        "  key,value=k.split(\",\")\n",
        "  empt_dict[key]=int(value)\n",
        "print(empt_dict)"
      ]
    },
    {
      "cell_type": "markdown",
      "metadata": {
        "id": "c33XLezpdBma"
      },
      "source": [
        "# 22 May 2023"
      ]
    },
    {
      "cell_type": "code",
      "execution_count": null,
      "metadata": {
        "colab": {
          "base_uri": "https://localhost:8080/"
        },
        "id": "Fo7ChADTcdrj",
        "outputId": "92b3433d-5da2-45f5-fb5f-b85ac8affd36"
      },
      "outputs": [
        {
          "name": "stdout",
          "output_type": "stream",
          "text": [
            "The max speed is 67 and mileage is 45\n"
          ]
        }
      ],
      "source": [
        "#Write a Python program to create a Vehicle class with max_speed and mileage instance attributes.\n",
        "\n",
        "class vehicle:\n",
        "  def __init__(self,max_speed,mileage):\n",
        "    self.max_speed=max_speed\n",
        "    self.mileage=mileage\n",
        "  def print_details(self):\n",
        "    print(\"The max speed is\",self.max_speed,\"and mileage is\", self.mileage )\n",
        "car=vehicle(67,45)\n",
        "car.print_details()"
      ]
    },
    {
      "cell_type": "code",
      "execution_count": null,
      "metadata": {
        "id": "aBUPb9lOF4Hq"
      },
      "outputs": [],
      "source": [
        "#Create a child class Bus that will inherit all of the variables and methods of the Vehicle class\n",
        "class vehicle:#\n",
        "  def __init__(self,max_speed,mileage):\n",
        "    self.max_speed=max_speed\n",
        "    self.mileage=mileage\n",
        "  def print_details(self):\n",
        "    print(\"The max speed is\",self.max_speed,\"and mileage is\", self.mileage )\n",
        "\n",
        "class bus(vehicle):\n",
        "  pass    \n",
        "\n"
      ]
    },
    {
      "cell_type": "code",
      "execution_count": null,
      "metadata": {
        "colab": {
          "base_uri": "https://localhost:8080/"
        },
        "id": "YEzWz0eMhasl",
        "outputId": "0914e389-6cb9-4a61-cdbf-94de7749fae8"
      },
      "outputs": [
        {
          "name": "stdout",
          "output_type": "stream",
          "text": [
            "The max speed is 67 and mileage is 45\n"
          ]
        }
      ],
      "source": [
        "bus1=bus(67,45)\n",
        "bus1.print_details()"
      ]
    },
    {
      "cell_type": "code",
      "execution_count": null,
      "metadata": {
        "colab": {
          "base_uri": "https://localhost:8080/"
        },
        "id": "TjP4duJVuObW",
        "outputId": "116944a3-4a51-4650-f734-cc75173d84e3"
      },
      "outputs": [
        {
          "name": "stdout",
          "output_type": "stream",
          "text": [
            " IT CAME IN INIT FOR CHILD CLASS\n",
            " IT CAME IN INIT FOR PARENT CLASS\n",
            "PARENT CLASS Capacity of Bus :- 50\n",
            "Seating capacity :- 50\n",
            "PARENT CLASS Capacity of Bus :- 100\n",
            "Seating capacity :- 100\n"
          ]
        }
      ],
      "source": [
        "#Create a Bus class that inherits from the Vehicle class. Give the capacity argument of Bus.seating_capacity() a default\n",
        " #value of 50.\n",
        "\n",
        "class Vehicle:\n",
        "    def __init__(self, max_speed, mileage):\n",
        "        #print(\" IT CAME IN INIT FOR PARENT CLASS\")\n",
        "        self.max_speed = max_speed\n",
        "        self.mileage = mileage\n",
        "        \n",
        "    def display(self):\n",
        "      print(\"Max Speed of Bus :-\",self.max_speed)\n",
        "      print(\"Milage of Bus :-\",self.mileage)\n",
        "    \n",
        "    def display_capcity(self,capcity):\n",
        "      print(\"PARENT CLASS Capacity of Bus :-\",capcity)\n",
        "\n",
        "class Bus(Vehicle):\n",
        "    def __init__(self, max_speed, mileage,capacity):\n",
        "      #print(\" IT CAME IN INIT FOR CHILD CLASS\")\n",
        "      capacity=50\n",
        "      super().__init__(max_speed, mileage)\n",
        "      self.capacity=capacity\n",
        "    \n",
        "    def seating_capacity(self):\n",
        "        super().display_capcity(self.capacity)\n",
        "\n",
        "        print(\"Seating capacity :-\",self.capacity)\n",
        "\n",
        "School_bus = Bus(180, 12,50)\n",
        "#School_bus.display()\n",
        "School_bus.seating_capacity()\n",
        "\n",
        "\n",
        "School_bus.capacity=100\n",
        "School_bus.seating_capacity()"
      ]
    },
    {
      "cell_type": "markdown",
      "metadata": {
        "id": "H8GEG4AjqL1M"
      },
      "source": [
        "# or"
      ]
    },
    {
      "cell_type": "code",
      "execution_count": null,
      "metadata": {
        "colab": {
          "base_uri": "https://localhost:8080/"
        },
        "id": "Zdsxg07OqFet",
        "outputId": "dc7a0593-32fd-4bd7-92ec-0ed9ba9deada"
      },
      "outputs": [
        {
          "name": "stdout",
          "output_type": "stream",
          "text": [
            "The max speed is 56 and mileage is 67\n",
            "The seating capacity of this bus is 50 passengers.\n"
          ]
        }
      ],
      "source": [
        "#Create a Bus class that inherits from the Vehicle class. Give the capacity argument of Bus.seating_capacity() a default\n",
        " #value of 50.\n",
        "class Vehicle:\n",
        "    def __init__(self, max_speed,mileage):\n",
        "        self.max_speed = max_speed\n",
        "        self.mileage = mileage\n",
        "\n",
        "    def display_info(self):\n",
        "        print(\"The max speed is\",self.max_speed,\"and mileage is\", self.mileage)\n",
        "\n",
        "\n",
        "class Bus(Vehicle):\n",
        "    def __init__(self, max_speed,mileage):\n",
        "        super().__init__(max_speed,mileage)\n",
        "\n",
        "    def seating_capacity(self, capacity=50):\n",
        "        print(\"The seating capacity of this bus is\", capacity, \"passengers.\")\n",
        "\n",
        "\n",
        "# Example usage\n",
        "my_bus = Bus(\"56\", \"67\")\n",
        "my_bus.display_info()\n",
        "my_bus.seating_capacity()\n",
        "\n",
        "\n"
      ]
    },
    {
      "cell_type": "code",
      "execution_count": null,
      "metadata": {
        "id": "lNAWe63clTHV"
      },
      "outputs": [],
      "source": []
    },
    {
      "cell_type": "markdown",
      "metadata": {
        "id": "c3kjcKEbkRp_"
      },
      "source": [
        "# **23 May 2023**"
      ]
    },
    {
      "cell_type": "code",
      "execution_count": null,
      "metadata": {
        "colab": {
          "base_uri": "https://localhost:8080/"
        },
        "id": "9Dp6XiIikV26",
        "outputId": "e98f4184-19c2-4da8-ec8d-46f2d9d97b60"
      },
      "outputs": [
        {
          "name": "stdout",
          "output_type": "stream",
          "text": [
            "employee id: 1\n",
            "employee name: ram\n",
            "employee salary 100\n",
            "employee departments ABC\n",
            "-----------------------\n",
            "employee id: 2\n",
            "employee name: Shyam\n",
            "employee salary 160\n",
            "employee departments XYZ\n"
          ]
        }
      ],
      "source": [
        "''' 1)Write a Python class Employee with attributes like emp_id, emp_name, emp_salary, and emp_department and methods \n",
        "like calculate_emp_salary, emp_assign_department, and print_employee_details.\n",
        "Use 'assign_department' method to change the department of an employee.\n",
        "Use 'print_employee_details' method to print the details of an employee.\n",
        "Use 'calculate_emp_salary' method takes two arguments: salary and hours_worked, which is the number of hours worked by the employee.'''\n",
        "\n",
        "\n",
        "\n",
        "class employee:\n",
        "  def __init__(self,emp_id,emp_name,emp_salary,emp_department):\n",
        "    self.emp_id=emp_id\n",
        "    self.emp_name=emp_name\n",
        "    self.emp_salary=emp_salary\n",
        "    self.emp_department=emp_department\n",
        "\n",
        "  def calculate_emp_salary(self,salary,hours_worked):\n",
        "    self.salary=salary*hours_worked\n",
        "\n",
        "  def emp_assign_department(self,new_department):\n",
        "      self.emp_department=new_department\n",
        "\n",
        "  def print_employee_details(self):\n",
        "    print(\"employee id:\",self.emp_id)\n",
        "    print(\"employee name:\",self.emp_name)\n",
        "    print(\"employee salary\",self.emp_salary)\n",
        "    print(\"employee departments\",self.emp_department)\n",
        "\n",
        "\n",
        "employee1=employee(1,\"ram\",100,\"ABC\") \n",
        "employee2=employee(2,\"Shyam\",160,\"XYZ\")\n",
        "employee1.print_employee_details()\n",
        "print(\"-----------------------\")\n",
        "employee2.print_employee_details()\n"
      ]
    },
    {
      "cell_type": "code",
      "execution_count": null,
      "metadata": {
        "colab": {
          "base_uri": "https://localhost:8080/"
        },
        "id": "GqAyIAr7u71I",
        "outputId": "e2c2af21-2449-4ae6-ca1e-5fdbeefde792"
      },
      "outputs": [
        {
          "name": "stdout",
          "output_type": "stream",
          "text": [
            "employee id: 1\n",
            "employee name: ram\n",
            "employee salary 100\n",
            "employee departments Sales\n"
          ]
        }
      ],
      "source": [
        "employee1.emp_assign_department(\"Sales\")# we change the department of employee1 to sales.\n",
        "\n",
        "employee1.print_employee_details()"
      ]
    },
    {
      "cell_type": "code",
      "execution_count": null,
      "metadata": {
        "id": "A3Nzz6FA2ro4"
      },
      "outputs": [],
      "source": []
    }
  ],
  "metadata": {
    "colab": {
      "provenance": []
    },
    "kernelspec": {
      "display_name": "Python 3",
      "name": "python3"
    },
    "language_info": {
      "name": "python"
    }
  },
  "nbformat": 4,
  "nbformat_minor": 0
}