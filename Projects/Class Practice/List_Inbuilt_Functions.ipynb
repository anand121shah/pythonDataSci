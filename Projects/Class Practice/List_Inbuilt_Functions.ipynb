{
  "nbformat": 4,
  "nbformat_minor": 0,
  "metadata": {
    "colab": {
      "provenance": []
    },
    "kernelspec": {
      "name": "python3",
      "display_name": "Python 3"
    },
    "language_info": {
      "name": "python"
    }
  },
  "cells": [
    {
      "cell_type": "code",
      "execution_count": null,
      "metadata": {
        "id": "7HL9MosV1Pc2",
        "colab": {
          "base_uri": "https://localhost:8080/"
        },
        "outputId": "bf5d1995-bc6e-4cc3-daa1-4d62b86f85db"
      },
      "outputs": [
        {
          "output_type": "execute_result",
          "data": {
            "text/plain": [
              "[1, 88, 3, 4, 5, 6]"
            ]
          },
          "metadata": {},
          "execution_count": 1
        }
      ],
      "source": [
        "# LIST ARE MUTABLE\n",
        "list_demo=[1,2,3,4,5,6]\n",
        "list_demo[1]=88\n",
        "list_demo"
      ]
    },
    {
      "cell_type": "code",
      "source": [
        "# Append function helps us add value at the last index of string\n",
        "list_demo.append(\"Hello\")\n",
        "list_demo"
      ],
      "metadata": {
        "id": "AgMIMt892Gpo",
        "colab": {
          "base_uri": "https://localhost:8080/"
        },
        "outputId": "156fceed-16ec-4154-98c4-452f68370b6c"
      },
      "execution_count": null,
      "outputs": [
        {
          "output_type": "execute_result",
          "data": {
            "text/plain": [
              "[1, 88, 3, 4, 5, 6, 'Hello']"
            ]
          },
          "metadata": {},
          "execution_count": 2
        }
      ]
    },
    {
      "cell_type": "code",
      "source": [
        "# 1 data type for sorting\n",
        "list_demo=[1,42,3,88,5,6]\n",
        "list_demo.sort(reverse=True)\n",
        "list_demo"
      ],
      "metadata": {
        "id": "xf5yvbqc2JGw",
        "colab": {
          "base_uri": "https://localhost:8080/"
        },
        "outputId": "6deca65b-d095-4359-ac67-5253946d25cf"
      },
      "execution_count": null,
      "outputs": [
        {
          "output_type": "execute_result",
          "data": {
            "text/plain": [
              "[88, 42, 6, 5, 3, 1]"
            ]
          },
          "metadata": {},
          "execution_count": 10
        }
      ]
    },
    {
      "cell_type": "code",
      "source": [
        "# 1 data type for sorting\n",
        "list_demo=['b','c','a','d','1','2']\n",
        "list_demo.sort()\n",
        "list_demo"
      ],
      "metadata": {
        "id": "Y8GVcCpW2KiY",
        "colab": {
          "base_uri": "https://localhost:8080/"
        },
        "outputId": "56b33f06-3368-48c3-e226-317927f903d5"
      },
      "execution_count": null,
      "outputs": [
        {
          "output_type": "execute_result",
          "data": {
            "text/plain": [
              "['1', '2', 'a', 'b', 'c', 'd']"
            ]
          },
          "metadata": {},
          "execution_count": 4
        }
      ]
    },
    {
      "cell_type": "code",
      "source": [
        "list_demo=['b','c','a','d','1','2']\n",
        "list_demo_2=['hello','Python']\n",
        "list_demo.append(list_demo_2)\n",
        "print(list_demo)\n",
        "# You can compare two types of datatype"
      ],
      "metadata": {
        "colab": {
          "base_uri": "https://localhost:8080/"
        },
        "id": "5bpGX0sr2XnI",
        "outputId": "03a19b8f-5337-4c2d-b176-f8dba4b555e1"
      },
      "execution_count": null,
      "outputs": [
        {
          "output_type": "stream",
          "name": "stdout",
          "text": [
            "['b', 'c', 'a', 'd', '1', '2', ['hello', 'Python']]\n"
          ]
        }
      ]
    },
    {
      "cell_type": "code",
      "source": [
        "list_demo=['b','c','a','d','1','2']\n",
        "list_demo_2=['hello','Python']\n",
        "list_demo.extend(list_demo_2)\n",
        "print(list_demo)\n",
        "list_demo.sort()\n",
        "print(list_demo)"
      ],
      "metadata": {
        "colab": {
          "base_uri": "https://localhost:8080/"
        },
        "id": "IeT10fAK26Rf",
        "outputId": "9c26640d-2a19-4c1d-8edc-22b1172a3ef8"
      },
      "execution_count": null,
      "outputs": [
        {
          "output_type": "stream",
          "name": "stdout",
          "text": [
            "['b', 'c', 'a', 'd', '1', '2', 'hello', 'Python']\n",
            "['1', '2', 'Python', 'a', 'b', 'c', 'd', 'hello']\n"
          ]
        }
      ]
    },
    {
      "cell_type": "code",
      "source": [
        "list_demo=['b','c','a','d','1','2']\n",
        "list_demo.reverse()\n",
        "print(list_demo)"
      ],
      "metadata": {
        "id": "LjrLhpNf3gAa",
        "colab": {
          "base_uri": "https://localhost:8080/"
        },
        "outputId": "bec54bdf-eec3-4ec1-bb66-03e4b43d72eb"
      },
      "execution_count": null,
      "outputs": [
        {
          "output_type": "stream",
          "name": "stdout",
          "text": [
            "['2', '1', 'd', 'a', 'c', 'b']\n"
          ]
        }
      ]
    },
    {
      "cell_type": "code",
      "source": [
        "#\n",
        "list_demo=[1,2,3,4,5,6,7,8,1,2,11,1,0]\n",
        "print(list_demo.count(13))"
      ],
      "metadata": {
        "colab": {
          "base_uri": "https://localhost:8080/"
        },
        "id": "owJkhB79x6ne",
        "outputId": "1ac00135-ce1e-4be9-cfd9-d55b38d64196"
      },
      "execution_count": null,
      "outputs": [
        {
          "output_type": "stream",
          "name": "stdout",
          "text": [
            "0\n"
          ]
        }
      ]
    },
    {
      "cell_type": "code",
      "source": [
        "list_demo=[1,2,3,4,5,6,7,8,1,2,11,1,0]\n",
        "list_demo1_copy=list_demo.copy()\n",
        "list_demo2_copy=list_demo\n",
        "list_demo[0]=0\n",
        "print(list_demo1_copy)\n",
        "print(list_demo)\n",
        "print(list_demo2_copy)"
      ],
      "metadata": {
        "colab": {
          "base_uri": "https://localhost:8080/"
        },
        "id": "jqdp3j7zyRPH",
        "outputId": "7635f8e3-9ea4-48f0-df08-9ff70031c11c"
      },
      "execution_count": null,
      "outputs": [
        {
          "output_type": "stream",
          "name": "stdout",
          "text": [
            "[1, 2, 3, 4, 5, 6, 7, 8, 1, 2, 11, 1, 0]\n",
            "[0, 2, 3, 4, 5, 6, 7, 8, 1, 2, 11, 1, 0]\n",
            "[0, 2, 3, 4, 5, 6, 7, 8, 1, 2, 11, 1, 0]\n"
          ]
        }
      ]
    },
    {
      "cell_type": "code",
      "source": [
        "# finds the lowest index of the value in list\n",
        "list_demo=[1,2,3,4,5,6,7,8,1,2,11,1,0]\n",
        "print(list_demo.index(2))"
      ],
      "metadata": {
        "colab": {
          "base_uri": "https://localhost:8080/"
        },
        "id": "aN9h19B0zIun",
        "outputId": "8f281322-1786-4c26-dbcb-b6b04623b2e8"
      },
      "execution_count": null,
      "outputs": [
        {
          "output_type": "stream",
          "name": "stdout",
          "text": [
            "1\n"
          ]
        }
      ]
    },
    {
      "cell_type": "code",
      "source": [
        "list_demo=[1,2,3,4,5,6,7,8,1,2,11,1,0]\n",
        "# POP REMOVES FROM LAST IF NO VALUE, If a value is entered it removed from that index\n",
        "list_demo.pop()\n",
        "list_demo"
      ],
      "metadata": {
        "colab": {
          "base_uri": "https://localhost:8080/"
        },
        "id": "8XZfJMifzid-",
        "outputId": "1bed6e68-9ac2-4bf0-9e9c-15f9988fe574"
      },
      "execution_count": null,
      "outputs": [
        {
          "output_type": "execute_result",
          "data": {
            "text/plain": [
              "[1, 2, 3, 4, 5, 6, 7, 8, 1, 2, 11, 1]"
            ]
          },
          "metadata": {},
          "execution_count": 31
        }
      ]
    },
    {
      "cell_type": "code",
      "source": [
        "tuple_demo={1,2,2}\n",
        "print(tuple_demo)"
      ],
      "metadata": {
        "colab": {
          "base_uri": "https://localhost:8080/"
        },
        "id": "yiHt1iy0z-sP",
        "outputId": "59dc9c86-7967-48ab-c7ae-b290b704ea5b"
      },
      "execution_count": null,
      "outputs": [
        {
          "output_type": "stream",
          "name": "stdout",
          "text": [
            "{1, 2}\n"
          ]
        }
      ]
    },
    {
      "cell_type": "code",
      "source": [
        "list_demo=[1,2,3,4,5,6,7,8,1,2,11,1,0]\n",
        "print(tuple(list_demo))"
      ],
      "metadata": {
        "colab": {
          "base_uri": "https://localhost:8080/"
        },
        "id": "9XWeoK9P0slN",
        "outputId": "fc4c405c-c9c2-44b1-e157-bc4a3a01257a"
      },
      "execution_count": null,
      "outputs": [
        {
          "output_type": "stream",
          "name": "stdout",
          "text": [
            "<class 'tuple'>\n"
          ]
        }
      ]
    },
    {
      "cell_type": "code",
      "source": [
        "list_demo=['Harry',\"Potter\",'and','The','goblet',\"of\",'Fire']\n",
        "\n",
        "# +ve indexing +ve slicing (left to right)\n",
        "print(list_demo[0:len(list_demo):1])\n",
        "\n",
        "# -ve indexing -ve slicing (right to left)\n",
        "print(list_demo[-1:-(len(list_demo)+1):-1])\n",
        "\n",
        "# +ve indexing -ve slicing (right to left)\n",
        "print(list_demo[6::-1])\n",
        "\n",
        "# -ve indexing +ve slicing (left to right)\n",
        "print(list_demo[-7::1])"
      ],
      "metadata": {
        "colab": {
          "base_uri": "https://localhost:8080/"
        },
        "id": "KLWaZKZ16fEX",
        "outputId": "94977e4d-a91c-44c6-ff05-d95355294661"
      },
      "execution_count": null,
      "outputs": [
        {
          "output_type": "stream",
          "name": "stdout",
          "text": [
            "['Harry', 'Potter', 'and', 'The', 'goblet', 'of', 'Fire']\n",
            "['Fire', 'of', 'goblet', 'The', 'and', 'Potter', 'Harry']\n",
            "['Fire', 'of', 'goblet', 'The', 'and', 'Potter', 'Harry']\n",
            "['Harry', 'Potter', 'and', 'The', 'goblet', 'of', 'Fire']\n"
          ]
        }
      ]
    },
    {
      "cell_type": "code",
      "source": [
        "# WAP TO FIND COUNT OF ALL ELEMENTS IN A STRING\n",
        "\n",
        "string_question1=\"hello my friend how are you doing today\"\n",
        "string_question1=string_question1.replace(\" \",\"\")\n",
        "print(string_question1)\n",
        "print(set(string_question1))\n",
        "print(string_question1.count('o'))\n",
        "print(string_question1.count('y'))\n",
        "print(string_question1.count('f'))\n",
        "print(string_question1.count('r'))\n",
        "print(string_question1.count('a'))\n",
        "print(string_question1.count('l'))\n",
        "print(string_question1.count('d'))\n",
        "print(string_question1.count('i'))\n",
        "print(string_question1.count('w'))\n",
        "print(string_question1.count('g'))\n",
        "print(string_question1.count('n'))\n",
        "print(string_question1.count('h'))\n",
        "print(string_question1.count('t'))\n",
        "print(string_question1.count('m'))\n",
        "print(string_question1.count('e'))\n",
        "print(string_question1.count('u'))"
      ],
      "metadata": {
        "colab": {
          "base_uri": "https://localhost:8080/"
        },
        "id": "hL_l-6bZ1J0W",
        "outputId": "6227bf7e-aad0-4cad-e884-f90309fe6f77"
      },
      "execution_count": null,
      "outputs": [
        {
          "output_type": "stream",
          "name": "stdout",
          "text": [
            "hellomyfriendhowareyoudoingtoday\n",
            "{'o', 'y', 'f', 'r', 'a', 'l', 'd', 'i', 'w', 'g', 'n', 'h', 't', 'm', 'e', 'u'}\n",
            "5\n",
            "3\n",
            "1\n",
            "2\n",
            "2\n",
            "2\n",
            "3\n",
            "2\n",
            "1\n",
            "1\n",
            "2\n",
            "2\n",
            "1\n",
            "1\n",
            "3\n",
            "1\n"
          ]
        }
      ]
    },
    {
      "cell_type": "code",
      "source": [
        "# FIND THE LARGEST NUMBER IN THE LIST\n",
        "a=[1,10,18,19,66,101,85]\n",
        "a.sort()\n",
        "print(a[-1])"
      ],
      "metadata": {
        "colab": {
          "base_uri": "https://localhost:8080/"
        },
        "id": "HE8ugI0v86Wc",
        "outputId": "8218fb4c-318f-4e3e-8488-b81f26f0511b"
      },
      "execution_count": null,
      "outputs": [
        {
          "output_type": "stream",
          "name": "stdout",
          "text": [
            "101\n"
          ]
        }
      ]
    },
    {
      "cell_type": "code",
      "source": [
        "a=[1,10,18,19,66,101,85]\n",
        "b=[1,2,6,8,9]\n",
        "print(a+b)"
      ],
      "metadata": {
        "colab": {
          "base_uri": "https://localhost:8080/"
        },
        "id": "7Ztwbo_e_NFu",
        "outputId": "b731cdda-1f3b-40c5-d081-2e008dce9c26"
      },
      "execution_count": null,
      "outputs": [
        {
          "output_type": "stream",
          "name": "stdout",
          "text": [
            "[1, 10, 18, 19, 66, 101, 85, 1, 2, 6, 8, 9]\n"
          ]
        }
      ]
    },
    {
      "cell_type": "code",
      "source": [
        "list_str=['Harry',\"potter\",\"and\",\"the\",\"goblet\",\"of\",\"fire\"]\n",
        "' '.join(list_str)\n",
        "# take 1 first value +\"string\" + 2nd value"
      ],
      "metadata": {
        "colab": {
          "base_uri": "https://localhost:8080/",
          "height": 35
        },
        "id": "3JWX8hK2_b6i",
        "outputId": "308176dc-5303-4335-d9ad-00546165e5a4"
      },
      "execution_count": null,
      "outputs": [
        {
          "output_type": "execute_result",
          "data": {
            "text/plain": [
              "'Harry$potter$and$the$goblet$of$fire'"
            ],
            "application/vnd.google.colaboratory.intrinsic+json": {
              "type": "string"
            }
          },
          "metadata": {},
          "execution_count": 64
        }
      ]
    },
    {
      "cell_type": "code",
      "source": [
        "# change to su=you then print out as a string with space in between\n",
        "demo_tuple=(\"Hey\",\"How\",'are',\"su\")\n",
        "demo_tuple=' '.join(demo_tuple)\n",
        "print(demo_tuple.replace('su','you'))"
      ],
      "metadata": {
        "colab": {
          "base_uri": "https://localhost:8080/"
        },
        "id": "xjAmg72uC_Hr",
        "outputId": "fdd703ef-c53f-4608-a5d7-703feca96555"
      },
      "execution_count": null,
      "outputs": [
        {
          "output_type": "stream",
          "name": "stdout",
          "text": [
            "Hey How are you\n"
          ]
        }
      ]
    },
    {
      "cell_type": "code",
      "source": [
        "# change to su=you then print out as a string with space in between\n",
        "demo_tuple=(\"Hey\",\"How\",'are',\"su\")\n",
        "demo_tuple=' '.join(demo_tuple)\n",
        "print(demo_tuple.replace('su','you'))"
      ],
      "metadata": {
        "id": "88iWJwPgFO8K"
      },
      "execution_count": null,
      "outputs": []
    },
    {
      "cell_type": "code",
      "source": [
        "\"\"\"\n",
        "1) a=[1,2,3,4,5,6,7,8] Divide this list in two equal paths\n",
        "\n",
        "2) c=[1,2,3,4,5,1,2,3,'a','b',['h','a']] find count of all elements in this list\n",
        "\n",
        "3) Write a Python program to reverse a string \"11abcdeghsuyy\"\n",
        "\n",
        "4) Write a program to insert number 88 on 2nd index of this list and number on 2nd index should move to last index of the list\n",
        "\n",
        " a=[1,2,3,4,5,7] Expected Output= [1,2,88,4,5,7,3]\n",
        "\"\"\""
      ],
      "metadata": {
        "id": "1KY3ZQ621D3p"
      },
      "execution_count": null,
      "outputs": []
    },
    {
      "cell_type": "code",
      "source": [
        "# 1) a=[1,2,3,4,5,6,7,8] Divide this list in two equal paths\n",
        "a=[1,2,3,4,5,6,7,8]\n",
        "print(a[0:len(a)//2])\n",
        "print(a[len(a)//2:len(a)])"
      ],
      "metadata": {
        "colab": {
          "base_uri": "https://localhost:8080/"
        },
        "id": "z_7PCxxC1MNg",
        "outputId": "05471b2c-6836-4702-e084-ef6b33133842"
      },
      "execution_count": null,
      "outputs": [
        {
          "output_type": "stream",
          "name": "stdout",
          "text": [
            "[1, 2, 3, 4]\n",
            "[5, 6, 7, 8]\n"
          ]
        }
      ]
    },
    {
      "cell_type": "code",
      "source": [
        "# Write a Python program to reverse a string \"11abcdeghsuyy\"\n",
        "string_temp=\"11abcdeghsuyy\"\n",
        "\n",
        "print(string_temp[len(string_temp)::-1])"
      ],
      "metadata": {
        "colab": {
          "base_uri": "https://localhost:8080/"
        },
        "id": "cGgM9wjg12cB",
        "outputId": "4b982076-c696-4528-db46-4a01f9677597"
      },
      "execution_count": null,
      "outputs": [
        {
          "output_type": "stream",
          "name": "stdout",
          "text": [
            "yyushgedcba11\n"
          ]
        }
      ]
    },
    {
      "cell_type": "code",
      "source": [
        "# c=[1,2,3,4,5,1,2,3,'a','b',['h','a']] find count of all elements in this list\n",
        "c=[1,2,3,4,5,1,2,3,'a','b',['h','a']]\n",
        "poped_list=c.pop()\n",
        "print(\"POP RETURNED \",poped_list)\n",
        "print(\"CHANGED C AFTER POP \",c)\n",
        "#c.extend(poped_list)\n",
        "c=c+poped_list\n",
        "\n",
        "print(\" THE EXTENDED LIST \",c)\n",
        "print(set(c))\n",
        "print(c.count(1))\n",
        "print(c.count(2))\n",
        "print(c.count(4))\n",
        "print(c.count(5))\n",
        "print(c.count(3))\n",
        "print(c.count('h'))\n",
        "print(c.count('a'))\n",
        "print(c.count('b'))"
      ],
      "metadata": {
        "colab": {
          "base_uri": "https://localhost:8080/"
        },
        "id": "LhIYI2SS2Zmo",
        "outputId": "24a4ebe5-9584-450b-9a13-92c51064bf23"
      },
      "execution_count": null,
      "outputs": [
        {
          "output_type": "stream",
          "name": "stdout",
          "text": [
            "POP RETURNED  ['h', 'a']\n",
            "CHANGED C AFTER POP  [1, 2, 3, 4, 5, 1, 2, 3, 'a', 'b']\n",
            " THE EXTENDED LIST  [1, 2, 3, 4, 5, 1, 2, 3, 'a', 'b', 'h', 'a']\n",
            "{1, 2, 3, 4, 5, 'h', 'a', 'b'}\n",
            "2\n",
            "2\n",
            "1\n",
            "1\n",
            "2\n",
            "1\n",
            "2\n",
            "1\n"
          ]
        }
      ]
    },
    {
      "cell_type": "code",
      "source": [
        "\"\"\"\n",
        "4) Write a program to insert number 88 on 2nd index of this list and number on 2nd index should move to last index of the list\n",
        "\n",
        " a=[1,2,3,4,5,7] Expected Output= [1,2,88,4,5,7,3]\n",
        "\"\"\"\n",
        "# removes works on values pop works on index\n",
        "a=[1,2,3,4,5,7]\n",
        "poppped_value=a.pop(2)\n",
        "print(\"POPPED LIST \",a)\n",
        "a.insert(2,88)\n",
        "print(\"AFTER INSERTION \",a)\n",
        "a.append(poppped_value)\n",
        "print(\"FINAL OUTPUT \",a)"
      ],
      "metadata": {
        "colab": {
          "base_uri": "https://localhost:8080/"
        },
        "id": "Xpz4sqBS4xrI",
        "outputId": "c1f2b299-0f5c-4ebc-855d-2cdc126cf3f3"
      },
      "execution_count": null,
      "outputs": [
        {
          "output_type": "stream",
          "name": "stdout",
          "text": [
            "POPPED LIST  [1, 2, 4, 5, 7]\n",
            "AFTER INSERTION  [1, 2, 88, 4, 5, 7]\n",
            "FINAL OUTPUT  [1, 2, 88, 4, 5, 7, 3]\n"
          ]
        }
      ]
    },
    {
      "cell_type": "code",
      "source": [
        "age=17\n",
        "if age>=18:\n",
        " print(\"Valid\")\n",
        "else:\n",
        " print(\"INVALID\")\n"
      ],
      "metadata": {
        "colab": {
          "base_uri": "https://localhost:8080/"
        },
        "id": "mq8OcbaQA3GC",
        "outputId": "6405b4c3-65d3-4f6c-9264-8345a9c3adee"
      },
      "execution_count": null,
      "outputs": [
        {
          "output_type": "stream",
          "name": "stdout",
          "text": [
            "INVALID\n"
          ]
        }
      ]
    },
    {
      "cell_type": "code",
      "source": [
        "num=77\n",
        "if (num)%7==0:\n",
        "  print(\"Number is divisble by 7\")\n",
        "else:\n",
        "  print(\"Number not divisble by 7\")"
      ],
      "metadata": {
        "colab": {
          "base_uri": "https://localhost:8080/"
        },
        "id": "1rgpeM7WEGah",
        "outputId": "0d13837f-3f2b-4fb7-c7a2-24e23d4ad435"
      },
      "execution_count": null,
      "outputs": [
        {
          "output_type": "stream",
          "name": "stdout",
          "text": [
            "Number is divisble by 7\n"
          ]
        }
      ]
    },
    {
      "cell_type": "code",
      "source": [
        "num=55\n",
        "if (num)%2==0:\n",
        "  print(\"Number is even\")\n",
        "else:\n",
        "  print(\"Number is odd\")"
      ],
      "metadata": {
        "colab": {
          "base_uri": "https://localhost:8080/"
        },
        "id": "BH2oKbfoESfA",
        "outputId": "af2666b2-55fb-40cb-f7cf-584332046cb9"
      },
      "execution_count": null,
      "outputs": [
        {
          "output_type": "stream",
          "name": "stdout",
          "text": [
            "Number is odd\n"
          ]
        }
      ]
    },
    {
      "cell_type": "code",
      "source": [
        "### / returns float // returns\n",
        "print(9/2) # float\n",
        "print(9//2) # integer int(4.5)"
      ],
      "metadata": {
        "colab": {
          "base_uri": "https://localhost:8080/"
        },
        "id": "TZAaV6AQEhvQ",
        "outputId": "1e1e8771-b7f7-4f0e-f7d8-24161adf60a3"
      },
      "execution_count": null,
      "outputs": [
        {
          "output_type": "stream",
          "name": "stdout",
          "text": [
            "4.5\n",
            "4\n"
          ]
        }
      ]
    },
    {
      "cell_type": "code",
      "source": [
        "num=59\n",
        "if (num)%5==0:\n",
        "  print(\"Hello\")\n",
        "else:\n",
        "  print(\"Bye\")"
      ],
      "metadata": {
        "colab": {
          "base_uri": "https://localhost:8080/"
        },
        "id": "2FDjQbUTGKAP",
        "outputId": "09ea0a63-07bd-4201-a07b-d533fb213a85"
      },
      "execution_count": null,
      "outputs": [
        {
          "output_type": "stream",
          "name": "stdout",
          "text": [
            "Bye\n"
          ]
        }
      ]
    },
    {
      "cell_type": "code",
      "source": [
        "\"\"\"\n",
        "Write a program to calculate electricity bill according to following criteria\n",
        "\n",
        " \n",
        "\n",
        "First 100 units                     No Charge\n",
        "\n",
        "Next 100 units                     5 rupees per unit\n",
        "\n",
        "After 200 Units                     10 rupees per unit\n",
        "\"\"\"\n",
        "\n",
        "# 100 >>>0 100*5>>>>>500  150*10>>>>>1500\n",
        "units=350\n",
        "if units<=100:\n",
        "  print(0)\n",
        "elif units>100 and units<=200:\n",
        "  #if its 150 units we will be charged for 50 units\n",
        "  print((units-100)*5)\n",
        "elif units>200:\n",
        "  print(500+(units-200)*10)"
      ],
      "metadata": {
        "colab": {
          "base_uri": "https://localhost:8080/"
        },
        "id": "QqgV-d10NCvc",
        "outputId": "fb6dd06f-214f-4c05-e60f-d148304e51a4"
      },
      "execution_count": null,
      "outputs": [
        {
          "output_type": "stream",
          "name": "stdout",
          "text": [
            "2000\n"
          ]
        }
      ]
    },
    {
      "cell_type": "code",
      "source": [
        "upper=7\n",
        "for num in range(2, upper):\n",
        "  for i in range(2, num):\n",
        "      if (num % i) == 0:\n",
        "          break\n",
        "  else:\n",
        "      print(num)"
      ],
      "metadata": {
        "colab": {
          "base_uri": "https://localhost:8080/"
        },
        "id": "0P4Aj8bEmUE3",
        "outputId": "a6dc53fa-f8d5-44ef-9a0a-94345c13df62"
      },
      "execution_count": null,
      "outputs": [
        {
          "output_type": "stream",
          "name": "stdout",
          "text": [
            "2\n",
            "3\n",
            "5\n"
          ]
        }
      ]
    },
    {
      "cell_type": "code",
      "source": [
        "\"\"\"\n",
        "\n",
        "1) Calculate the sum of all numbers from 1 to a given number\n",
        "\n",
        "2) Write a program to print multiplication table of a given number\n",
        "\n",
        "3) Count the total number of digits in a number # 555 has 3 digits\n",
        "\n",
        "4) Reverse a given integer number\n",
        "\n",
        "5) Calculate the cube of all numbers from 1 to a given number\n",
        "\n",
        "\"\"\""
      ],
      "metadata": {
        "colab": {
          "base_uri": "https://localhost:8080/",
          "height": 54
        },
        "id": "G6GVNHDLnncf",
        "outputId": "404fdb46-cd31-480c-fdba-8b4a8aef07a7"
      },
      "execution_count": null,
      "outputs": [
        {
          "output_type": "execute_result",
          "data": {
            "text/plain": [
              "'1) Calculate the sum of all numbers from 1 to a given number\\n\\n2) Write a program to print multiplication table of a given number\\n\\n3) Count the total number of digits in a number\\n\\n4) Reverse a given integer number\\n\\n5) Calculate the cube of all numbers from 1 to a given number\\n\\n\\n'"
            ],
            "application/vnd.google.colaboratory.intrinsic+json": {
              "type": "string"
            }
          },
          "metadata": {},
          "execution_count": 6
        }
      ]
    },
    {
      "cell_type": "code",
      "source": [
        "n=5\n",
        "sum=0\n",
        "\n",
        "for k in range(1,n+1):\n",
        "  sum=sum+k\n",
        "\n",
        "print(sum)"
      ],
      "metadata": {
        "id": "3qZukkwdn6FJ",
        "colab": {
          "base_uri": "https://localhost:8080/"
        },
        "outputId": "a9df70f7-ae86-4ceb-d4fb-4a5143cb259a"
      },
      "execution_count": null,
      "outputs": [
        {
          "output_type": "stream",
          "name": "stdout",
          "text": [
            "15\n"
          ]
        }
      ]
    },
    {
      "cell_type": "code",
      "source": [
        "n=653\n",
        "len(str(n))"
      ],
      "metadata": {
        "id": "77AAipx7fWSU"
      },
      "execution_count": null,
      "outputs": []
    },
    {
      "cell_type": "code",
      "source": [
        "a=5\n",
        "while a>=0:\n",
        "  print(\"value of a in this iteration is\",a)\n",
        "  a=a-1\n",
        "  print(\"Hey\")"
      ],
      "metadata": {
        "colab": {
          "base_uri": "https://localhost:8080/"
        },
        "id": "CXA03miiiQyl",
        "outputId": "111d9d14-5aa8-46a3-cf3e-4ea2ce8bf4da"
      },
      "execution_count": null,
      "outputs": [
        {
          "output_type": "stream",
          "name": "stdout",
          "text": [
            "value of a in this iteration is 5\n",
            "Hey\n",
            "value of a in this iteration is 4\n",
            "Hey\n",
            "value of a in this iteration is 3\n",
            "Hey\n",
            "value of a in this iteration is 2\n",
            "Hey\n",
            "value of a in this iteration is 1\n",
            "Hey\n",
            "value of a in this iteration is 0\n",
            "Hey\n"
          ]
        }
      ]
    },
    {
      "cell_type": "code",
      "source": [
        "a=5\n",
        "while a>=0:\n",
        "  #print(\"value of a in this iteration is\",a)\n",
        "  if a==2:\n",
        "    break\n",
        "  else:\n",
        "    print(a)\n",
        "  a=a-1  \n",
        "\n",
        "\n",
        "# 1st iteration 5 a=a-1  a=4 now\n",
        "# 2nd iteration 4 a=a-1  a=3 now\n",
        "# 3rd iteration 3 a=a-1  a=2 now"
      ],
      "metadata": {
        "colab": {
          "base_uri": "https://localhost:8080/"
        },
        "id": "2B-keqX4l5Hb",
        "outputId": "6dc92d7b-7008-431f-a484-d49518290593"
      },
      "execution_count": null,
      "outputs": [
        {
          "output_type": "stream",
          "name": "stdout",
          "text": [
            "5\n",
            "4\n",
            "3\n"
          ]
        }
      ]
    },
    {
      "cell_type": "code",
      "source": [
        "a=5\n",
        "while a>=0:\n",
        "  #print(\"value of a in this iteration is\",a)\n",
        "  a=a-1 \n",
        "  if a==2:\n",
        "    print(\"Value of A was 2 here\")\n",
        "    continue\n",
        "  else:\n",
        "    print(a)\n",
        "   \n",
        "# coninue falls back to while loop directly ignoring stuff below"
      ],
      "metadata": {
        "colab": {
          "base_uri": "https://localhost:8080/"
        },
        "id": "V5PIdpo2oS5U",
        "outputId": "e2beaf95-2465-4fd7-8e29-254b4427604d"
      },
      "execution_count": null,
      "outputs": [
        {
          "output_type": "stream",
          "name": "stdout",
          "text": [
            "4\n",
            "3\n",
            "Value of A was 2 here\n",
            "1\n",
            "0\n"
          ]
        }
      ]
    },
    {
      "cell_type": "code",
      "source": [],
      "metadata": {
        "id": "jdjRx43ipZ90"
      },
      "execution_count": null,
      "outputs": []
    },
    {
      "cell_type": "code",
      "source": [
        "a=4\n",
        "for i in range(5):\n",
        "  print(\"hello\")\n",
        "  a=a-1\n",
        "  print(\"Bye\")"
      ],
      "metadata": {
        "colab": {
          "base_uri": "https://localhost:8080/"
        },
        "id": "eCbmq43pp_7D",
        "outputId": "441b1e20-202c-46d7-e407-9f87c6f700b7"
      },
      "execution_count": null,
      "outputs": [
        {
          "output_type": "stream",
          "name": "stdout",
          "text": [
            "hello\n",
            "Bye\n",
            "hello\n",
            "Bye\n",
            "hello\n",
            "Bye\n",
            "hello\n",
            "Bye\n",
            "hello\n",
            "Bye\n"
          ]
        }
      ]
    },
    {
      "cell_type": "code",
      "source": [
        "a_str =\"abcd\"\n",
        "# len() returns the length of the string\n",
        "for k in range(len(a_str)): # 0,4,1\n",
        "  # 0 ,1,2,3\n",
        "  print(a_str[k])"
      ],
      "metadata": {
        "colab": {
          "base_uri": "https://localhost:8080/"
        },
        "id": "9vl-dgEkqyzc",
        "outputId": "75e9ff4c-5259-4d99-dde6-62b88438afe2"
      },
      "execution_count": null,
      "outputs": [
        {
          "output_type": "stream",
          "name": "stdout",
          "text": [
            "a\n",
            "b\n",
            "c\n",
            "d\n"
          ]
        }
      ]
    },
    {
      "cell_type": "code",
      "source": [
        "a_str =\"abcd\"\n",
        "for k in a_str:\n",
        "  print(k)"
      ],
      "metadata": {
        "colab": {
          "base_uri": "https://localhost:8080/"
        },
        "id": "u2a6t2RZrjUK",
        "outputId": "8b83a4a3-1865-4ed1-9cf4-0f560582308b"
      },
      "execution_count": null,
      "outputs": [
        {
          "output_type": "stream",
          "name": "stdout",
          "text": [
            "a\n",
            "b\n",
            "c\n",
            "d\n"
          ]
        }
      ]
    },
    {
      "cell_type": "code",
      "source": [
        "for k in [\"abcd\",'b','d','e']:\n",
        "  print(k)"
      ],
      "metadata": {
        "colab": {
          "base_uri": "https://localhost:8080/"
        },
        "id": "sjr3LZ7HsIGq",
        "outputId": "01ac1c49-081d-4447-97da-dbc7a3360265"
      },
      "execution_count": null,
      "outputs": [
        {
          "output_type": "stream",
          "name": "stdout",
          "text": [
            "abcd\n",
            "b\n",
            "d\n",
            "e\n"
          ]
        }
      ]
    },
    {
      "cell_type": "code",
      "source": [
        "a_str =[\"abcd\",'b','d','e']\n",
        "for k in range(len(a_str)):\n",
        "  print(k)"
      ],
      "metadata": {
        "colab": {
          "base_uri": "https://localhost:8080/"
        },
        "id": "EZsGIs-FscIL",
        "outputId": "6541632f-3043-4faa-c4a9-f86487d12622"
      },
      "execution_count": null,
      "outputs": [
        {
          "output_type": "stream",
          "name": "stdout",
          "text": [
            "0\n",
            "1\n",
            "2\n",
            "3\n"
          ]
        }
      ]
    },
    {
      "cell_type": "code",
      "source": [
        "#Write a Python program to count the number of characters (character frequency) in a string.\n",
        "a=\"hello world i hope everyone is doing well\"\n",
        "for k in set(a):\n",
        "  print(\"Frequency of \"+str(k) +\" is :- \",a.count(k))"
      ],
      "metadata": {
        "colab": {
          "base_uri": "https://localhost:8080/"
        },
        "id": "AJM3UrdWtfST",
        "outputId": "1a2cae39-9240-409c-95aa-be0602dc5476"
      },
      "execution_count": null,
      "outputs": [
        {
          "output_type": "stream",
          "name": "stdout",
          "text": [
            "Frequency of y is :-  1\n",
            "Frequency of i is :-  3\n",
            "Frequency of l is :-  5\n",
            "Frequency of d is :-  2\n",
            "Frequency of o is :-  5\n",
            "Frequency of w is :-  2\n",
            "Frequency of n is :-  2\n",
            "Frequency of g is :-  1\n",
            "Frequency of v is :-  1\n",
            "Frequency of e is :-  6\n",
            "Frequency of s is :-  1\n",
            "Frequency of r is :-  2\n",
            "Frequency of h is :-  2\n",
            "Frequency of p is :-  1\n",
            "Frequency of   is :-  7\n"
          ]
        }
      ]
    },
    {
      "cell_type": "code",
      "source": [
        "# without count function\n",
        "a=\"hello world i hope everyone is doing well\".lower()\n",
        "for k in set(a):\n",
        "  freq=0\n",
        "  for j in a:\n",
        "    if k==j:\n",
        "      freq=freq+1\n",
        "  print(\"Frequency of \"+str(k) +\" is :- \",freq)"
      ],
      "metadata": {
        "colab": {
          "base_uri": "https://localhost:8080/"
        },
        "id": "sSh3VQIiwMtc",
        "outputId": "72615327-6def-4e79-d86b-11d712f3544a"
      },
      "execution_count": null,
      "outputs": [
        {
          "output_type": "stream",
          "name": "stdout",
          "text": [
            "Frequency of y is :-  1\n",
            "Frequency of i is :-  3\n",
            "Frequency of l is :-  5\n",
            "Frequency of d is :-  2\n",
            "Frequency of o is :-  5\n",
            "Frequency of w is :-  2\n",
            "Frequency of n is :-  2\n",
            "Frequency of g is :-  1\n",
            "Frequency of v is :-  1\n",
            "Frequency of e is :-  6\n",
            "Frequency of s is :-  1\n",
            "Frequency of r is :-  2\n",
            "Frequency of h is :-  2\n",
            "Frequency of p is :-  1\n",
            "Frequency of   is :-  7\n"
          ]
        }
      ]
    },
    {
      "cell_type": "code",
      "source": [
        "#Python program to convert lower letter to upper and upper letter to lower in a string.\n",
        "#Write a python program to sort letters of word by lower to upper case format.\n",
        "#Write a program in Python to count lower, upper, numeric and special characters in a string.\n",
        "# Write a program in Python, which returns the first word of a given text.\n",
        "#Write a program in Python to remove an empty character from a list sequence.\n",
        "#Python program to convert all the starting letter of a word in upper case format or in the title format.\n",
        "# find the file extension from the name of the file for example demofile.pdf"
      ],
      "metadata": {
        "id": "JjTHaJFFlC29"
      },
      "execution_count": null,
      "outputs": []
    },
    {
      "cell_type": "code",
      "source": [],
      "metadata": {
        "id": "oXPjkFtZoNqu"
      },
      "execution_count": null,
      "outputs": []
    },
    {
      "cell_type": "code",
      "source": [],
      "metadata": {
        "id": "_L6tp5KMoNuF"
      },
      "execution_count": null,
      "outputs": []
    },
    {
      "cell_type": "code",
      "source": [],
      "metadata": {
        "id": "2kUAfkJXoNwt"
      },
      "execution_count": null,
      "outputs": []
    },
    {
      "cell_type": "code",
      "source": [],
      "metadata": {
        "id": "MGtfmwifoNzU"
      },
      "execution_count": null,
      "outputs": []
    },
    {
      "cell_type": "code",
      "source": [],
      "metadata": {
        "id": "ilUuGu8NoN12"
      },
      "execution_count": null,
      "outputs": []
    },
    {
      "cell_type": "code",
      "source": [],
      "metadata": {
        "id": "J-sfrnQyoN4l"
      },
      "execution_count": null,
      "outputs": []
    },
    {
      "cell_type": "code",
      "source": [],
      "metadata": {
        "id": "orMIRMSRoN7N"
      },
      "execution_count": null,
      "outputs": []
    },
    {
      "cell_type": "code",
      "source": [
        "#Python program to convert lower letter to upper and upper letter to lower in a string.\n",
        "swapped_string=\"\"\n",
        "name = \"JoHn CeNa\"\n",
        "for k in name:\n",
        "  if k.isupper():\n",
        "    swapped_string=swapped_string+k.lower()\n",
        "  else:\n",
        "    swapped_string=swapped_string+k.upper()\n",
        "print(swapped_string)"
      ],
      "metadata": {
        "colab": {
          "base_uri": "https://localhost:8080/"
        },
        "id": "fr8NoRKzm7s9",
        "outputId": "2738311c-30d9-4474-ff2b-57a040d817ff"
      },
      "execution_count": null,
      "outputs": [
        {
          "output_type": "stream",
          "name": "stdout",
          "text": [
            "jOhN cEnA\n"
          ]
        }
      ]
    },
    {
      "cell_type": "code",
      "source": [
        "#Write a python program to sort letters of word by lower to upper case format.\n",
        "temp_str=\"Python Programming IS EASY IF you practise?\"\n",
        "lower_str=[]\n",
        "upper_str=[]\n",
        "for k in temp_str:\n",
        "  if k.islower():\n",
        "    lower_str.append(k)\n",
        "  else:\n",
        "    upper_str.append(k)\n",
        "lower_str.sort()\n",
        "upper_str.sort()\n",
        "print(\"\".join(lower_str+upper_str))\n",
        "# print(\"\".join(sorted(lower_str)+sorted(upper_str)))"
      ],
      "metadata": {
        "colab": {
          "base_uri": "https://localhost:8080/"
        },
        "id": "1E21fK_XrD6v",
        "outputId": "d8ec1919-e49f-4e5d-f79f-51e97e482c6d"
      },
      "execution_count": null,
      "outputs": [
        {
          "output_type": "stream",
          "name": "stdout",
          "text": [
            "aacegghiimmnnoooprrrsttuyy      ?AEFIIPPSSY\n"
          ]
        }
      ]
    },
    {
      "cell_type": "code",
      "source": [
        "dir(\"hello\")"
      ],
      "metadata": {
        "colab": {
          "base_uri": "https://localhost:8080/"
        },
        "id": "PkRJ4SaD2IW7",
        "outputId": "86957acb-f12e-4ba9-f1ca-1135b5e98c78"
      },
      "execution_count": null,
      "outputs": [
        {
          "output_type": "execute_result",
          "data": {
            "text/plain": [
              "['__add__',\n",
              " '__class__',\n",
              " '__contains__',\n",
              " '__delattr__',\n",
              " '__dir__',\n",
              " '__doc__',\n",
              " '__eq__',\n",
              " '__format__',\n",
              " '__ge__',\n",
              " '__getattribute__',\n",
              " '__getitem__',\n",
              " '__getnewargs__',\n",
              " '__gt__',\n",
              " '__hash__',\n",
              " '__init__',\n",
              " '__init_subclass__',\n",
              " '__iter__',\n",
              " '__le__',\n",
              " '__len__',\n",
              " '__lt__',\n",
              " '__mod__',\n",
              " '__mul__',\n",
              " '__ne__',\n",
              " '__new__',\n",
              " '__reduce__',\n",
              " '__reduce_ex__',\n",
              " '__repr__',\n",
              " '__rmod__',\n",
              " '__rmul__',\n",
              " '__setattr__',\n",
              " '__sizeof__',\n",
              " '__str__',\n",
              " '__subclasshook__',\n",
              " 'capitalize',\n",
              " 'casefold',\n",
              " 'center',\n",
              " 'count',\n",
              " 'encode',\n",
              " 'endswith',\n",
              " 'expandtabs',\n",
              " 'find',\n",
              " 'format',\n",
              " 'format_map',\n",
              " 'index',\n",
              " 'isalnum',\n",
              " 'isalpha',\n",
              " 'isascii',\n",
              " 'isdecimal',\n",
              " 'isdigit',\n",
              " 'isidentifier',\n",
              " 'islower',\n",
              " 'isnumeric',\n",
              " 'isprintable',\n",
              " 'isspace',\n",
              " 'istitle',\n",
              " 'isupper',\n",
              " 'join',\n",
              " 'ljust',\n",
              " 'lower',\n",
              " 'lstrip',\n",
              " 'maketrans',\n",
              " 'partition',\n",
              " 'removeprefix',\n",
              " 'removesuffix',\n",
              " 'replace',\n",
              " 'rfind',\n",
              " 'rindex',\n",
              " 'rjust',\n",
              " 'rpartition',\n",
              " 'rsplit',\n",
              " 'rstrip',\n",
              " 'split',\n",
              " 'splitlines',\n",
              " 'startswith',\n",
              " 'strip',\n",
              " 'swapcase',\n",
              " 'title',\n",
              " 'translate',\n",
              " 'upper',\n",
              " 'zfill']"
            ]
          },
          "metadata": {},
          "execution_count": 14
        }
      ]
    },
    {
      "cell_type": "code",
      "source": [
        "#Write a program in Python to count lower, upper, numeric and special characters in a string.\n",
        "lower_count=0\n",
        "upper_count=0\n",
        "numeric_count=0\n",
        "special_count=0\n",
        "str_temp=\"Hello Python  1 2 3 what are you Doing?\"\n",
        "\n",
        "for k in str_temp:\n",
        "  if k.islower():\n",
        "    lower_count=lower_count+1\n",
        "  elif k.isupper():\n",
        "    upper_count=upper_count+1\n",
        "  elif k.isnumeric():\n",
        "    numeric_count=numeric_count+1\n",
        "  else:\n",
        "    print(\"special character \",k)\n",
        "    # space is counted as special character\n",
        "    special_count=special_count+1\n",
        "print(\" Count of lowercase \",lower_count)\n",
        "print(\" Count of uppercase \",upper_count)\n",
        "print(\" Count of numeric \",numeric_count)\n",
        "print(\" Count of special characters \",special_count)"
      ],
      "metadata": {
        "colab": {
          "base_uri": "https://localhost:8080/"
        },
        "id": "lbMlC-tz2ahq",
        "outputId": "b07e53b1-be92-4496-efe4-6140f406c733"
      },
      "execution_count": null,
      "outputs": [
        {
          "output_type": "stream",
          "name": "stdout",
          "text": [
            "special character   \n",
            "special character   \n",
            "special character   \n",
            "special character   \n",
            "special character   \n",
            "special character   \n",
            "special character   \n",
            "special character   \n",
            "special character   \n",
            "special character  ?\n",
            " Count of lowercase  23\n",
            " Count of uppercase  3\n",
            " Count of numeric  3\n",
            " Count of special characters  10\n"
          ]
        }
      ]
    },
    {
      "cell_type": "code",
      "source": [
        "demo_list=[\"hello\",1,\"\",\"bye\",\"\",\"\",\"\",\"\"]\n",
        "new_list=[]\n",
        "for k in demo_list:\n",
        "  if len(str(k)) >0:\n",
        "    new_list.append(k)\n",
        "print(new_list)"
      ],
      "metadata": {
        "colab": {
          "base_uri": "https://localhost:8080/"
        },
        "id": "Yeo9QyWX6nZ3",
        "outputId": "2e51d5f2-9861-451f-a79f-47093869f4f3"
      },
      "execution_count": null,
      "outputs": [
        {
          "output_type": "stream",
          "name": "stdout",
          "text": [
            "['hello', 1, 'bye']\n"
          ]
        }
      ]
    },
    {
      "cell_type": "code",
      "source": [
        "# WHY IT DOESNT WORKS WITH POP\n",
        "\n",
        "demo_list=[\"hello\",1,\"\",\"bye\",\"\",\"\",\"\",\"\"]\n",
        "new_list=demo_list.copy()\n",
        "for k in range(len(demo_list)):\n",
        "  print(\"Lenth of new_list is \",len(new_list))\n",
        "  print(\"The value of k is \",k)\n",
        "  if len(str(demo_list[k])) <=0:\n",
        "    new_list.pop(k)\n",
        "print(new_list)"
      ],
      "metadata": {
        "colab": {
          "base_uri": "https://localhost:8080/",
          "height": 474
        },
        "id": "othIdRYY7edg",
        "outputId": "1f58e930-1025-4d33-8762-f3b3ea6eb86a"
      },
      "execution_count": null,
      "outputs": [
        {
          "output_type": "stream",
          "name": "stdout",
          "text": [
            "Lenth of new_list is  8\n",
            "The value of k is  0\n",
            "Lenth of new_list is  8\n",
            "The value of k is  1\n",
            "Lenth of new_list is  8\n",
            "The value of k is  2\n",
            "Lenth of new_list is  7\n",
            "The value of k is  3\n",
            "Lenth of new_list is  7\n",
            "The value of k is  4\n",
            "Lenth of new_list is  6\n",
            "The value of k is  5\n",
            "Lenth of new_list is  5\n",
            "The value of k is  6\n"
          ]
        },
        {
          "output_type": "error",
          "ename": "IndexError",
          "evalue": "ignored",
          "traceback": [
            "\u001b[0;31m---------------------------------------------------------------------------\u001b[0m",
            "\u001b[0;31mIndexError\u001b[0m                                Traceback (most recent call last)",
            "\u001b[0;32m<ipython-input-27-3485de667439>\u001b[0m in \u001b[0;36m<cell line: 5>\u001b[0;34m()\u001b[0m\n\u001b[1;32m      7\u001b[0m   \u001b[0mprint\u001b[0m\u001b[0;34m(\u001b[0m\u001b[0;34m\"The value of k is \"\u001b[0m\u001b[0;34m,\u001b[0m\u001b[0mk\u001b[0m\u001b[0;34m)\u001b[0m\u001b[0;34m\u001b[0m\u001b[0;34m\u001b[0m\u001b[0m\n\u001b[1;32m      8\u001b[0m   \u001b[0;32mif\u001b[0m \u001b[0mlen\u001b[0m\u001b[0;34m(\u001b[0m\u001b[0mstr\u001b[0m\u001b[0;34m(\u001b[0m\u001b[0mdemo_list\u001b[0m\u001b[0;34m[\u001b[0m\u001b[0mk\u001b[0m\u001b[0;34m]\u001b[0m\u001b[0;34m)\u001b[0m\u001b[0;34m)\u001b[0m \u001b[0;34m<=\u001b[0m\u001b[0;36m0\u001b[0m\u001b[0;34m:\u001b[0m\u001b[0;34m\u001b[0m\u001b[0;34m\u001b[0m\u001b[0m\n\u001b[0;32m----> 9\u001b[0;31m     \u001b[0mnew_list\u001b[0m\u001b[0;34m.\u001b[0m\u001b[0mpop\u001b[0m\u001b[0;34m(\u001b[0m\u001b[0mk\u001b[0m\u001b[0;34m)\u001b[0m\u001b[0;34m\u001b[0m\u001b[0;34m\u001b[0m\u001b[0m\n\u001b[0m\u001b[1;32m     10\u001b[0m \u001b[0mprint\u001b[0m\u001b[0;34m(\u001b[0m\u001b[0mnew_list\u001b[0m\u001b[0;34m)\u001b[0m\u001b[0;34m\u001b[0m\u001b[0;34m\u001b[0m\u001b[0m\n",
            "\u001b[0;31mIndexError\u001b[0m: pop index out of range"
          ]
        }
      ]
    },
    {
      "cell_type": "code",
      "source": [
        "filename=\"demofile.jpeg\"\n",
        "# -1 is last index\n",
        "print(\"THE FILE EXTENSION IS :- \",filename.split(\".\")[-1])"
      ],
      "metadata": {
        "colab": {
          "base_uri": "https://localhost:8080/"
        },
        "id": "HOHtVBMc8s8W",
        "outputId": "933cd1db-4ff8-4d5f-d999-b35ff446fc5e"
      },
      "execution_count": null,
      "outputs": [
        {
          "output_type": "stream",
          "name": "stdout",
          "text": [
            "THE FILE EXTENSION IS :-  jpeg\n"
          ]
        }
      ]
    },
    {
      "cell_type": "code",
      "source": [
        "a=[1,2,3,4,5,6,7]\n",
        "# rows =1,columns =7\n",
        "\n",
        "a=[[1,2,[4,3]],[2,3,4],[5,6,7]]\n",
        "\n",
        "# rows =3 and 3 columns\n",
        "print(a[0])\n",
        "print(a[0][2])\n",
        "print(a[0][2][0])"
      ],
      "metadata": {
        "colab": {
          "base_uri": "https://localhost:8080/"
        },
        "id": "ie2Dwhmzgq6I",
        "outputId": "58aa23a2-89ea-4c00-cd97-9f9eeb6a4d02"
      },
      "execution_count": null,
      "outputs": [
        {
          "output_type": "stream",
          "name": "stdout",
          "text": [
            "[1, 2, [4, 3]]\n",
            "[4, 3]\n",
            "4\n"
          ]
        }
      ]
    },
    {
      "cell_type": "code",
      "source": [],
      "metadata": {
        "id": "FnFkKh-miYGg"
      },
      "execution_count": null,
      "outputs": []
    }
  ]
}