{
  "nbformat": 4,
  "nbformat_minor": 0,
  "metadata": {
    "colab": {
      "provenance": [],
      "authorship_tag": "ABX9TyOxwWEyk3QxGWkaXjYrp7no",
      "include_colab_link": true
    },
    "kernelspec": {
      "name": "python3",
      "display_name": "Python 3"
    },
    "language_info": {
      "name": "python"
    }
  },
  "cells": [
    {
      "cell_type": "markdown",
      "metadata": {
        "id": "view-in-github",
        "colab_type": "text"
      },
      "source": [
        "<a href=\"https://colab.research.google.com/github/as-bestinclass/pythonDataSci/blob/main/Anand_Notebook.ipynb\" target=\"_parent\"><img src=\"https://colab.research.google.com/assets/colab-badge.svg\" alt=\"Open In Colab\"/></a>"
      ]
    },
    {
      "cell_type": "markdown",
      "source": [
        "May 5th 2023 (homework from may 4th)"
      ],
      "metadata": {
        "id": "AcynLTaaEK_Q"
      }
    },
    {
      "cell_type": "code",
      "execution_count": null,
      "metadata": {
        "colab": {
          "base_uri": "https://localhost:8080/"
        },
        "id": "7ThUJl3tXV6a",
        "outputId": "c219d9e5-667d-4787-d931-c769681e6672"
      },
      "outputs": [
        {
          "output_type": "stream",
          "name": "stdout",
          "text": [
            "[1, 2, 3, 4]\n",
            "[5, 6, 7, 8]\n"
          ]
        }
      ],
      "source": [
        "#1) a=[1,2,3,4,5,6,7,8] Divide this list in two equal paths\n",
        "\n",
        "a=[1,2,3,4,5,6,7,8]\n",
        "\n",
        "a1 = a[0:len(a)//2:]\n",
        "a2 = a[len(a)//2::]\n",
        "\n",
        "print(a1)\n",
        "print(a2)"
      ]
    },
    {
      "cell_type": "code",
      "source": [
        "from itertools import count\n",
        "\n",
        "#2) c=[1,2,3,4,5,1,2,3,'a','b',['h','a']] find count of all elements in this list\n",
        "\n",
        "c=[1,2,3,4,5,1,2,3,'a','b',['h','a']]\n",
        "\n",
        "A = c.pop()\n",
        "\n",
        "# we will use extend because we cannot use append. extend joins two list like (AUB) append adds the element back\n",
        "c.extend(A)\n",
        "\n",
        "\n",
        "set1 = list(set(c))\n",
        "\n",
        "print(set1)\n",
        "\n",
        "print (\"count of \" + str(set1[0]) + \" = \" + str(c.count(set1[0])))\n",
        "print (\"count of \" + str(set1[1]) + \" = \" + str(c.count(set1[1])))\n",
        "print (\"count of \" + str(set1[2]) + \" = \" + str(c.count(set1[2])))\n",
        "print (\"count of \" + str(set1[3]) + \" = \" + str(c.count(set1[3])))\n",
        "print (\"count of \" + str(set1[4]) + \" = \" + str(c.count(set1[4])))\n",
        "print (\"count of \" + str(set1[5]) + \" = \" + str(c.count(set1[5])))\n",
        "print (\"count of \" + str(set1[6]) + \" = \" + str(c.count(set1[6])))\n",
        "print (\"count of \" + str(set1[7]) + \" = \" + str(c.count(set1[7])))"
      ],
      "metadata": {
        "colab": {
          "base_uri": "https://localhost:8080/"
        },
        "id": "25ESUL2bXf_L",
        "outputId": "c6609fa8-fe46-4cbc-fba8-a49a361270f6"
      },
      "execution_count": null,
      "outputs": [
        {
          "output_type": "stream",
          "name": "stdout",
          "text": [
            "[1, 2, 3, 4, 5, 'a', 'b', 'h']\n",
            "count of 1 = 2\n",
            "count of 2 = 2\n",
            "count of 3 = 2\n",
            "count of 4 = 1\n",
            "count of 5 = 1\n",
            "count of a = 2\n",
            "count of b = 1\n",
            "count of h = 1\n"
          ]
        }
      ]
    },
    {
      "cell_type": "code",
      "source": [
        "#3) Write a Python program to reverse a string \"11abcdeghsuyy\"\n",
        "\n",
        "s = \"11abcdeghsuyy\"\n",
        "\n",
        "print(s[::-1])"
      ],
      "metadata": {
        "colab": {
          "base_uri": "https://localhost:8080/"
        },
        "id": "azxLS-gDXif1",
        "outputId": "b891f27d-bc15-4d01-d53e-7c60f3a69673"
      },
      "execution_count": null,
      "outputs": [
        {
          "output_type": "stream",
          "name": "stdout",
          "text": [
            "yyushgedcba11\n"
          ]
        }
      ]
    },
    {
      "cell_type": "code",
      "source": [
        "#4) Write a program to insert number 88 on 2nd index of this list and number on 2nd index should move to last index of the list\n",
        "#   a=[1,2,3,4,5,7] Expected Output= [1,2,88,4,5,7,3]\n",
        "\n",
        "a=[1,2,3,4,5,7]\n",
        "a.append(88)\n",
        "\n",
        "temp = a[2]\n",
        "a[2] = a[6]\n",
        "a[6] = temp\n",
        "\n",
        "print(a) "
      ],
      "metadata": {
        "colab": {
          "base_uri": "https://localhost:8080/"
        },
        "id": "jzREIP77XkvV",
        "outputId": "6fb98351-e228-4f73-ef1d-0c93fdc32a42"
      },
      "execution_count": null,
      "outputs": [
        {
          "output_type": "stream",
          "name": "stdout",
          "text": [
            "[1, 2, 88, 4, 5, 7, 3]\n"
          ]
        }
      ]
    },
    {
      "cell_type": "code",
      "source": [
        "# Write A program to check if a person if eligible for voting or not?\n",
        "\n",
        "\n",
        "age = 20\n",
        "\n",
        "if age > 17:\n",
        "  print(\"He is eligible to Vote\")\n",
        "else:\n",
        "  print(\"No he is not eligible to vote\")"
      ],
      "metadata": {
        "colab": {
          "base_uri": "https://localhost:8080/"
        },
        "id": "eEg3DbT58_o8",
        "outputId": "44cb0d09-ded3-421e-bf57-db1d8bc7cee9"
      },
      "execution_count": null,
      "outputs": [
        {
          "output_type": "stream",
          "name": "stdout",
          "text": [
            "He is eligible to Vote\n"
          ]
        }
      ]
    },
    {
      "cell_type": "code",
      "source": [
        "#2) Write A program to check if a number is even or odd?\n",
        "\n",
        "num = 10\n",
        "\n",
        "if (num%2) == 0:\n",
        "  print(\"The number \" + str(num) + \" is even\")\n",
        "else:\n",
        "  print(\"The number \" + str(num) + \" is odd\")\n"
      ],
      "metadata": {
        "colab": {
          "base_uri": "https://localhost:8080/"
        },
        "id": "0hEEQeA6CBUZ",
        "outputId": "2ea1525e-cb19-406e-f58a-683872ae29d4"
      },
      "execution_count": null,
      "outputs": [
        {
          "output_type": "stream",
          "name": "stdout",
          "text": [
            "The number 10 is even\n"
          ]
        }
      ]
    },
    {
      "cell_type": "code",
      "source": [
        "#3) Write a program to check if a number is divisible by 7 or not?\n",
        "\n",
        "num = 99\n",
        "\n",
        "if (num%7) == 0:\n",
        "    print(\"The number \" + str(num) + \" is divisible by 7\")\n",
        "else:\n",
        "    print(\"The number \" + str(num) + \" is not divisible by 7\")"
      ],
      "metadata": {
        "colab": {
          "base_uri": "https://localhost:8080/"
        },
        "id": "i80trHkDCDVC",
        "outputId": "bd0cf74a-d0dd-4c9d-87ef-064c12ca7ad3"
      },
      "execution_count": null,
      "outputs": [
        {
          "output_type": "stream",
          "name": "stdout",
          "text": [
            "The number 99 is not divisible by 7\n"
          ]
        }
      ]
    },
    {
      "cell_type": "code",
      "source": [
        "#3) Write a program to check if a number is divisible by 7 or not?\n",
        "\n",
        "num = 77\n",
        "num2 = 50\n",
        "\n",
        "if ((num/7)-(num//7)) == 0:\n",
        "    print(\"The number \" + str(num) + \" is divisible by 7\")\n",
        "else:\n",
        "    print(\"The number \" + str(num) + \" is not divisible by 7\")"
      ],
      "metadata": {
        "colab": {
          "base_uri": "https://localhost:8080/"
        },
        "id": "TwcVZrPcFyLM",
        "outputId": "1b6238f5-55b9-4fba-ce6d-e7c440f687b5"
      },
      "execution_count": null,
      "outputs": [
        {
          "output_type": "stream",
          "name": "stdout",
          "text": [
            "The number 77 is divisible by 7\n"
          ]
        }
      ]
    },
    {
      "cell_type": "code",
      "source": [
        "#4) Write a program to print \"hello\" if a number is a multiple of 5 else print \"Bye\" \n",
        "\n",
        "num = 50\n",
        "num2 = 50\n",
        "\n",
        "if ((num/5)-(num//5)) == 0:\n",
        "    print(\"Hello\")\n",
        "else:\n",
        "    print(\"Bye\")\n"
      ],
      "metadata": {
        "colab": {
          "base_uri": "https://localhost:8080/"
        },
        "id": "5hOgyW9dIFUl",
        "outputId": "828f3137-d5ab-4c76-cb6f-1015b724568b"
      },
      "execution_count": null,
      "outputs": [
        {
          "output_type": "stream",
          "name": "stdout",
          "text": [
            "Hello\n"
          ]
        }
      ]
    },
    {
      "cell_type": "code",
      "source": [
        "\"\"\"\n",
        "Write a program to calculate electricity bill according to following criteria\n",
        "\n",
        " \n",
        "\n",
        "First 100 units                     No Charge\n",
        "\n",
        "Next 100 units                     5 rupees per unit\n",
        "\n",
        "After 200 Units                     10 rupees per unit\"\"\"\n",
        "\n",
        "\n",
        "units = 350;\n",
        "\n",
        "if (units<=100):\n",
        "  print(\"Cost of your usage is Rs.0\")\n",
        "elif (units <= 200):\n",
        "  print(\"Cost of your usage is Rs.\" + str((units-100)*5))\n",
        "else:\n",
        "  print(\"Cost of your usage is Rs.\" + str((500+(units-200)*10)))\n"
      ],
      "metadata": {
        "colab": {
          "base_uri": "https://localhost:8080/"
        },
        "id": "rNJ28Fo2JjRZ",
        "outputId": "0c2cb440-27d4-4f05-ecf4-9abb26cf9483"
      },
      "execution_count": null,
      "outputs": [
        {
          "output_type": "stream",
          "name": "stdout",
          "text": [
            "Cost of your usage is Rs.2000\n"
          ]
        }
      ]
    },
    {
      "cell_type": "markdown",
      "source": [
        "May 6th 2023 (homework from may 5th)"
      ],
      "metadata": {
        "id": "PazfZTYwEtNn"
      }
    },
    {
      "cell_type": "code",
      "source": [
        "#1) Write a program to find list digit of a number for example 131 the last digit is 1\n",
        "\n",
        "n = 2344\n",
        "\n",
        "print(n%10)\n",
        "\n"
      ],
      "metadata": {
        "id": "OYfr-wwZE5wv",
        "colab": {
          "base_uri": "https://localhost:8080/"
        },
        "outputId": "787294d5-b31d-485d-cc39-5a6e79955afa"
      },
      "execution_count": null,
      "outputs": [
        {
          "output_type": "stream",
          "name": "stdout",
          "text": [
            "4\n"
          ]
        }
      ]
    },
    {
      "cell_type": "code",
      "source": [
        "\"\"\"\n",
        "2) Write a program to check criteria of the student according to %\n",
        "\n",
        "Marks                                 GRADES\n",
        "\n",
        "\n",
        "> 90 marks                         A\n",
        "\n",
        "<80 and >=90 marks        B\n",
        "\n",
        "<60 and <= 80 marks       C\n",
        "\n",
        "Below 60                            Failed\"\"\"\n",
        "\n",
        "\n",
        "\n",
        "marks = 90\n",
        "\n",
        "if (marks<60):\n",
        "  print(\"Grade for \" + str(marks) + \" is Fail.\")\n",
        "elif (marks<=80):\n",
        "  print(\"Grade for \" + str(marks) + \" is C.\")\n",
        "elif (marks<=90):\n",
        "  print(\"Grade for \" + str(marks) + \" is B.\")\n",
        "elif (marks>90):\n",
        "  print(\"Grade for \" + str(marks) + \" is A.\")\n",
        "\n"
      ],
      "metadata": {
        "colab": {
          "base_uri": "https://localhost:8080/"
        },
        "id": "BUuTPrHeFAfv",
        "outputId": "3012649b-ce41-4f94-9ca2-1ebcb3a60540"
      },
      "execution_count": null,
      "outputs": [
        {
          "output_type": "stream",
          "name": "stdout",
          "text": [
            "Grade for 90 is B.\n"
          ]
        }
      ]
    },
    {
      "cell_type": "code",
      "source": [
        "#3)  Write a program to take input between 1-12 and print which month of the year is it?  (Hint)  1 is January\n",
        "\n",
        "inp = 1\n",
        "\n",
        "if (inp == 1):\n",
        "  print(\"January\")\n",
        "elif (inp == 2):\n",
        "  print(\"February\")\n",
        "elif (inp == 3):\n",
        "  print(\"March\")\n",
        "elif (inp == 4):\n",
        "  print(\"April\")\n",
        "elif (inp == 5):\n",
        "  print(\"May\")\n",
        "elif (inp == 6):\n",
        "  print(\"June\")\n",
        "elif (inp == 7):\n",
        "  print(\"July\")\n",
        "elif (inp == 8):\n",
        "  print(\"August\")\n",
        "elif (inp == 9):\n",
        "  print(\"September\")\n",
        "elif (inp == 10):\n",
        "  print(\"October\")\n",
        "elif (inp == 11):\n",
        "  print(\"November\")\n",
        "elif (inp == 12):\n",
        "  print(\"December\")\n",
        "else:\n",
        "  print(\"Invalid\")"
      ],
      "metadata": {
        "id": "r-oM2SAwFDrA",
        "colab": {
          "base_uri": "https://localhost:8080/"
        },
        "outputId": "d5c98c26-4152-49f5-82f0-0f52e23378ca"
      },
      "execution_count": null,
      "outputs": [
        {
          "output_type": "stream",
          "name": "stdout",
          "text": [
            "January\n"
          ]
        }
      ]
    },
    {
      "cell_type": "code",
      "source": [
        "#4)  Write a program to take input between 1-7 and print which day of week it is (Hint)  1 is Sunday\n",
        "\n",
        "inp = 5\n",
        "\n",
        "if (inp == 1):\n",
        "  print(\"Sunday\")\n",
        "elif (inp == 2):\n",
        "  print(\"Monday\")\n",
        "elif (inp == 3):\n",
        "  print(\"Tuesday\")\n",
        "elif (inp == 4):\n",
        "  print(\"Wednesday\")\n",
        "elif (inp == 5):\n",
        "  print(\"Thursday\")\n",
        "elif (inp == 6):\n",
        "  print(\"Friday\")\n",
        "elif (inp == 7):\n",
        "  print(\"Saturday\")\n",
        "else:\n",
        "  print(\"Invalid\")"
      ],
      "metadata": {
        "id": "gbb_J8b5FNkv",
        "colab": {
          "base_uri": "https://localhost:8080/"
        },
        "outputId": "f901cb9b-6532-48ef-eeda-9287a2fd4581"
      },
      "execution_count": null,
      "outputs": [
        {
          "output_type": "stream",
          "name": "stdout",
          "text": [
            "Thursday\n"
          ]
        }
      ]
    },
    {
      "cell_type": "code",
      "source": [
        "\"\"\"#5) Check which number is greatest and smallest?\n",
        "\n",
        "A= 82\n",
        "\n",
        "B=76\n",
        "\n",
        "C=51\n",
        "\n",
        "D=42\"\"\"\n",
        "\n",
        "A= 82\n",
        "\n",
        "B=76\n",
        "\n",
        "C=51\n",
        "\n",
        "D=42\n",
        "\n",
        "decisionSet = set([A,B,C,D])\n",
        "\n",
        "print('min is ' + str(min(decisionSet)))\n",
        "print('max is ' + str(max(decisionSet)))\n",
        "\n"
      ],
      "metadata": {
        "id": "0FmWQ_JkFRLd",
        "colab": {
          "base_uri": "https://localhost:8080/"
        },
        "outputId": "0cb487dc-b976-4cb7-8066-954bc691347b"
      },
      "execution_count": null,
      "outputs": [
        {
          "output_type": "stream",
          "name": "stdout",
          "text": [
            "min is 42\n",
            "max is 82\n"
          ]
        }
      ]
    },
    {
      "cell_type": "code",
      "source": [
        "#6) Check if a person is senior citizen or NO?\n",
        "\n",
        "age = 44\n",
        "\n",
        "if (age >= 60):\n",
        "  print(\"Sir/Ma'am is a Senior Citizen\")\n",
        "else:\n",
        "  print(\"haha, you're a Child\")"
      ],
      "metadata": {
        "id": "bcYvjU0YFWH3",
        "colab": {
          "base_uri": "https://localhost:8080/"
        },
        "outputId": "20e85209-fc52-4c60-b1a4-869d06399524"
      },
      "execution_count": null,
      "outputs": [
        {
          "output_type": "stream",
          "name": "stdout",
          "text": [
            "haha, you're a Child\n"
          ]
        }
      ]
    },
    {
      "cell_type": "code",
      "source": [
        "#7) Check if a number is positive or negative\n",
        "\n",
        "num = -88\n",
        "\n",
        "if (num >= 0):\n",
        "  print(\"Positive\")\n",
        "else:\n",
        "  print(\"Negative\")"
      ],
      "metadata": {
        "id": "VWSTUZ5IFYRG",
        "colab": {
          "base_uri": "https://localhost:8080/"
        },
        "outputId": "138c23a9-490d-4224-da13-d4df97cf0d2c"
      },
      "execution_count": null,
      "outputs": [
        {
          "output_type": "stream",
          "name": "stdout",
          "text": [
            "Negative\n"
          ]
        }
      ]
    },
    {
      "cell_type": "code",
      "source": [
        "#8) Check if a number is divisible by both 2 and 3\n",
        "\n",
        "num = 12\n",
        "\n",
        "if (num%2 == 0 and num%3 == 0):\n",
        "  print(\"Yes, it's divisible by 2 & 3\")\n",
        "else:\n",
        "  print(\"sorry, it is not divisible by 2 and 3 both, please pick another number\")"
      ],
      "metadata": {
        "id": "Kd_tWltWFaPa",
        "colab": {
          "base_uri": "https://localhost:8080/"
        },
        "outputId": "ecbe3a81-b310-4346-9783-d1ed901c9384"
      },
      "execution_count": null,
      "outputs": [
        {
          "output_type": "stream",
          "name": "stdout",
          "text": [
            "Yes, it's divisible by 2 & 3\n"
          ]
        }
      ]
    },
    {
      "cell_type": "code",
      "source": [
        "#9) Check if a character entered is a vowel or not\n",
        "\n",
        "inp = \"E\"\n",
        "inp = inp.lower()\n",
        "\n",
        "if (inp == \"a\" or inp == \"e\" or inp == \"i\" or inp == \"o\" or inp == \"u\"):\n",
        "  print (\"It's a Vowel\")\n",
        "else:\n",
        "  print (\"It's not vowel\")"
      ],
      "metadata": {
        "id": "neJFqNEaFckG",
        "colab": {
          "base_uri": "https://localhost:8080/"
        },
        "outputId": "09098232-f7a7-4f6c-a924-28a0c1e9c54e"
      },
      "execution_count": null,
      "outputs": [
        {
          "output_type": "stream",
          "name": "stdout",
          "text": [
            "It's a Vowel\n"
          ]
        }
      ]
    },
    {
      "cell_type": "code",
      "source": [
        "\"\"\"\n",
        "10) Tell which person is the youngest and oldest\n",
        "\n",
        " \n",
        "\n",
        "Messi=82\n",
        "\n",
        "Ronaldo=91\n",
        "\n",
        "Ronaldino=62\n",
        "\n",
        "Neymar=51\"\"\"\n",
        "\n",
        "Messi=82\n",
        "\n",
        "Ronaldo=91\n",
        "\n",
        "Ronaldino=62\n",
        "\n",
        "Neymar=51\n",
        "\n",
        "\n",
        "\n",
        "setAge = list([Messi, Ronaldo, Ronaldino, Neymar])\n",
        "\n",
        "smallest = setAge[0]\n",
        "\n",
        "oldest = setAge[0]\n",
        "\n",
        "if smallest>setAge[1]:\n",
        "  smallest = setAge[1]\n",
        "elif smallest>setAge[2]:\n",
        "  smallest = setAge[2]\n",
        "elif smallest>setAge[3]:\n",
        "  smallest = setAge[3]\n",
        "\n",
        "if oldest<setAge[1]:\n",
        "  oldest = setAge[1]\n",
        "elif oldest<setAge[2]:\n",
        "  oldest = setAge[2]\n",
        "elif oldest<setAge[3]:\n",
        "  oldest = setAge[3]\n",
        "\n",
        "print(\"The youngest one is \" + str(smallest))\n",
        "print(\"The oldest one is \" + str(oldest))\n"
      ],
      "metadata": {
        "colab": {
          "base_uri": "https://localhost:8080/"
        },
        "id": "SZ5B3-xAFegE",
        "outputId": "2243ccbf-92b5-4484-db89-9997f36098b8"
      },
      "execution_count": null,
      "outputs": [
        {
          "output_type": "stream",
          "name": "stdout",
          "text": [
            "The youngest one is 62\n",
            "The oldest one is 91\n"
          ]
        }
      ]
    },
    {
      "cell_type": "code",
      "source": [
        "#create a Tuppl for a forloop and access it\n",
        "\n",
        "tuppl1 = (1, 2, \"Hello\", 3.14)\n",
        "\n",
        "for x in tuppl1:\n",
        "  print(x)\n",
        "else:\n",
        "  print(\"Ended\")"
      ],
      "metadata": {
        "colab": {
          "base_uri": "https://localhost:8080/"
        },
        "id": "9pcu1ArABEyJ",
        "outputId": "2b141ad1-498e-4425-9346-199431239d04"
      },
      "execution_count": null,
      "outputs": [
        {
          "output_type": "stream",
          "name": "stdout",
          "text": [
            "1\n",
            "2\n",
            "Hello\n",
            "3.14\n",
            "Ended\n"
          ]
        }
      ]
    },
    {
      "cell_type": "code",
      "source": [
        "#write a program to print a pyramid\n",
        "\n",
        "count = 1\n",
        "for i in range(11,0,-1):\n",
        "\n",
        "  for j in range(0, i):\n",
        "    (print(' ', end = ''))\n",
        "\n",
        "  for k in range(0, count):\n",
        "    print('*',end = '')\n",
        " \n",
        "  print()\n",
        "\n",
        "  count = count +1\n",
        "  if count%2 ==0:\n",
        "    count = count +1"
      ],
      "metadata": {
        "colab": {
          "base_uri": "https://localhost:8080/"
        },
        "id": "Uem7GrerFto9",
        "outputId": "d6c253a0-cbf5-43e8-b586-2aaa08947930"
      },
      "execution_count": null,
      "outputs": [
        {
          "output_type": "stream",
          "name": "stdout",
          "text": [
            "           *\n",
            "          ***\n",
            "         *****\n",
            "        *******\n",
            "       *********\n",
            "      ***********\n",
            "     *************\n",
            "    ***************\n",
            "   *****************\n",
            "  *******************\n",
            " *********************\n"
          ]
        }
      ]
    },
    {
      "cell_type": "code",
      "source": [
        "# 1) check if a number is prime or not\n",
        "\n",
        "num1 = 51\n",
        "\n",
        "x = True\n",
        "\n",
        "for i in range(2, num1):\n",
        "  if num1%i == 0:\n",
        "    x = False\n",
        "\n",
        "if x == True:\n",
        "  print(\"Prime\")\n",
        "else:\n",
        "  print(\"Not Prime\")\n",
        "    \n"
      ],
      "metadata": {
        "colab": {
          "base_uri": "https://localhost:8080/"
        },
        "id": "euJ3loP1I6Jq",
        "outputId": "acc209a3-b292-4458-ea11-ece83fd87e9e"
      },
      "execution_count": null,
      "outputs": [
        {
          "output_type": "stream",
          "name": "stdout",
          "text": [
            "Not Prime\n"
          ]
        }
      ]
    },
    {
      "cell_type": "code",
      "source": [
        "rangeNum = 100\n",
        "x = True\n",
        "for k in range(2, rangeNum):\n",
        "  for i in range(2, k):\n",
        "    if k % i == 0:\n",
        "      x = False\n",
        "  if x == True:\n",
        "    print(str(k) + \" is Prime\")\n"
      ],
      "metadata": {
        "colab": {
          "base_uri": "https://localhost:8080/"
        },
        "id": "QppEQcXMfECH",
        "outputId": "c9c3a36c-b3f7-434d-9e42-ddcba61e8c46"
      },
      "execution_count": null,
      "outputs": [
        {
          "output_type": "stream",
          "name": "stdout",
          "text": [
            "2 is Prime\n",
            "3 is Prime\n"
          ]
        }
      ]
    },
    {
      "cell_type": "code",
      "source": [
        "rangeNum = 100\n",
        "for k in range(2, rangeNum):\n",
        "  x = True\n",
        "  for i in range(2, k):\n",
        "    if k%i == 0:\n",
        "      x = False\n",
        "  if x == True:\n",
        "    print(str(k) + \" is Prime\")"
      ],
      "metadata": {
        "colab": {
          "base_uri": "https://localhost:8080/"
        },
        "id": "GWB1jQxBmzqn",
        "outputId": "ac6796a1-da8a-43c3-c80c-fc67fb3008bd"
      },
      "execution_count": null,
      "outputs": [
        {
          "output_type": "stream",
          "name": "stdout",
          "text": [
            "2 is Prime\n",
            "3 is Prime\n",
            "5 is Prime\n",
            "7 is Prime\n",
            "11 is Prime\n",
            "13 is Prime\n",
            "17 is Prime\n",
            "19 is Prime\n",
            "23 is Prime\n",
            "29 is Prime\n",
            "31 is Prime\n",
            "37 is Prime\n",
            "41 is Prime\n",
            "43 is Prime\n",
            "47 is Prime\n",
            "53 is Prime\n",
            "59 is Prime\n",
            "61 is Prime\n",
            "67 is Prime\n",
            "71 is Prime\n",
            "73 is Prime\n",
            "79 is Prime\n",
            "83 is Prime\n",
            "89 is Prime\n",
            "97 is Prime\n"
          ]
        }
      ]
    },
    {
      "cell_type": "markdown",
      "source": [
        "May 9th 2023 (homework from may 8th)"
      ],
      "metadata": {
        "id": "3xNlj1C-TMFQ"
      }
    },
    {
      "cell_type": "code",
      "source": [
        "#1) Calculate the sum of all numbers from 1 to a given number\n",
        "\n",
        "#1+2+3+4+5= 15\n",
        "\n",
        "x = 20\n",
        "sum = 0\n",
        "for i in range(1, x+1):\n",
        "  sum = sum + i\n",
        "\n",
        "print(\"Sum of all numbers till \" + str(x) + \" is \" + str(sum))"
      ],
      "metadata": {
        "colab": {
          "base_uri": "https://localhost:8080/"
        },
        "id": "-fcsHYPZTSW2",
        "outputId": "8298984e-e8cf-4375-a816-37246903c4c5"
      },
      "execution_count": null,
      "outputs": [
        {
          "output_type": "stream",
          "name": "stdout",
          "text": [
            "Sum of all numbers till 20 is 210\n"
          ]
        }
      ]
    },
    {
      "cell_type": "code",
      "source": [
        "+1#2) Write a program to print multiplication table of a given number\n",
        "\n",
        "x = 10\n",
        "\n",
        "for i in range(1, x+1):\n",
        "  print(str(x) + \" x \" + str(i) + \" = \" + str(i*x))\n"
      ],
      "metadata": {
        "colab": {
          "base_uri": "https://localhost:8080/"
        },
        "id": "OsZ6qofzT2H4",
        "outputId": "d72ceaaa-ca41-40c3-bfc6-64c47113fe04"
      },
      "execution_count": null,
      "outputs": [
        {
          "output_type": "stream",
          "name": "stdout",
          "text": [
            "10 x 1 = 10\n",
            "10 x 2 = 20\n",
            "10 x 3 = 30\n",
            "10 x 4 = 40\n",
            "10 x 5 = 50\n",
            "10 x 6 = 60\n",
            "10 x 7 = 70\n",
            "10 x 8 = 80\n",
            "10 x 9 = 90\n",
            "10 x 10 = 100\n"
          ]
        }
      ]
    },
    {
      "cell_type": "code",
      "source": [
        "#3) Count the total number of digits in a number\n",
        "\n",
        "x = 987688768689669869696866988676789678969699689868669688979896769\n",
        "counter = 1\n",
        "\n",
        "for i in range(0, x):\n",
        "  if x//10 > 0:\n",
        "    counter = counter + 1\n",
        "    x = x//10\n",
        "  else:\n",
        "    break\n",
        "\n",
        "print(\"The number is \" + str(counter) + \" digits long.\")"
      ],
      "metadata": {
        "colab": {
          "base_uri": "https://localhost:8080/"
        },
        "id": "rurSKuDjUREo",
        "outputId": "55fa68f4-4260-4f7e-fa1a-3d96ae7dc0bf"
      },
      "execution_count": null,
      "outputs": [
        {
          "output_type": "stream",
          "name": "stdout",
          "text": [
            "The number is 63 digits long.\n"
          ]
        }
      ]
    },
    {
      "cell_type": "code",
      "source": [
        "#4) Reverse a given integer number\n",
        "\n",
        "x = 123\n",
        "y = 0\n",
        "\n",
        "for i in range(1, x+1):\n",
        "  if x//10 > 0:\n",
        "    y = (y*10) + (x%10)\n",
        "    x = x//10\n",
        "  else:\n",
        "    break\n",
        "y = y*10 + x\n",
        "print(y)"
      ],
      "metadata": {
        "colab": {
          "base_uri": "https://localhost:8080/"
        },
        "id": "FU5OkKKMVLIq",
        "outputId": "015c0c55-76c3-4810-dabb-e391fbab76ab"
      },
      "execution_count": null,
      "outputs": [
        {
          "output_type": "stream",
          "name": "stdout",
          "text": [
            "321\n"
          ]
        }
      ]
    },
    {
      "cell_type": "code",
      "source": [
        "#5) Calculate the cube of all numbers from 1 to a given number\n",
        "\n",
        "x = 10\n",
        "\n",
        "for i in range(1, x+1):\n",
        "  print(\"Cube of \" + str(i) + \" is \" + str(i*i*i))\n"
      ],
      "metadata": {
        "colab": {
          "base_uri": "https://localhost:8080/"
        },
        "id": "W0xHZrgWWgWV",
        "outputId": "a961cbd2-bcef-450a-8ba1-14d37a35b223"
      },
      "execution_count": null,
      "outputs": [
        {
          "output_type": "stream",
          "name": "stdout",
          "text": [
            "Cube of 1 is 1\n",
            "Cube of 2 is 8\n",
            "Cube of 3 is 27\n",
            "Cube of 4 is 64\n",
            "Cube of 5 is 125\n",
            "Cube of 6 is 216\n",
            "Cube of 7 is 343\n",
            "Cube of 8 is 512\n",
            "Cube of 9 is 729\n",
            "Cube of 10 is 1000\n"
          ]
        }
      ]
    },
    {
      "cell_type": "code",
      "source": [
        "#square pyramid\n",
        "n=5\n",
        "for i in range (1, n+1):\n",
        "  for l in range(0, n-i):\n",
        "    print(' ', end='')\n",
        "  for j in range (0, i):\n",
        "    print('* ', end='')\n",
        "  print()"
      ],
      "metadata": {
        "colab": {
          "base_uri": "https://localhost:8080/"
        },
        "id": "9d7ipEjNA38h",
        "outputId": "a5cf1f12-570b-4d23-8242-0b487511ff4e"
      },
      "execution_count": null,
      "outputs": [
        {
          "output_type": "stream",
          "name": "stdout",
          "text": [
            "    * \n",
            "   * * \n",
            "  * * * \n",
            " * * * * \n",
            "* * * * * \n"
          ]
        }
      ]
    },
    {
      "cell_type": "code",
      "source": [
        "#upside down pyramid\n",
        "\n",
        "n=8\n",
        "\n",
        "for i in range(n,0,-1):\n",
        "\n",
        "  for l in range(0, n-i):\n",
        "    print(' ', end='')\n",
        "\n",
        "  for j in range (0, i):\n",
        "    print('* ', end='')\n",
        "  \n",
        "  print()\n"
      ],
      "metadata": {
        "colab": {
          "base_uri": "https://localhost:8080/"
        },
        "id": "PngaxxHUDXd2",
        "outputId": "949fab65-d445-4ecf-903c-7eeb6abe88e5"
      },
      "execution_count": null,
      "outputs": [
        {
          "output_type": "stream",
          "name": "stdout",
          "text": [
            "* * * * * * * * \n",
            " * * * * * * * \n",
            "  * * * * * * \n",
            "   * * * * * \n",
            "    * * * * \n",
            "     * * * \n",
            "      * * \n",
            "       * \n"
          ]
        }
      ]
    },
    {
      "cell_type": "code",
      "source": [
        "#hourglass\n",
        "n=8\n",
        "\n",
        "#upside down pyramid\n",
        "for i in range(n,0,-1):\n",
        "  for l in range(0, n-i):\n",
        "    print(' ', end='')\n",
        "  for j in range (0, i):\n",
        "    print('* ', end='')\n",
        "  print()\n",
        "  if (i==1):\n",
        "    break\n",
        "\n",
        "#regular pyramid\n",
        "for i in range (2, n+1):\n",
        "  for l in range(0, n-i):\n",
        "    print(' ', end='')\n",
        "  for j in range (0, i):\n",
        "    print('* ', end='')\n",
        "  print()"
      ],
      "metadata": {
        "colab": {
          "base_uri": "https://localhost:8080/"
        },
        "id": "lUTX3M9lJlcK",
        "outputId": "0cfd483a-2917-4886-ae41-0458ef750c59"
      },
      "execution_count": null,
      "outputs": [
        {
          "output_type": "stream",
          "name": "stdout",
          "text": [
            "* * * * * * * * \n",
            " * * * * * * * \n",
            "  * * * * * * \n",
            "   * * * * * \n",
            "    * * * * \n",
            "     * * * \n",
            "      * * \n",
            "       * \n",
            "      * * \n",
            "     * * * \n",
            "    * * * * \n",
            "   * * * * * \n",
            "  * * * * * * \n",
            " * * * * * * * \n",
            "* * * * * * * * \n"
          ]
        }
      ]
    },
    {
      "cell_type": "code",
      "source": [
        "#Write a Python program to count the number of characters (character frequency) in a string.\n",
        "\n",
        "s = \"Hi My name is Slim Shady\".lower() # lower is turning all the characters into lower case for capital and small letters are different\n",
        "setS = set(s)\n",
        "\n",
        "for i in setS: # i is giving all the unique characters in the set of string\n",
        "  freq = 0\n",
        "  for j in s: # j is giving each characters from the string one at at time\n",
        "    if i == j:\n",
        "      freq = freq+1\n",
        "  print(\"The frequency of \" + str(i) + \" is \" + str(freq))"
      ],
      "metadata": {
        "colab": {
          "base_uri": "https://localhost:8080/"
        },
        "id": "YnWxdzQ2pca9",
        "outputId": "c3d514a2-598e-4af1-baa3-bbec61e9c289"
      },
      "execution_count": null,
      "outputs": [
        {
          "output_type": "stream",
          "name": "stdout",
          "text": [
            "The frequency of d is 1\n",
            "The frequency of m is 3\n",
            "The frequency of y is 2\n",
            "The frequency of i is 3\n",
            "The frequency of e is 1\n",
            "The frequency of s is 3\n",
            "The frequency of n is 1\n",
            "The frequency of a is 2\n",
            "The frequency of   is 5\n",
            "The frequency of l is 1\n",
            "The frequency of h is 2\n"
          ]
        }
      ]
    },
    {
      "cell_type": "code",
      "source": [
        "\"\"\" int()\n",
        "float()\n",
        "complex()\n",
        "bool()\n",
        "str()\n",
        "list()\n",
        "tuple()\n",
        "set()\n",
        "dict()\"\"\"\n",
        "\n",
        "int1 = int(input(\"enter valid int number \"))\n",
        "print(int1)\n",
        "print(type(int1))\n",
        "\n",
        "\n",
        "float1 = float(input(\"enter valid float number \"))\n",
        "print(float1)\n",
        "print(type(float1))\n",
        "\n",
        "\n",
        "complex = complex(input(\"enter valid complex number \"))\n",
        "print(float1)\n",
        "print(type(float1))\n",
        "\n",
        "\n",
        "bool1 = float(input(\"enter valid bool number \"))\n",
        "print(bool1)\n",
        "print(type(bool1))\n",
        "\n",
        "\n",
        "str1 = str(input(\"enter valid string\"))\n",
        "print(str1)\n",
        "print(type(str1))\n",
        "\n",
        "\n",
        "list1 = list(input(\"enter valid list\"))\n",
        "print(list1)\n",
        "print(type(list1))\n",
        "\n",
        "\n",
        "tuple1 = tuple(input(\"enter valid tuple \"))\n",
        "print(tuple1)\n",
        "print(type(tuple1))\n",
        "\n",
        "\n",
        "set1 = set(input(\"enter valid set \"))\n",
        "print(set1)\n",
        "print(type(set1))\n",
        "\n",
        "\n",
        "\n",
        "dict1 = dict(input(\"enter valid dict\"))\n",
        "print(dict1)\n",
        "print(type(dict1))\n"
      ],
      "metadata": {
        "colab": {
          "base_uri": "https://localhost:8080/",
          "height": 549
        },
        "id": "gB-GoRMiSAzh",
        "outputId": "ad25fbd2-c4a9-4d39-fa22-8fbe43cef1d9"
      },
      "execution_count": null,
      "outputs": [
        {
          "output_type": "stream",
          "name": "stdout",
          "text": [
            "enter valid int number 123\n",
            "123\n",
            "<class 'int'>\n",
            "enter valid float number 312\n",
            "312.0\n",
            "<class 'float'>\n",
            "enter valid complex number 2+4j\n",
            "312.0\n",
            "<class 'float'>\n"
          ]
        },
        {
          "output_type": "error",
          "ename": "KeyboardInterrupt",
          "evalue": "ignored",
          "traceback": [
            "\u001b[0;31m---------------------------------------------------------------------------\u001b[0m",
            "\u001b[0;31mKeyboardInterrupt\u001b[0m                         Traceback (most recent call last)",
            "\u001b[0;32m<ipython-input-4-57ad6ad07a39>\u001b[0m in \u001b[0;36m<cell line: 26>\u001b[0;34m()\u001b[0m\n\u001b[1;32m     24\u001b[0m \u001b[0;34m\u001b[0m\u001b[0m\n\u001b[1;32m     25\u001b[0m \u001b[0;34m\u001b[0m\u001b[0m\n\u001b[0;32m---> 26\u001b[0;31m \u001b[0mbool1\u001b[0m \u001b[0;34m=\u001b[0m \u001b[0mfloat\u001b[0m\u001b[0;34m(\u001b[0m\u001b[0minput\u001b[0m\u001b[0;34m(\u001b[0m\u001b[0;34m\"enter valid bool number \"\u001b[0m\u001b[0;34m)\u001b[0m\u001b[0;34m)\u001b[0m\u001b[0;34m\u001b[0m\u001b[0;34m\u001b[0m\u001b[0m\n\u001b[0m\u001b[1;32m     27\u001b[0m \u001b[0mprint\u001b[0m\u001b[0;34m(\u001b[0m\u001b[0mbool1\u001b[0m\u001b[0;34m)\u001b[0m\u001b[0;34m\u001b[0m\u001b[0;34m\u001b[0m\u001b[0m\n\u001b[1;32m     28\u001b[0m \u001b[0mprint\u001b[0m\u001b[0;34m(\u001b[0m\u001b[0mtype\u001b[0m\u001b[0;34m(\u001b[0m\u001b[0mbool1\u001b[0m\u001b[0;34m)\u001b[0m\u001b[0;34m)\u001b[0m\u001b[0;34m\u001b[0m\u001b[0;34m\u001b[0m\u001b[0m\n",
            "\u001b[0;32m/usr/local/lib/python3.10/dist-packages/ipykernel/kernelbase.py\u001b[0m in \u001b[0;36mraw_input\u001b[0;34m(self, prompt)\u001b[0m\n\u001b[1;32m    849\u001b[0m                 \u001b[0;34m\"raw_input was called, but this frontend does not support input requests.\"\u001b[0m\u001b[0;34m\u001b[0m\u001b[0;34m\u001b[0m\u001b[0m\n\u001b[1;32m    850\u001b[0m             )\n\u001b[0;32m--> 851\u001b[0;31m         return self._input_request(str(prompt),\n\u001b[0m\u001b[1;32m    852\u001b[0m             \u001b[0mself\u001b[0m\u001b[0;34m.\u001b[0m\u001b[0m_parent_ident\u001b[0m\u001b[0;34m,\u001b[0m\u001b[0;34m\u001b[0m\u001b[0;34m\u001b[0m\u001b[0m\n\u001b[1;32m    853\u001b[0m             \u001b[0mself\u001b[0m\u001b[0;34m.\u001b[0m\u001b[0m_parent_header\u001b[0m\u001b[0;34m,\u001b[0m\u001b[0;34m\u001b[0m\u001b[0;34m\u001b[0m\u001b[0m\n",
            "\u001b[0;32m/usr/local/lib/python3.10/dist-packages/ipykernel/kernelbase.py\u001b[0m in \u001b[0;36m_input_request\u001b[0;34m(self, prompt, ident, parent, password)\u001b[0m\n\u001b[1;32m    893\u001b[0m             \u001b[0;32mexcept\u001b[0m \u001b[0mKeyboardInterrupt\u001b[0m\u001b[0;34m:\u001b[0m\u001b[0;34m\u001b[0m\u001b[0;34m\u001b[0m\u001b[0m\n\u001b[1;32m    894\u001b[0m                 \u001b[0;31m# re-raise KeyboardInterrupt, to truncate traceback\u001b[0m\u001b[0;34m\u001b[0m\u001b[0;34m\u001b[0m\u001b[0m\n\u001b[0;32m--> 895\u001b[0;31m                 \u001b[0;32mraise\u001b[0m \u001b[0mKeyboardInterrupt\u001b[0m\u001b[0;34m(\u001b[0m\u001b[0;34m\"Interrupted by user\"\u001b[0m\u001b[0;34m)\u001b[0m \u001b[0;32mfrom\u001b[0m \u001b[0;32mNone\u001b[0m\u001b[0;34m\u001b[0m\u001b[0;34m\u001b[0m\u001b[0m\n\u001b[0m\u001b[1;32m    896\u001b[0m             \u001b[0;32mexcept\u001b[0m \u001b[0mException\u001b[0m \u001b[0;32mas\u001b[0m \u001b[0me\u001b[0m\u001b[0;34m:\u001b[0m\u001b[0;34m\u001b[0m\u001b[0;34m\u001b[0m\u001b[0m\n\u001b[1;32m    897\u001b[0m                 \u001b[0mself\u001b[0m\u001b[0;34m.\u001b[0m\u001b[0mlog\u001b[0m\u001b[0;34m.\u001b[0m\u001b[0mwarning\u001b[0m\u001b[0;34m(\u001b[0m\u001b[0;34m\"Invalid Message:\"\u001b[0m\u001b[0;34m,\u001b[0m \u001b[0mexc_info\u001b[0m\u001b[0;34m=\u001b[0m\u001b[0;32mTrue\u001b[0m\u001b[0;34m)\u001b[0m\u001b[0;34m\u001b[0m\u001b[0;34m\u001b[0m\u001b[0m\n",
            "\u001b[0;31mKeyboardInterrupt\u001b[0m: Interrupted by user"
          ]
        }
      ]
    },
    {
      "cell_type": "code",
      "source": [
        "tup1 = (1,2,3,4,5,6,7,8,9,10)\n",
        "print(tup1)\n",
        "lst1 = list(tup1)\n",
        "print(lst1)\n",
        "lst1.append(19)\n",
        "print(lst1)\n",
        "lst1.extend([22,33,44,55])\n",
        "print(lst1)\n",
        "lst1.insert(0,70)\n",
        "print(lst1)\n",
        "print(tuple(lst1))"
      ],
      "metadata": {
        "id": "JBmc2favbZqE",
        "outputId": "c1d6c23a-c23f-4679-f211-834760861440",
        "colab": {
          "base_uri": "https://localhost:8080/"
        }
      },
      "execution_count": null,
      "outputs": [
        {
          "output_type": "stream",
          "name": "stdout",
          "text": [
            "(1, 2, 3, 4, 5, 6, 7, 8, 9, 10)\n",
            "[1, 2, 3, 4, 5, 6, 7, 8, 9, 10]\n",
            "[1, 2, 3, 4, 5, 6, 7, 8, 9, 10, 19]\n",
            "[1, 2, 3, 4, 5, 6, 7, 8, 9, 10, 19, 22, 33, 44, 55]\n",
            "[70, 1, 2, 3, 4, 5, 6, 7, 8, 9, 10, 19, 22, 33, 44, 55]\n",
            "(70, 1, 2, 3, 4, 5, 6, 7, 8, 9, 10, 19, 22, 33, 44, 55)\n"
          ]
        }
      ]
    },
    {
      "cell_type": "code",
      "source": [
        "# Python program to convert lower letter to upper and upper letter to lower in a string.\n",
        "\n",
        "str1 = \"TestString\"\n",
        "\n",
        "for i in str1:\n",
        "  if i.islower():\n",
        "    i = i.upper()\n",
        "  else:\n",
        "    i = i.lower()\n",
        "  print(i,end='')\n"
      ],
      "metadata": {
        "colab": {
          "base_uri": "https://localhost:8080/"
        },
        "id": "WZI2ubjumk5n",
        "outputId": "5b6be726-2a69-4812-cafd-9eee92dfd0e3"
      },
      "execution_count": null,
      "outputs": [
        {
          "output_type": "stream",
          "name": "stdout",
          "text": [
            "tESTsTRING"
          ]
        }
      ]
    },
    {
      "cell_type": "code",
      "source": [
        "#Write a python program to sort letters of word by lower to upper case format.\n",
        "\n",
        "str1 = \"Write a python program to sort letters of word by lower to upper case format\"\n",
        "strU = \"\"\n",
        "strL = \"\"\n",
        "\n",
        "for i in str1:\n",
        "  if i.islower():\n",
        "    strL = strL + i\n",
        "  else:\n",
        "    strU = strU + i\n",
        "\n",
        "listU=list(strU)\n",
        "listU.sort()\n",
        "\n",
        "listL=list(strL)\n",
        "listL.sort()\n",
        "\n",
        "strU=\"\".join(listU)\n",
        "strL=\"\".join(listL)\n",
        "print(strU+strL)"
      ],
      "metadata": {
        "colab": {
          "base_uri": "https://localhost:8080/"
        },
        "id": "e6uaj4Nmq49x",
        "outputId": "ca2f3ddd-9df1-441b-9353-c6aaceee4d39"
      },
      "execution_count": null,
      "outputs": [
        {
          "output_type": "stream",
          "name": "stdout",
          "text": [
            "              Waaaabcdeeeeeeffghillmmnooooooooopppprrrrrrrrrsssttttttttuwwyy\n"
          ]
        }
      ]
    },
    {
      "cell_type": "code",
      "source": [
        "#Write a program in Python to count lower, upper, numeric and special characters in a string11.\n",
        "\n",
        "str1 = \"Write a program in Python to count lower, upper, numeric and special characters in a string11.\"\n",
        "\n",
        "l=0\n",
        "u=0\n",
        "n=0\n",
        "s=0\n",
        "\n",
        "for i in str1:\n",
        "  if i.islower():\n",
        "    l=l+1\n",
        "  elif i.isupper():\n",
        "    u=u+1\n",
        "  elif i=='1' or i=='2' or i=='3' or i=='4' or i=='5' or i=='6' or i=='7' or i=='8' or i=='9' or i=='0':\n",
        "    n=n+1\n",
        "  else:\n",
        "    s=s+1\n",
        "\n",
        "print('lower ', l)\n",
        "print('upper ', u)\n",
        "print('num ', n)\n",
        "print('special ', s)  \n"
      ],
      "metadata": {
        "id": "CuLHENLTreHC",
        "colab": {
          "base_uri": "https://localhost:8080/"
        },
        "outputId": "b6762b7e-53a7-4829-8ac3-2f34843d9887"
      },
      "execution_count": null,
      "outputs": [
        {
          "output_type": "stream",
          "name": "stdout",
          "text": [
            "lower  72\n",
            "upper  2\n",
            "num  2\n",
            "special  18\n"
          ]
        }
      ]
    },
    {
      "cell_type": "code",
      "source": [
        "#Write a program in Python to count lower, upper, numeric and special characters in a string11.\n",
        "\n",
        "str1 = \"Write a program in Python to count lower, upper, numeric and special characters in a string11.\"\n",
        "\n",
        "l=0\n",
        "u=0\n",
        "n=0\n",
        "s=0\n",
        "\n",
        "for i in str1:\n",
        "  if i.islower():\n",
        "    l=l+1\n",
        "  elif i.isupper():\n",
        "    u=u+1\n",
        "  elif i.isnumeric():\n",
        "    n=n+1\n",
        "  else:\n",
        "    s=s+1\n",
        "\n",
        "print('lower ', l)\n",
        "print('upper ', u)\n",
        "print('num ', n)\n",
        "print('special ', s)  \n"
      ],
      "metadata": {
        "colab": {
          "base_uri": "https://localhost:8080/"
        },
        "id": "y_1bPppqz1aD",
        "outputId": "fd17e906-6436-4c9a-9760-e8db880320e7"
      },
      "execution_count": null,
      "outputs": [
        {
          "output_type": "stream",
          "name": "stdout",
          "text": [
            "lower  72\n",
            "upper  2\n",
            "num  2\n",
            "special  18\n"
          ]
        }
      ]
    },
    {
      "cell_type": "code",
      "source": [
        "#Write a program in Python to remove an empty character from a list sequence.\n",
        "\n",
        "demo_list=['hello','1','','bye']\n",
        "for i in demo_list:\n",
        "  if i == '':\n",
        "    demo_list.remove(i)\n",
        "\n",
        "print (demo_list)"
      ],
      "metadata": {
        "colab": {
          "base_uri": "https://localhost:8080/"
        },
        "id": "RNka6hfZ4s-V",
        "outputId": "3ad2bb71-203d-40c6-c0b3-ccd50bd580d6"
      },
      "execution_count": null,
      "outputs": [
        {
          "output_type": "stream",
          "name": "stdout",
          "text": [
            "['hello', '1', 'bye']\n"
          ]
        }
      ]
    },
    {
      "cell_type": "code",
      "source": [
        "# find the file extension from the name of the file for example demofile.pdf\n",
        "\n",
        "fileName = \"demofile.dfd\"\n",
        "extName=''\n",
        "c=0\n",
        "for i in fileName:\n",
        "  if i =='.':\n",
        "    break\n",
        "  c=c+1\n",
        "\n",
        "print(fileName[c:len(fileName)])\n"
      ],
      "metadata": {
        "colab": {
          "base_uri": "https://localhost:8080/"
        },
        "id": "mVW0Vfd19q81",
        "outputId": "90e61617-8b3d-473b-df39-86015b47c9e2"
      },
      "execution_count": null,
      "outputs": [
        {
          "output_type": "stream",
          "name": "stdout",
          "text": [
            ".dfd\n"
          ]
        }
      ]
    },
    {
      "cell_type": "code",
      "source": [
        "\"\"\"\n",
        "1) Swap two numbers using 3rd variable\n",
        "2) Swap two numbers without using 3rd variable\n",
        "3) Remove duplicate elements from a list without converting to tuple\n",
        "3) Write a program to find greatest common divisor (GCD) or highest common factor (HCF) of given two numbers\n",
        "4) Write a loop to print following series\n",
        "10, 20, 30,  …………………, 300\n",
        "5) Write a loop to print following series\n",
        "105,98,91,………………………,7\n",
        "6) Write a program to print number names of digits in a number like \n",
        "SAMPLE INPUT 231 \t\tSAMPLE OUTPUT TWO THREE ONE\n",
        "7) Write a program to print Fibonacci series till n terms take n =50\n",
        "8) Write a program to print factorial of a number\n",
        "9) Write a program to check if a number is Armstrong or not\n",
        "10) Write a program to convert binary to decimal\n",
        "11) Write a program to convert decimal to binary\n",
        "12) Write a program to check if number is palindrome on not (Without converting to string)\n",
        "13) Write a program to print all numbers which are divisible by 13 but not by 3 between 100 and 500\n",
        "14) Write a Python program to convert temperatures to and from Celsius and Fahrenheit.\n",
        "15) Write a Python program that takes two digits m (row) and n (column) as input and generates a two-dimensional array. The element value in the i-th row and j-th column of the array should be i*j. else it will be 0\n",
        "16. Write a Python program that accepts a string and calculates the number of digits and letters.\n",
        "Sample Data: Python 3.2\n",
        "Expected Output: \n",
        "Letters 6\n",
        "Digits 2\n",
        "17) Print all possible combination for a string or a word\n",
        "Sample input “ABC”\n",
        "Sample output\n",
        "BAC\n",
        "CAB\n",
        "CBA\n",
        "ACB\n",
        "BCA\n",
        "\n",
        "18) Write a Python program to check if a triangle is equilateral, isosceles or scalene. Take 3 inputs for each side\n",
        "\n",
        "\n",
        "Note :\n",
        "An equilateral triangle is a triangle in which all three sides are equal.\n",
        "A scalene triangle is a triangle that has three unequal sides.\n",
        "An isosceles triangle is a triangle with (at least) two equal sides.\n",
        "\n",
        "19) Write a Python program to get the next day of a given date.\n",
        "Expected Output:\n",
        "Input a year: 2016                                                      \n",
        "Input a month [1-12]: 08                                                \n",
        "Input a day [1-31]: 23                                                  \n",
        "The next date is [yyyy-mm-dd] 2016-8-24  \n",
        "\"\"\""
      ],
      "metadata": {
        "id": "dFEUQRw0SH45"
      },
      "execution_count": null,
      "outputs": []
    },
    {
      "cell_type": "code",
      "source": [
        "#1) Swap two numbers using 3rd variable\n",
        "\n",
        "input1 = 10\n",
        "input2 = 20\n",
        "\n",
        "print('Current variable1 and variable2 are: ', input1, ' and ', input2)\n",
        "\n",
        "tempv = input1\n",
        "input1=input2\n",
        "input2=tempv\n",
        "\n",
        "print('Swapped variable1 and variable2 are: ', input1, ' and ', input2)\n"
      ],
      "metadata": {
        "colab": {
          "base_uri": "https://localhost:8080/"
        },
        "id": "bOZ5uJRwXvFj",
        "outputId": "d5244ec1-1d5a-461c-fb0b-04e07dee467c"
      },
      "execution_count": null,
      "outputs": [
        {
          "output_type": "stream",
          "name": "stdout",
          "text": [
            "Current variable1 and variable2 are:  10  and  20\n",
            "Swapped variable1 and variable2 are:  20  and  10\n"
          ]
        }
      ]
    },
    {
      "cell_type": "code",
      "source": [
        "#Swap two numbers without using 3rd variable\n",
        "\n",
        "\n",
        "input1 = 10\n",
        "input2 = 20\n",
        "\n",
        "print('Current variable1 and variable2 are: ', input1, ' and ', input2)\n",
        "\n",
        "input1=input1+input2\n",
        "input2=input1-input2\n",
        "input1=input1-input2\n",
        "\n",
        "print('Swapped variable1 and variable2 are: ', input1, ' and ', input2)\n"
      ],
      "metadata": {
        "colab": {
          "base_uri": "https://localhost:8080/"
        },
        "id": "uTcQcbQWYNJ-",
        "outputId": "dc680225-8ef2-4fbd-8535-0aad1bd4b71d"
      },
      "execution_count": null,
      "outputs": [
        {
          "output_type": "stream",
          "name": "stdout",
          "text": [
            "Current variable1 and variable2 are:  10  and  20\n",
            "Swapped variable1 and variable2 are:  20  and  10\n"
          ]
        }
      ]
    },
    {
      "cell_type": "code",
      "source": [
        "#3) Remove duplicate elements from a list without converting to tuple\n",
        "\n",
        "listA =[2,5,3,2,1,1]\n",
        "setA=set(listA)\n",
        "\n",
        "listA = list(setA)\n",
        "\n",
        "print(listA)\n"
      ],
      "metadata": {
        "colab": {
          "base_uri": "https://localhost:8080/"
        },
        "id": "2fJ-5jPGfk7l",
        "outputId": "12041c5a-40b8-41a2-8409-a5af77152a7f"
      },
      "execution_count": null,
      "outputs": [
        {
          "output_type": "stream",
          "name": "stdout",
          "text": [
            "[1, 2, 3, 5]\n"
          ]
        }
      ]
    },
    {
      "cell_type": "code",
      "source": [
        "from re import I\n",
        "#3) Write a program to find greatest common divisor (GCD) or highest common factor (HCF) of given two numbers\n",
        "\n",
        "num1 = 3\n",
        "num2 = 2\n",
        "\n",
        "if num1>num2:\n",
        "  loopN=num1+1\n",
        "else:\n",
        "  loopN=num2+1\n",
        "\n",
        "hcf=1\n",
        "for i in range(1,loopN//2):\n",
        "  if num1%i==0 and num2%i==0:\n",
        "    hcf = i\n",
        "print('HCF is ', hcf)\n",
        "\n",
        "lcm=(num1*num2)//hcf\n",
        "print('GCD is ', lcm)\n",
        "\n"
      ],
      "metadata": {
        "colab": {
          "base_uri": "https://localhost:8080/"
        },
        "id": "XUGE517KgKif",
        "outputId": "bd091b6f-c666-43b0-edd9-4a2928156b55"
      },
      "execution_count": null,
      "outputs": [
        {
          "output_type": "stream",
          "name": "stdout",
          "text": [
            "HCF is  1\n",
            "GCD is  6\n"
          ]
        }
      ]
    },
    {
      "cell_type": "code",
      "source": [
        "def comparision(a,b,c):\n",
        "  listA = [a,b,c]\n",
        "  print(listA)\n",
        "  maxA = max(listA)\n",
        "  minA = min(listA)\n",
        "  print('max is ', maxA)\n",
        "  print('min is', minA)\n",
        "\n",
        "comparision(22,532,2)\n"
      ],
      "metadata": {
        "colab": {
          "base_uri": "https://localhost:8080/"
        },
        "id": "p4Elfda7hkVV",
        "outputId": "534b0f3d-474b-47e1-c861-04d4afc9aaf0"
      },
      "execution_count": null,
      "outputs": [
        {
          "output_type": "stream",
          "name": "stdout",
          "text": [
            "[22, 532, 2]\n",
            "max is  532\n",
            "min is 2\n"
          ]
        }
      ]
    },
    {
      "cell_type": "code",
      "source": [
        "#split function\n",
        "\n",
        "str2=\"filename.ext\"\n",
        "\n",
        "parts = str2.split(\".\")\n",
        "\n",
        "print(parts[0], parts[1])"
      ],
      "metadata": {
        "colab": {
          "base_uri": "https://localhost:8080/"
        },
        "id": "6iY_OuKJHxD4",
        "outputId": "31ee3482-f312-4f5f-9cf6-eb4b2f7a224d"
      },
      "execution_count": null,
      "outputs": [
        {
          "output_type": "stream",
          "name": "stdout",
          "text": [
            "filename ext\n"
          ]
        }
      ]
    },
    {
      "cell_type": "code",
      "source": [
        "str1=\"string\"\n",
        "list1=list(str1)\n",
        "\n",
        "#append vs extend\n",
        "s=[\"a\",\"b\",\"c\",\"d\"]\n",
        "list1.append(s)\n",
        "\n",
        "list1.extend(\"t\")\n",
        "print(list1)\n",
        "\n",
        "#index() FUNCTION\n",
        "\n",
        "#pop() function\n",
        "\n",
        "\n"
      ],
      "metadata": {
        "colab": {
          "base_uri": "https://localhost:8080/"
        },
        "id": "4u5vvhVJIftb",
        "outputId": "a434412d-4ba2-4965-9ea6-436e2e933529"
      },
      "execution_count": null,
      "outputs": [
        {
          "output_type": "stream",
          "name": "stdout",
          "text": [
            "['s', 't', 'r', 'i', 'n', 'g', ['a', 'b', 'c', 'd'], 't']\n"
          ]
        }
      ]
    },
    {
      "cell_type": "code",
      "source": [
        "#fibonacci series upto 10\n",
        "\n",
        "num1 = 0\n",
        "num2 = 1\n",
        "print(num1)\n",
        "print(num2)\n",
        "counter = 10\n",
        "i=2\n",
        "while (i<(counter)):\n",
        "  num3 = num1 + num2\n",
        "  print(num3)\n",
        "  num1 = num2\n",
        "  num2 = num3\n",
        "  i=i+1"
      ],
      "metadata": {
        "colab": {
          "base_uri": "https://localhost:8080/"
        },
        "id": "Ur-J1_0gcJYm",
        "outputId": "25f6996c-ceed-4346-8f42-a529e049ca55"
      },
      "execution_count": null,
      "outputs": [
        {
          "output_type": "stream",
          "name": "stdout",
          "text": [
            "0\n",
            "1\n",
            "1\n",
            "2\n",
            "3\n",
            "5\n",
            "8\n",
            "13\n",
            "21\n",
            "34\n"
          ]
        }
      ]
    },
    {
      "cell_type": "code",
      "source": [
        "#grades from dictionary\n",
        "\n",
        "stud_name = ['abha','brajesh','chandni','diksha','esha'] #,'fibbo','gopal','hitesh','indra','jatin']\n",
        "stud_num  = {'abha':[99,98,97,96,95],\n",
        "             'brajesh':[69,68,67,66,65],\n",
        "             'chandni':[89,98,77,56,75],\n",
        "             'diksha':[39,48,57,66,75],\n",
        "             'esha':[69,48,47,36,55]}\n",
        "\n",
        "def avg(listA):\n",
        "  total = sum(listA)\n",
        "  n = len(listA)\n",
        "  avg = total/n\n",
        "  return avg\n",
        "\n",
        "def printGrade(avg, name):\n",
        "    if avg > 90:\n",
        "      print(name, ' has received Grade A')\n",
        "    elif avg> 80:\n",
        "      print(name, ' has received Grade B')\n",
        "    elif avg > 70:\n",
        "      print(name, ' has received Grade C')\n",
        "    elif avg > 60:\n",
        "      print(name, ' has received Grade D')\n",
        "    else:\n",
        "      print(name, ' has Failed.')\n",
        "\n",
        "def gradeReport(dictA):\n",
        "  #declaring name, which is an input form the user\n",
        "  name = (input('Enter the students name: ')).lower()\n",
        "\n",
        "  #for loop is checking keys present in the dict\n",
        "  for key in dictA:\n",
        "    #listVal (is an average) is declared as list that comes form the value accessed through the key named \"name\"\n",
        "    listVal = avg(dictA[name])\n",
        "    if key==name:\n",
        "      printGrade(listVal, name)\n",
        "\n",
        "gradeReport(stud_num)"
      ],
      "metadata": {
        "colab": {
          "base_uri": "https://localhost:8080/"
        },
        "id": "gYKvpWadp9ao",
        "outputId": "dff702f4-143d-475f-9fda-dee083a23e7d"
      },
      "execution_count": null,
      "outputs": [
        {
          "output_type": "stream",
          "name": "stdout",
          "text": [
            "Enter the students name: chandni\n",
            "chandni  has received Grade C\n"
          ]
        }
      ]
    },
    {
      "cell_type": "code",
      "source": [
        "\"\"\"#Rock Paper Scissors Game\n",
        "import random\n",
        "\n",
        "def getWinner(machine, human):\n",
        "  # scior < rock\n",
        "  # rock < paper\n",
        "  # paper < scior\n",
        "  if machine == human:\n",
        "    print('Tie. Try again')\n",
        "    Game()\n",
        "  elif machine == 's' and human == 'r':\n",
        "    return 'human'\n",
        "  elif machine == 'r' and human == 'p':\n",
        "    print('Machine is ', machine)\n",
        "    return 'machine'\n",
        "  elif machine == 'p' and human == 's':\n",
        "    return 'human'\n",
        "  else:\n",
        "    print('machine is ', machine)\n",
        "    Game()\n",
        "\n",
        "winner = 'machine'\n",
        "\n",
        "def Game():\n",
        "  userInput = input('Enter your card as s for Scissor, r for Rock, p for Paper: ').lower()\n",
        "  cards = ['r', 'p', 's']\n",
        "  random_machine = random.choice(cards)\n",
        "  winner = str(getWinner(random_machine, userInput))\n",
        "  return winner\n",
        "\n",
        "Game()\n",
        "while(winner != 'human'):\n",
        "  print('machine is ', winner, ' Machine has won try again')\n",
        "  winner = Game()\n",
        "  if winner == 'human':\n",
        "    print('Youre a winner')\n",
        "    break\"\"\""
      ],
      "metadata": {
        "colab": {
          "base_uri": "https://localhost:8080/",
          "height": 389
        },
        "id": "mDF-IZkz5P23",
        "outputId": "8250f9a5-c4e9-4bb6-d3ef-881d855e6555"
      },
      "execution_count": null,
      "outputs": [
        {
          "output_type": "error",
          "ename": "KeyboardInterrupt",
          "evalue": "ignored",
          "traceback": [
            "\u001b[0;31m---------------------------------------------------------------------------\u001b[0m",
            "\u001b[0;31mKeyboardInterrupt\u001b[0m                         Traceback (most recent call last)",
            "\u001b[0;32m<ipython-input-74-175cd7fb0fa5>\u001b[0m in \u001b[0;36m<cell line: 31>\u001b[0;34m()\u001b[0m\n\u001b[1;32m     29\u001b[0m   \u001b[0;32mreturn\u001b[0m \u001b[0mwinner\u001b[0m\u001b[0;34m\u001b[0m\u001b[0;34m\u001b[0m\u001b[0m\n\u001b[1;32m     30\u001b[0m \u001b[0;34m\u001b[0m\u001b[0m\n\u001b[0;32m---> 31\u001b[0;31m \u001b[0mGame\u001b[0m\u001b[0;34m(\u001b[0m\u001b[0;34m)\u001b[0m\u001b[0;34m\u001b[0m\u001b[0;34m\u001b[0m\u001b[0m\n\u001b[0m\u001b[1;32m     32\u001b[0m \u001b[0;32mwhile\u001b[0m\u001b[0;34m(\u001b[0m\u001b[0mwinner\u001b[0m \u001b[0;34m!=\u001b[0m \u001b[0;34m'human'\u001b[0m\u001b[0;34m)\u001b[0m\u001b[0;34m:\u001b[0m\u001b[0;34m\u001b[0m\u001b[0;34m\u001b[0m\u001b[0m\n\u001b[1;32m     33\u001b[0m   \u001b[0mprint\u001b[0m\u001b[0;34m(\u001b[0m\u001b[0;34m'machine is '\u001b[0m\u001b[0;34m,\u001b[0m \u001b[0mwinner\u001b[0m\u001b[0;34m,\u001b[0m \u001b[0;34m' Machine has won try again'\u001b[0m\u001b[0;34m)\u001b[0m\u001b[0;34m\u001b[0m\u001b[0;34m\u001b[0m\u001b[0m\n",
            "\u001b[0;32m<ipython-input-74-175cd7fb0fa5>\u001b[0m in \u001b[0;36mGame\u001b[0;34m()\u001b[0m\n\u001b[1;32m     23\u001b[0m \u001b[0;34m\u001b[0m\u001b[0m\n\u001b[1;32m     24\u001b[0m \u001b[0;32mdef\u001b[0m \u001b[0mGame\u001b[0m\u001b[0;34m(\u001b[0m\u001b[0;34m)\u001b[0m\u001b[0;34m:\u001b[0m\u001b[0;34m\u001b[0m\u001b[0;34m\u001b[0m\u001b[0m\n\u001b[0;32m---> 25\u001b[0;31m   \u001b[0muserInput\u001b[0m \u001b[0;34m=\u001b[0m \u001b[0minput\u001b[0m\u001b[0;34m(\u001b[0m\u001b[0;34m'Enter your card as s for Scissor, r for Rock, p for Paper: '\u001b[0m\u001b[0;34m)\u001b[0m\u001b[0;34m.\u001b[0m\u001b[0mlower\u001b[0m\u001b[0;34m(\u001b[0m\u001b[0;34m)\u001b[0m\u001b[0;34m\u001b[0m\u001b[0;34m\u001b[0m\u001b[0m\n\u001b[0m\u001b[1;32m     26\u001b[0m   \u001b[0mcards\u001b[0m \u001b[0;34m=\u001b[0m \u001b[0;34m[\u001b[0m\u001b[0;34m'r'\u001b[0m\u001b[0;34m,\u001b[0m \u001b[0;34m'p'\u001b[0m\u001b[0;34m,\u001b[0m \u001b[0;34m's'\u001b[0m\u001b[0;34m]\u001b[0m\u001b[0;34m\u001b[0m\u001b[0;34m\u001b[0m\u001b[0m\n\u001b[1;32m     27\u001b[0m   \u001b[0mrandom_machine\u001b[0m \u001b[0;34m=\u001b[0m \u001b[0mrandom\u001b[0m\u001b[0;34m.\u001b[0m\u001b[0mchoice\u001b[0m\u001b[0;34m(\u001b[0m\u001b[0mcards\u001b[0m\u001b[0;34m)\u001b[0m\u001b[0;34m\u001b[0m\u001b[0;34m\u001b[0m\u001b[0m\n",
            "\u001b[0;32m/usr/local/lib/python3.10/dist-packages/ipykernel/kernelbase.py\u001b[0m in \u001b[0;36mraw_input\u001b[0;34m(self, prompt)\u001b[0m\n\u001b[1;32m    849\u001b[0m                 \u001b[0;34m\"raw_input was called, but this frontend does not support input requests.\"\u001b[0m\u001b[0;34m\u001b[0m\u001b[0;34m\u001b[0m\u001b[0m\n\u001b[1;32m    850\u001b[0m             )\n\u001b[0;32m--> 851\u001b[0;31m         return self._input_request(str(prompt),\n\u001b[0m\u001b[1;32m    852\u001b[0m             \u001b[0mself\u001b[0m\u001b[0;34m.\u001b[0m\u001b[0m_parent_ident\u001b[0m\u001b[0;34m,\u001b[0m\u001b[0;34m\u001b[0m\u001b[0;34m\u001b[0m\u001b[0m\n\u001b[1;32m    853\u001b[0m             \u001b[0mself\u001b[0m\u001b[0;34m.\u001b[0m\u001b[0m_parent_header\u001b[0m\u001b[0;34m,\u001b[0m\u001b[0;34m\u001b[0m\u001b[0;34m\u001b[0m\u001b[0m\n",
            "\u001b[0;32m/usr/local/lib/python3.10/dist-packages/ipykernel/kernelbase.py\u001b[0m in \u001b[0;36m_input_request\u001b[0;34m(self, prompt, ident, parent, password)\u001b[0m\n\u001b[1;32m    893\u001b[0m             \u001b[0;32mexcept\u001b[0m \u001b[0mKeyboardInterrupt\u001b[0m\u001b[0;34m:\u001b[0m\u001b[0;34m\u001b[0m\u001b[0;34m\u001b[0m\u001b[0m\n\u001b[1;32m    894\u001b[0m                 \u001b[0;31m# re-raise KeyboardInterrupt, to truncate traceback\u001b[0m\u001b[0;34m\u001b[0m\u001b[0;34m\u001b[0m\u001b[0m\n\u001b[0;32m--> 895\u001b[0;31m                 \u001b[0;32mraise\u001b[0m \u001b[0mKeyboardInterrupt\u001b[0m\u001b[0;34m(\u001b[0m\u001b[0;34m\"Interrupted by user\"\u001b[0m\u001b[0;34m)\u001b[0m \u001b[0;32mfrom\u001b[0m \u001b[0;32mNone\u001b[0m\u001b[0;34m\u001b[0m\u001b[0;34m\u001b[0m\u001b[0m\n\u001b[0m\u001b[1;32m    896\u001b[0m             \u001b[0;32mexcept\u001b[0m \u001b[0mException\u001b[0m \u001b[0;32mas\u001b[0m \u001b[0me\u001b[0m\u001b[0;34m:\u001b[0m\u001b[0;34m\u001b[0m\u001b[0;34m\u001b[0m\u001b[0m\n\u001b[1;32m    897\u001b[0m                 \u001b[0mself\u001b[0m\u001b[0;34m.\u001b[0m\u001b[0mlog\u001b[0m\u001b[0;34m.\u001b[0m\u001b[0mwarning\u001b[0m\u001b[0;34m(\u001b[0m\u001b[0;34m\"Invalid Message:\"\u001b[0m\u001b[0;34m,\u001b[0m \u001b[0mexc_info\u001b[0m\u001b[0;34m=\u001b[0m\u001b[0;32mTrue\u001b[0m\u001b[0;34m)\u001b[0m\u001b[0;34m\u001b[0m\u001b[0;34m\u001b[0m\u001b[0m\n",
            "\u001b[0;31mKeyboardInterrupt\u001b[0m: Interrupted by user"
          ]
        }
      ]
    },
    {
      "cell_type": "code",
      "source": [
        "\"\"\"import random\n",
        "def getWinner(humanInput):\n",
        "  cards = ['r', 'p', 's']\n",
        "  machineInput = random.choice(cards)\n",
        "  print('Machine is ', machineInput)\n",
        "\n",
        "  #human = p\n",
        "  if machineInput == 'r' and humanInput == 'p':\n",
        "    return 'human'\n",
        "  elif machineInput == 'p' and humanInput == 'p':\n",
        "    return 'tie'\n",
        "  elif machineInput == 's' and humanInput == 'p':\n",
        "    return 'machine'\n",
        "\n",
        "  #human = r\n",
        "  if machineInput == 'r' and humanInput == 'r':\n",
        "    return 'tie'\n",
        "  elif machineInput == 'p' and humanInput == 'r':\n",
        "    return 'machine'\n",
        "  elif machineInput == 's' and humanInput == 'r':\n",
        "    return 'human'\n",
        "\n",
        "  #human = s\n",
        "  if machineInput == 'r' and humanInput == 's':\n",
        "    return 'machine'\n",
        "  elif machineInput == 'p' and humanInput == 's':\n",
        "    return 'human'\n",
        "  elif machineInput == 's' and humanInput == 's':\n",
        "    return 'tie'\n",
        "\n",
        "def Game():\n",
        "  userInput = input('Enter your card as s for Scissor, r for Rock, p for Paper: ').lower()\n",
        "  winner = getWinner(userInput)\n",
        "  return winner\n",
        "\n",
        "Game()\n",
        "if winner == 'tie':\n",
        "  print('Machine is also', winner)\n",
        "  print('Uh oh! It is a tie, Try again')\n",
        "  Game()\n",
        "elif winner == 'machine':\n",
        "  print('Machine has won. Try again. And btw machine is ', winner)\n",
        "  Game()\n",
        "else:\n",
        "  print('Congrats you have won!')\"\"\""
      ],
      "metadata": {
        "colab": {
          "base_uri": "https://localhost:8080/"
        },
        "id": "EUQBuxyvCmmf",
        "outputId": "ca0552c3-8f3a-4847-fb19-16e62c22f5d4"
      },
      "execution_count": null,
      "outputs": [
        {
          "output_type": "stream",
          "name": "stdout",
          "text": [
            "Enter your card as s for Scissor, r for Rock, p for Paper: r\n",
            "Machine is  r\n",
            "Machine has won. Try again. And btw machine is  machine\n",
            "Enter your card as s for Scissor, r for Rock, p for Paper: r\n",
            "Machine is  p\n"
          ]
        }
      ]
    },
    {
      "cell_type": "code",
      "source": [
        "import random\n",
        "\n",
        "while(1):\n",
        "  u = input('Enter your card as s for Scissor, r for Rock, p for Paper: ').lower()\n",
        "\n",
        "  cards = ['r', 'p', 's']\n",
        "  m = random.choice(cards)\n",
        "\n",
        "  if (u == m):\n",
        "    print('It is a tie. Play again')\n",
        "    continue\n",
        "  \n",
        "  elif (u == 'r' and m == 'p'):\n",
        "    print('You lose. Paper wins')\n",
        "    continue\n",
        "  elif (u == 'r' and m == 's'):\n",
        "    print('You won! Scissor lose')\n",
        "    break\n",
        "\n",
        "  elif (u == 'p' and m == 's'):\n",
        "    print('You lose. Scissor wins')\n",
        "    continue\n",
        "  elif (u == 'p' and m == 'r'):\n",
        "    print('You won! rock lose')\n",
        "    break\n",
        "\n",
        "  elif (u == 's' and m == 'r'):\n",
        "    print('You lose. Rock wins')\n",
        "    continue\n",
        "  elif (u == 's' and m == 'p'):\n",
        "    print('You won! paper loser')\n",
        "    break"
      ],
      "metadata": {
        "colab": {
          "base_uri": "https://localhost:8080/"
        },
        "id": "a1JJdUrsGF5D",
        "outputId": "3be0e036-57b7-48e0-def4-dc0920391659"
      },
      "execution_count": null,
      "outputs": [
        {
          "output_type": "stream",
          "name": "stdout",
          "text": [
            "Enter your card as s for Scissor, r for Rock, p for Paper: p\n",
            "You lose. Scissor wins\n",
            "Enter your card as s for Scissor, r for Rock, p for Paper: p\n",
            "You lose. Scissor wins\n",
            "Enter your card as s for Scissor, r for Rock, p for Paper: p\n",
            "It is a tie. Play again\n",
            "Enter your card as s for Scissor, r for Rock, p for Paper: p\n",
            "You won! rock lose\n"
          ]
        }
      ]
    },
    {
      "cell_type": "code",
      "source": [
        "def dynamicFn(*anand):\n",
        "  print(anand)\n",
        "\n",
        "a=[1,2,555,12,2]\n",
        "dynamicFn(1,2,4,5,1)\n",
        "dynamicFn(5,'apples', 10, 'Bananas', 'Lord Faaraquad', a[1:5])\n",
        "dynamicFn(33*4, 'a'+' for apple', 'chinese wall')"
      ],
      "metadata": {
        "id": "uXx7hXrEKwaj",
        "colab": {
          "base_uri": "https://localhost:8080/"
        },
        "outputId": "fe453049-5b9a-46c2-80df-2dc52ce04520"
      },
      "execution_count": null,
      "outputs": [
        {
          "output_type": "stream",
          "name": "stdout",
          "text": [
            "(1, 2, 4, 5, 1)\n",
            "(5, 'apples', 10, 'Bananas', 'Lord Faaraquad', [2, 555, 12, 2])\n",
            "(132, 'a for apple', 'chinese wall')\n"
          ]
        }
      ]
    },
    {
      "cell_type": "code",
      "source": [
        "def dynamicFn(anand, *apple):\n",
        "  print(anand, apple)\n",
        "\n",
        "a=[1,2,555,12,2]\n",
        "dynamicFn(1,2,4,5,1)\n",
        "dynamicFn(5,'apples', 10, 'Bananas', 'Lord Faaraquad', a[1:5])\n",
        "dynamicFn(33*4, 'a'+' for apple', 'chinese wall')"
      ],
      "metadata": {
        "colab": {
          "base_uri": "https://localhost:8080/"
        },
        "id": "QBczWdKSCmZI",
        "outputId": "8224220a-cffa-4eae-e360-358fe1b516fc"
      },
      "execution_count": null,
      "outputs": [
        {
          "output_type": "stream",
          "name": "stdout",
          "text": [
            "1 (2, 4, 5, 1)\n",
            "5 ('apples', 10, 'Bananas', 'Lord Faaraquad', [2, 555, 12, 2])\n",
            "132 ('a for apple', 'chinese wall')\n"
          ]
        }
      ]
    },
    {
      "cell_type": "code",
      "source": [
        "def dynamicFn(*anand, apple):\n",
        "  return (*anand+apple)\n",
        "\n",
        "dynamicFn(1,2,4,5,1)\n"
      ],
      "metadata": {
        "colab": {
          "base_uri": "https://localhost:8080/",
          "height": 132
        },
        "id": "peQ6iIqsD9nG",
        "outputId": "55a3be36-bcb6-47ee-f9d4-755ed12e3213"
      },
      "execution_count": null,
      "outputs": [
        {
          "output_type": "error",
          "ename": "SyntaxError",
          "evalue": "ignored",
          "traceback": [
            "\u001b[0;36m  File \u001b[0;32m\"<ipython-input-11-c9f2b385b715>\"\u001b[0;36m, line \u001b[0;32m2\u001b[0m\n\u001b[0;31m    return (*anand+apple)\u001b[0m\n\u001b[0m            ^\u001b[0m\n\u001b[0;31mSyntaxError\u001b[0m\u001b[0;31m:\u001b[0m cannot use starred expression here\n"
          ]
        }
      ]
    },
    {
      "cell_type": "code",
      "source": [
        "def dynamicFn(anand, *apple):\n",
        "  sum = 0\n",
        "  for arg in apple:\n",
        "    sum = sum+ arg\n",
        "\n",
        "  return (anand+ sum)\n",
        "\n",
        "dynamicFn(1,2,4,5,1)\n"
      ],
      "metadata": {
        "colab": {
          "base_uri": "https://localhost:8080/"
        },
        "id": "haXnviTxEaUF",
        "outputId": "9ba5520f-7dc3-4dd6-d7ea-7941393bb34e"
      },
      "execution_count": null,
      "outputs": [
        {
          "output_type": "execute_result",
          "data": {
            "text/plain": [
              "13"
            ]
          },
          "metadata": {},
          "execution_count": 15
        }
      ]
    },
    {
      "cell_type": "code",
      "source": [
        "def dynamicFn(val, *args, **kwargs):\n",
        "  print(val, args, kwargs)\n",
        "\n",
        "dynamicFn(1, 'apple', [1,'b',3], y={'a':'apple', 'b':'banana', 'c':'cherry'})"
      ],
      "metadata": {
        "colab": {
          "base_uri": "https://localhost:8080/"
        },
        "id": "5ZdV1B8UEf6r",
        "outputId": "af36a9d7-c394-4153-fb58-35e2fcac2d1b"
      },
      "execution_count": null,
      "outputs": [
        {
          "output_type": "stream",
          "name": "stdout",
          "text": [
            "1 ('apple', [1, 'b', 3]) {'y': {'a': 'apple', 'b': 'banana', 'c': 'cherry'}}\n"
          ]
        }
      ]
    },
    {
      "cell_type": "code",
      "source": [
        "#Write a program to print twin primes less than 1000. \n",
        "#If two consecutive odd numbers are both prime then they are known as twin primes output 3,5   5,7  11,13\n",
        "\n",
        "oldprime = 3\n",
        "newprime = 5\n",
        "\n",
        "rangeNum = 1000\n",
        "\n",
        "for k in range(5, rangeNum):\n",
        "\n",
        "  #checking if current value of k is prime\n",
        "  x = True\n",
        "  for i in range(2, k):\n",
        "    if k%i == 0:\n",
        "      x = False\n",
        "\n",
        "  #this part will not execute until current value of k is prime\n",
        "  if x == True:\n",
        "    if newprime-oldprime == 2:\n",
        "      print(oldprime, newprime)\n",
        "    oldprime = newprime\n",
        "    newprime = k"
      ],
      "metadata": {
        "colab": {
          "base_uri": "https://localhost:8080/"
        },
        "id": "OropBqPYn0sZ",
        "outputId": "1c720197-6643-4ce6-bb1b-a68056bf014a"
      },
      "execution_count": null,
      "outputs": [
        {
          "output_type": "stream",
          "name": "stdout",
          "text": [
            "3 5\n",
            "5 7\n",
            "11 13\n",
            "17 19\n",
            "29 31\n",
            "41 43\n",
            "59 61\n",
            "71 73\n",
            "101 103\n",
            "107 109\n",
            "137 139\n",
            "149 151\n",
            "179 181\n",
            "191 193\n",
            "197 199\n",
            "227 229\n",
            "239 241\n",
            "269 271\n",
            "281 283\n",
            "311 313\n",
            "347 349\n",
            "419 421\n",
            "431 433\n",
            "461 463\n",
            "521 523\n",
            "569 571\n",
            "599 601\n",
            "617 619\n",
            "641 643\n",
            "659 661\n",
            "809 811\n",
            "821 823\n",
            "827 829\n",
            "857 859\n",
            "881 883\n"
          ]
        }
      ]
    },
    {
      "cell_type": "markdown",
      "source": [
        "**May 16th 2023**"
      ],
      "metadata": {
        "id": "pzJf4x-x9I2C"
      }
    },
    {
      "cell_type": "code",
      "source": [],
      "metadata": {
        "id": "tPUsa8-39n0Q"
      },
      "execution_count": null,
      "outputs": []
    },
    {
      "cell_type": "markdown",
      "source": [
        "**3 Types of Errors**\n",
        "\n",
        "\n",
        "1.   Runtime Error -- Can only be handled thru exception\n",
        "2.   Syntax Error\n",
        "3.   Indentation Error\n",
        "\n"
      ],
      "metadata": {
        "id": "fZmYJC8JCH_0"
      }
    },
    {
      "cell_type": "code",
      "source": [
        "# write a program\n",
        "# 1. Exception\n",
        "# 2. ZeroDivisionError\n",
        "# 3. AttributeError\n",
        "# 4. IndexError\n",
        "\n",
        "try:\n",
        "  n = 0\n",
        "  print(100/n)\n",
        "except ZeroDivisionError as zde:\n",
        "  print('the error is ', zde)\n",
        "\n",
        "try:\n",
        "  z = (1,2,3)\n",
        "  z.pop(z[77])\n",
        "  print(z[9898])    \n",
        "except Exception as ie:\n",
        "  print('error is  ', ie)  \n",
        "\n",
        "try:\n",
        "  q = ['s','ee','qwqw']\n",
        "  print(q[44])\n",
        "except IndexError as ie:\n",
        "  print('error is ', ie)\n"
      ],
      "metadata": {
        "colab": {
          "base_uri": "https://localhost:8080/"
        },
        "id": "7b93fi7rV-KG",
        "outputId": "0c6e256a-5c35-4220-ca93-4da5a1d5a93b"
      },
      "execution_count": null,
      "outputs": [
        {
          "output_type": "stream",
          "name": "stdout",
          "text": [
            "the error is  division by zero\n",
            "error is   'tuple' object has no attribute 'pop'\n",
            "error is  list index out of range\n"
          ]
        }
      ]
    },
    {
      "cell_type": "code",
      "source": [
        "# write a program\n",
        "# 1. Exception\n",
        "# 2. ZeroDivisionError\n",
        "# 3. AttributeError\n",
        "# 4. IndexError\n",
        "\n",
        "try:\n",
        "  n = 3\n",
        "  print(100/n)\n",
        "except ZeroDivisionError as zde:\n",
        "  print('the error is ', zde)\n",
        "\n",
        "try:\n",
        "  z = [1,2,3]\n",
        "  print(z.pop())  \n",
        "except Exception as ie:\n",
        "  print('error is  ', ie)  \n",
        "\n",
        "try:\n",
        "  q = ['s','ee','qwqw']\n",
        "  print(q[2])\n",
        "except IndexError as ie:\n",
        "  print('error is ', ie)\n"
      ],
      "metadata": {
        "id": "RF0TVTaeb2ji"
      },
      "execution_count": null,
      "outputs": []
    },
    {
      "cell_type": "code",
      "source": [
        "\"\"\"lst1 = [1,2,3,4,5,6,7]\n",
        "\n",
        "i = a\n",
        "\n",
        "if i in ASCII[1:5]:\n",
        "  print(True)\n",
        "else:\n",
        "  print(False)\"\"\"\n",
        "\n",
        "print('For Strings')\n",
        "print(\"------------------------\")\n",
        "print(dir('Hello')) # list of all the possible inbuilt fn for string\n",
        "\n",
        "print('\\n***********************')\n",
        "print('For Int')\n",
        "print(\"------------------------\")\n",
        "print(dir(101)) # list of all the possible inbuilt fn for int\n",
        "\n",
        "\n",
        "print('\\n***********************')\n",
        "print('For list')\n",
        "print(\"------------------------\")\n",
        "print(dir([])) # list of all the possible inbuilt fn for list\n"
      ],
      "metadata": {
        "colab": {
          "base_uri": "https://localhost:8080/"
        },
        "id": "pLKrEKBkiJxK",
        "outputId": "ee2df162-9e2b-43af-cccd-924d3054407a"
      },
      "execution_count": null,
      "outputs": [
        {
          "output_type": "stream",
          "name": "stdout",
          "text": [
            "For Strings\n",
            "------------------------\n",
            "['__add__', '__class__', '__contains__', '__delattr__', '__dir__', '__doc__', '__eq__', '__format__', '__ge__', '__getattribute__', '__getitem__', '__getnewargs__', '__gt__', '__hash__', '__init__', '__init_subclass__', '__iter__', '__le__', '__len__', '__lt__', '__mod__', '__mul__', '__ne__', '__new__', '__reduce__', '__reduce_ex__', '__repr__', '__rmod__', '__rmul__', '__setattr__', '__sizeof__', '__str__', '__subclasshook__', 'capitalize', 'casefold', 'center', 'count', 'encode', 'endswith', 'expandtabs', 'find', 'format', 'format_map', 'index', 'isalnum', 'isalpha', 'isascii', 'isdecimal', 'isdigit', 'isidentifier', 'islower', 'isnumeric', 'isprintable', 'isspace', 'istitle', 'isupper', 'join', 'ljust', 'lower', 'lstrip', 'maketrans', 'partition', 'removeprefix', 'removesuffix', 'replace', 'rfind', 'rindex', 'rjust', 'rpartition', 'rsplit', 'rstrip', 'split', 'splitlines', 'startswith', 'strip', 'swapcase', 'title', 'translate', 'upper', 'zfill']\n",
            "\n",
            "***********************\n",
            "For Int\n",
            "------------------------\n",
            "['__abs__', '__add__', '__and__', '__bool__', '__ceil__', '__class__', '__delattr__', '__dir__', '__divmod__', '__doc__', '__eq__', '__float__', '__floor__', '__floordiv__', '__format__', '__ge__', '__getattribute__', '__getnewargs__', '__gt__', '__hash__', '__index__', '__init__', '__init_subclass__', '__int__', '__invert__', '__le__', '__lshift__', '__lt__', '__mod__', '__mul__', '__ne__', '__neg__', '__new__', '__or__', '__pos__', '__pow__', '__radd__', '__rand__', '__rdivmod__', '__reduce__', '__reduce_ex__', '__repr__', '__rfloordiv__', '__rlshift__', '__rmod__', '__rmul__', '__ror__', '__round__', '__rpow__', '__rrshift__', '__rshift__', '__rsub__', '__rtruediv__', '__rxor__', '__setattr__', '__sizeof__', '__str__', '__sub__', '__subclasshook__', '__truediv__', '__trunc__', '__xor__', 'as_integer_ratio', 'bit_count', 'bit_length', 'conjugate', 'denominator', 'from_bytes', 'imag', 'numerator', 'real', 'to_bytes']\n",
            "\n",
            "***********************\n",
            "For list\n",
            "------------------------\n",
            "['__add__', '__class__', '__class_getitem__', '__contains__', '__delattr__', '__delitem__', '__dir__', '__doc__', '__eq__', '__format__', '__ge__', '__getattribute__', '__getitem__', '__gt__', '__hash__', '__iadd__', '__imul__', '__init__', '__init_subclass__', '__iter__', '__le__', '__len__', '__lt__', '__mul__', '__ne__', '__new__', '__reduce__', '__reduce_ex__', '__repr__', '__reversed__', '__rmul__', '__setattr__', '__setitem__', '__sizeof__', '__str__', '__subclasshook__', 'append', 'clear', 'copy', 'count', 'extend', 'index', 'insert', 'pop', 'remove', 'reverse', 'sort']\n"
          ]
        }
      ]
    },
    {
      "cell_type": "markdown",
      "source": [],
      "metadata": {
        "id": "G0PJ3U4CmFMT"
      }
    },
    {
      "cell_type": "code",
      "source": [
        "#Write a program to find out the prime factors of a number. Example: prime factors of 56\n",
        "#ps. according to byjus.com, As the number 7 is a prime number, it should have only two factors, such as one and the number itself.\n",
        "\n",
        "rangeNum = 99\n",
        "for k in range(2, rangeNum+1):\n",
        "  x = True\n",
        "  for i in range(2, k):\n",
        "    if k%i == 0:\n",
        "      x = False\n",
        "  if x == True and rangeNum%k == 0:\n",
        "    print(str(k) + \" is a Prime factor\")"
      ],
      "metadata": {
        "colab": {
          "base_uri": "https://localhost:8080/"
        },
        "id": "0ql8fPuOl0MS",
        "outputId": "58b4b216-eaad-4a18-8c65-f36ae03fcf3a"
      },
      "execution_count": null,
      "outputs": [
        {
          "output_type": "stream",
          "name": "stdout",
          "text": [
            "3 is a Prime factor\n",
            "11 is a Prime factor\n"
          ]
        }
      ]
    },
    {
      "cell_type": "code",
      "source": [
        "#If all digits of a number n are multiplied by each other repeating with the product, \n",
        "#the one digit number obtained at last is called the multiplicative digital root of n.\n",
        "#The number of times digits need to be multiplied to reach one digit is called the multiplicative persistance of n\n",
        "\n",
        "#Example: 86 -> 48 -> 32 -> 6 (MDR 6, MPersistence 3)\n",
        "# 341 -> 12->2           (MDR 2, MPersistence 2)\n",
        "\n",
        "\n",
        "def selfMulti(n):\n",
        "  a = 1\n",
        "  for i in range(len(str(n))):\n",
        "    mod = n%10\n",
        "    a = a*mod\n",
        "    n = n//10\n",
        "  return a\n",
        "\n",
        "givenNum = int(input(\"Enter a number: \"))\n",
        "print(\"The entered number is:\", givenNum)\n",
        "MDR = givenNum\n",
        "\n",
        "count = 0\n",
        "while(MDR>9):\n",
        "  MDR = selfMulti(MDR)\n",
        "  count = count+1\n",
        "\n",
        "print('MDR is', MDR)\n",
        "print('MPersistence is', count)\n"
      ],
      "metadata": {
        "colab": {
          "base_uri": "https://localhost:8080/"
        },
        "id": "oyyF8joxs4Uu",
        "outputId": "2a8bfe6d-1a73-44bc-c6df-694a44605d86"
      },
      "execution_count": null,
      "outputs": [
        {
          "output_type": "stream",
          "name": "stdout",
          "text": [
            "Enter a number: 333\n",
            "The entered number is: 333\n",
            "MDR is 4\n",
            "MPersistence is 3\n"
          ]
        }
      ]
    },
    {
      "cell_type": "markdown",
      "source": [
        "**May 17th 2023**"
      ],
      "metadata": {
        "id": "_aXwmJHUD9oE"
      }
    },
    {
      "cell_type": "code",
      "source": [
        "\"\"\"\n",
        "Write this dictonary to text file\n",
        "read the data from text file\n",
        "and convert it back to dictoanary\n",
        "\"\"\"\n",
        "val={}\n",
        "for k in range(5):\n",
        "  val[\"Name\"+str(k)]=k\n",
        "\n",
        "val=str(val)\n",
        "#print(dict1)\n",
        "\n",
        "f = open(\"dict.txt\", 'w')\n",
        "f.write(val)\n",
        "f.close()\n",
        "f = open(\"dict.txt\", 'r')\n",
        "outVal = f.read()\n",
        "\n",
        "#outVal is in string format. hence, converting string back to dict\n",
        "outDict = eval(outVal)\n",
        "print(outDict)\n",
        "f.close()\n",
        "\n",
        "#this is what eval does\n",
        "print(eval(\"1+3\"))"
      ],
      "metadata": {
        "colab": {
          "base_uri": "https://localhost:8080/"
        },
        "id": "FbajEpfqEAoB",
        "outputId": "2089c204-2a0f-419f-ac9f-a8dd860c3d2e"
      },
      "execution_count": null,
      "outputs": [
        {
          "output_type": "stream",
          "name": "stdout",
          "text": [
            "{'Name0': 0, 'Name1': 1, 'Name2': 2, 'Name3': 3, 'Name4': 4}\n",
            "4\n"
          ]
        }
      ]
    },
    {
      "cell_type": "markdown",
      "source": [
        "**MAY 18TH 2023**"
      ],
      "metadata": {
        "id": "i6NOAS9kXJGb"
      }
    },
    {
      "cell_type": "code",
      "source": [
        "# create class dellXzen\n",
        "# create 3 variable dell1, dell2, dell3\n",
        "# create 3 objects dXz1, dXz2, dXz3\n",
        "# from each object access variable\n",
        "\n",
        "class dellXzen:\n",
        "  dell1 = 'dell1'\n",
        "  dell2 = 'dell2'\n",
        "  dell3 = 'dell3'\n",
        "\n",
        "dXz1 = dellXzen()\n",
        "dXz2 = dellXzen()\n",
        "dXz3 = dellXzen()\n",
        "\n",
        "print(dXz1.dell1)\n",
        "print(dXz2.dell2)\n",
        "print(dXz3.dell3)"
      ],
      "metadata": {
        "colab": {
          "base_uri": "https://localhost:8080/"
        },
        "id": "6dxv7tipXPmS",
        "outputId": "0d32ceb1-1617-40bd-f3c4-ed46c9e645cc"
      },
      "execution_count": null,
      "outputs": [
        {
          "output_type": "stream",
          "name": "stdout",
          "text": [
            "dell1\n",
            "dell2\n",
            "dell3\n"
          ]
        }
      ]
    },
    {
      "cell_type": "code",
      "source": [
        "#class -> blueprint\n",
        "#object -> something made from that blueprint\n",
        "#form a blueprint we can make a house\n",
        "#once we have a house, we can access rooms in it\n",
        "\n",
        "class House:\n",
        "  livingroom = 'sofa, tv, lamp'\n",
        "  bedroom = 'bed, nightstand'\n",
        "  kitchen = 'stove, countertop'\n",
        "  toilet = 'shower'\n",
        "print('')\n",
        "print('')\n",
        "\n",
        "\n",
        "#house in dallas\n",
        "newHouse = House()\n",
        "\n",
        "print(newHouse)\n",
        "\n",
        "\n",
        "print('')\n",
        "print('')\n",
        "print(newHouse.livingroom)\n",
        "print(newHouse.kitchen)\n",
        "\n",
        "\n",
        "#house in newyork\n",
        "newyorkHouse = House()\n",
        "furniture = newyorkHouse.livingroom\n",
        "print(furniture)"
      ],
      "metadata": {
        "colab": {
          "base_uri": "https://localhost:8080/"
        },
        "id": "CODyVcf2cpjk",
        "outputId": "2cf47d6c-a8a7-4540-a253-b220a2e82aa3"
      },
      "execution_count": null,
      "outputs": [
        {
          "output_type": "stream",
          "name": "stdout",
          "text": [
            "\n",
            "\n",
            "<__main__.House object at 0x7f4fa1983a30>\n",
            "\n",
            "\n",
            "sofa, tv, lamp\n",
            "stove, countertop\n",
            "sofa, tv, lamp\n"
          ]
        }
      ]
    },
    {
      "cell_type": "code",
      "source": [
        "class iPhone15Pro:\n",
        "  def __init__(self, processor, ram, int_mem, display, camera, price):\n",
        "    self.processor = processor\n",
        "    self.ram = ram\n",
        "    self.int_mem = int_mem\n",
        "    self.display = display\n",
        "    self.camera = camera\n",
        "    self.price = price\n",
        "\n",
        "  def print_details(self):\n",
        "    print(\"Processor: \", self.processor,\n",
        "          \"\\nRAM: \", self.ram,\n",
        "          \"\\nInternal Memory: \", self.int_mem,\n",
        "          \"\\nDisplay: \", self.display,\n",
        "          \"\\nCamera: \", self.camera)\n",
        "  \n",
        "  def print_price(self):\n",
        "    print('')\n",
        "    print('Retail Price is $', self.price)\n",
        "    newLinePrice = (self.price)/2\n",
        "    print('New Line Price gets 50% off, hence the price for new line customers is $', newLinePrice)\n",
        "    switchPrice = abs((self.price)-800)\n",
        "    print('Switch Price gets $800 off, hence the price for switch customers on new Go5G max plan is $', switchPrice)\n",
        "    upgrade = (self.price)//18\n",
        "    print('Upgrade price for existing customers is $', upgrade, ' per month for 18 months')\n",
        "\n",
        "\n",
        "newiphone = iPhone15Pro('3.1Ghz', '4GB', '128GB', '6.5 inches', '50MP', 1000)\n",
        "newiphone.print_details()\n",
        "newiphone.print_price()"
      ],
      "metadata": {
        "colab": {
          "base_uri": "https://localhost:8080/"
        },
        "id": "6R6OweP8k06r",
        "outputId": "25b10ca9-eff5-43b8-c0c9-8770f176017c"
      },
      "execution_count": null,
      "outputs": [
        {
          "output_type": "stream",
          "name": "stdout",
          "text": [
            "Processor:  3.1Ghz \n",
            "RAM:  4GB \n",
            "Internal Memory:  128GB \n",
            "Display:  6.5 inches \n",
            "Camera:  50MP\n",
            "\n",
            "Retail Price is $ 1000\n",
            "New Line Price gets 50% off, hence the price for new line customers is $ 500.0\n",
            "Switch Price gets $800 off, hence the price for switch customers on new Go5G max plan is $ 200\n",
            "Upgrade price for existing customers is $ 55  per month for 18 months\n"
          ]
        }
      ]
    },
    {
      "cell_type": "code",
      "source": [
        "class computer:\n",
        "  def __init__(self, model, price):\n",
        "    self.model = model\n",
        "    self.price = price\n",
        "\n",
        "  def printname(self):\n",
        "    print(\"Model Name is: \", self.model, \"\\nPrice of the model is \", self.price)"
      ],
      "metadata": {
        "id": "tHjYyP8p_py-"
      },
      "execution_count": null,
      "outputs": []
    },
    {
      "cell_type": "code",
      "source": [
        "class desktop(computer):\n",
        "  def __init__(self, brand, price):\n",
        "    self.brand = brand\n",
        "    self.price = price\n",
        "\n",
        "  def printname(self):\n",
        "    print(\"Name of desktop is : \", self.brand, \"\\nCost is \", self.price)"
      ],
      "metadata": {
        "id": "Yf-AsLb6_5ov"
      },
      "execution_count": null,
      "outputs": []
    },
    {
      "cell_type": "code",
      "source": [
        "class laptop(computer):\n",
        "  def __init__(self, brand, price):\n",
        "    self.brand = brand\n",
        "    self.price = price\n",
        "\n",
        "  def printname(self):\n",
        "    print(\"Name of laptop is : \", self.brand, \"\\nCost is \", self.price)"
      ],
      "metadata": {
        "id": "EKox8zukA9aa"
      },
      "execution_count": null,
      "outputs": []
    },
    {
      "cell_type": "code",
      "source": [
        "comp1 = desktop('apple macmini', 2000)\n",
        "comp1.printname()"
      ],
      "metadata": {
        "colab": {
          "base_uri": "https://localhost:8080/"
        },
        "id": "2Z6TKght_7Yc",
        "outputId": "bd8c3177-623b-4c8d-f474-78dd7838ec70"
      },
      "execution_count": null,
      "outputs": [
        {
          "output_type": "stream",
          "name": "stdout",
          "text": [
            "Name of desktop is :  apple macmini \n",
            "Cost is  2000\n"
          ]
        }
      ]
    },
    {
      "cell_type": "code",
      "source": [
        "comp2 = laptop('dell inspiron', 800)\n",
        "comp2.printname()"
      ],
      "metadata": {
        "colab": {
          "base_uri": "https://localhost:8080/"
        },
        "id": "Z5ByDEID_9-W",
        "outputId": "1ba7248c-6cdb-4e86-c30d-4a311cc4cb67"
      },
      "execution_count": null,
      "outputs": [
        {
          "output_type": "stream",
          "name": "stdout",
          "text": [
            "Name of laptop is :  dell inspiron \n",
            "Cost is  800\n"
          ]
        }
      ]
    },
    {
      "cell_type": "code",
      "source": [
        "# super() function\n",
        "\n",
        "class Alpha:\n",
        "\tclassvar1 = \"classvar1 - Class Alpha - Class local variable\"\n",
        "\tdef __init__(self):\n",
        "\t\tself.var1 = \"self.var1 - Class Alpha - Constructor or __init__ function\"\n",
        "\t\tself.classvar1 = \"self.classvar1 - Class Alpha - Instance variable\"\n",
        "\n",
        "class Beta(Alpha):\n",
        "  classvar1 = \"Class Beta - Class local variable\"\n",
        "  def __init__(self):\n",
        "    \n",
        "    self.var1 = \"self.var1 - Class Beta - Constructor or __init__ function\"\n",
        "    self.classvar1 = \"self.classvar1 - Class Beta - Instance variable\"\n",
        "    super().__init__()\n",
        "a = Alpha()\n",
        "b = Beta()\n",
        "\n",
        "print(b.classvar1, b.var1)"
      ],
      "metadata": {
        "id": "cRD74IOdkddZ"
      },
      "execution_count": null,
      "outputs": []
    },
    {
      "cell_type": "code",
      "source": [
        "# Method Overriding\n",
        "\n",
        "class Alpha:\n",
        "\tclassvar1 = \"classvar1 - Class Alpha - Class local variable\"\n",
        "\tdef __init__(self):\n",
        "\t\tself.var1 = \"self.var1 - Class Alpha - Constructor or __init__ function\"\n",
        "\t\tself.classvar1 = \"self.classvar1 - Class Alpha - Instance variable\"\n",
        "\n",
        "class Beta(Alpha):\n",
        "  classvar1 = \"Class Beta - Class local variable\"\n",
        "  def __init__(self):\n",
        "    self.var1 = \"self.var1 - Class Beta - Constructor or __init__ function\"\n",
        "    self.classvar1 = \"self.classvar1 - Class Beta - Instance variable\"\n",
        "a = Alpha()\n",
        "b = Beta()\n",
        "\n",
        "print(b.var1, b.classvar1)"
      ],
      "metadata": {
        "id": "kWg2QzD0MKT3"
      },
      "execution_count": null,
      "outputs": []
    },
    {
      "cell_type": "code",
      "source": [
        "#a class to show example of overriding using super function\n",
        "\n",
        "class Drive:\n",
        "    driver = 'Default Driver Input'\n",
        "\n",
        "    def __init__(self, driver):\n",
        "        self.driver = driver\n",
        "\n",
        "    def acc(self, speed):\n",
        "        print(self.driver, 'is driving at', speed)\n",
        "\n",
        "class Autopilot(Drive):\n",
        "    driver = 'Default Autopilot Driver'\n",
        "\n",
        "    def __init__(self, driver):\n",
        "        super().__init__(driver)\n",
        "        self.autopilot = 'Autopilot Driver'\n",
        "\n",
        "    def acc(self, speed):\n",
        "        speed = 60\n",
        "        print(self.autopilot, 'is driving at', speed)\n",
        "\n",
        "class Manual(Drive):\n",
        "    driver = 'Human Driver'\n",
        "\n",
        "    def __init__(self, humanName):\n",
        "        super().__init__(humanName)\n",
        "        self.humanName = humanName + ' Driver'\n",
        "\n",
        "    def acc(self, speed):\n",
        "        print(self.humanName, 'is driving at', speed)\n",
        "\n",
        "# Creating instances of the classes and invoking the overridden methods\n",
        "\n",
        "drive1 = Drive('John')\n",
        "drive1.acc(50)  # Output: John is driving at 50\n",
        "\n",
        "autopilot1 = Autopilot('Tesla Autopilot')\n",
        "autopilot1.acc(0)  # Output: Autopilot Driving is driving at 60\n",
        "\n",
        "manual1 = Manual('Sarah')\n",
        "manual1.acc(40)  # Output: Sarah Driver is driving at 40\n"
      ],
      "metadata": {
        "colab": {
          "base_uri": "https://localhost:8080/"
        },
        "id": "qTjfObnr6GPk",
        "outputId": "a7c2b2a6-8dbe-4010-c147-1a7ce2480f36"
      },
      "execution_count": 11,
      "outputs": [
        {
          "output_type": "stream",
          "name": "stdout",
          "text": [
            "John is driving at 50\n",
            "Autopilot Driver is driving at 60\n",
            "Sarah Driver is driving at 40\n"
          ]
        }
      ]
    }
  ]
}