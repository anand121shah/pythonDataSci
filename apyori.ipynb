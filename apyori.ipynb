{
  "nbformat": 4,
  "nbformat_minor": 0,
  "metadata": {
    "colab": {
      "provenance": [],
      "authorship_tag": "ABX9TyMYo66anjH5WO4TY7HJ1+KC",
      "include_colab_link": true
    },
    "kernelspec": {
      "name": "python3",
      "display_name": "Python 3"
    },
    "language_info": {
      "name": "python"
    }
  },
  "cells": [
    {
      "cell_type": "markdown",
      "metadata": {
        "id": "view-in-github",
        "colab_type": "text"
      },
      "source": [
        "<a href=\"https://colab.research.google.com/github/as-bestinclass/pythonDataSci/blob/main/apyori.ipynb\" target=\"_parent\"><img src=\"https://colab.research.google.com/assets/colab-badge.svg\" alt=\"Open In Colab\"/></a>"
      ]
    },
    {
      "cell_type": "code",
      "execution_count": 1,
      "metadata": {
        "colab": {
          "base_uri": "https://localhost:8080/"
        },
        "id": "lHW06agCq9IL",
        "outputId": "872ae814-8b01-4371-a6c6-1bd22c0103c2"
      },
      "outputs": [
        {
          "output_type": "stream",
          "name": "stdout",
          "text": [
            "Looking in indexes: https://pypi.org/simple, https://us-python.pkg.dev/colab-wheels/public/simple/\n",
            "Collecting apyori\n",
            "  Downloading apyori-1.1.2.tar.gz (8.6 kB)\n",
            "  Preparing metadata (setup.py) ... \u001b[?25l\u001b[?25hdone\n",
            "Building wheels for collected packages: apyori\n",
            "  Building wheel for apyori (setup.py) ... \u001b[?25l\u001b[?25hdone\n",
            "  Created wheel for apyori: filename=apyori-1.1.2-py3-none-any.whl size=5956 sha256=d0b0a78e94cf243010f8e734dcd09ffc343728dc5ad0f92c52745a54ba6d3300\n",
            "  Stored in directory: /root/.cache/pip/wheels/c4/1a/79/20f55c470a50bb3702a8cb7c94d8ada15573538c7f4baebe2d\n",
            "Successfully built apyori\n",
            "Installing collected packages: apyori\n",
            "Successfully installed apyori-1.1.2\n"
          ]
        }
      ],
      "source": [
        "!pip install apyori"
      ]
    },
    {
      "cell_type": "code",
      "source": [
        "from apyori import apriori"
      ],
      "metadata": {
        "id": "Qn-69DJMrD5P"
      },
      "execution_count": 2,
      "outputs": []
    },
    {
      "cell_type": "code",
      "source": [
        "transactions = [    ['apple', 'banana', 'orange'],\n",
        "    ['banana', 'pear'],\n",
        "    ['apple', 'banana', 'pear'],\n",
        "    ['apple', 'banana']\n",
        "]"
      ],
      "metadata": {
        "id": "5LcYVIx6xovH"
      },
      "execution_count": 3,
      "outputs": []
    },
    {
      "cell_type": "code",
      "source": [
        "min_support = 0.3\n",
        "min_confidence = 0.6\n"
      ],
      "metadata": {
        "id": "E9Ea7Qo3xr1y"
      },
      "execution_count": 4,
      "outputs": []
    },
    {
      "cell_type": "code",
      "source": [
        "results = list(apriori(transactions, min_support=min_support, min_confidence=min_confidence))"
      ],
      "metadata": {
        "id": "zkLam8Gfxs__"
      },
      "execution_count": 5,
      "outputs": []
    },
    {
      "cell_type": "code",
      "source": [
        "print(results)"
      ],
      "metadata": {
        "colab": {
          "base_uri": "https://localhost:8080/"
        },
        "id": "6aT8hT9-xwil",
        "outputId": "6d5edb10-2d8e-460c-dea5-560304edc735"
      },
      "execution_count": 7,
      "outputs": [
        {
          "output_type": "stream",
          "name": "stdout",
          "text": [
            "[RelationRecord(items=frozenset({'apple'}), support=0.75, ordered_statistics=[OrderedStatistic(items_base=frozenset(), items_add=frozenset({'apple'}), confidence=0.75, lift=1.0)]), RelationRecord(items=frozenset({'banana'}), support=1.0, ordered_statistics=[OrderedStatistic(items_base=frozenset(), items_add=frozenset({'banana'}), confidence=1.0, lift=1.0)]), RelationRecord(items=frozenset({'banana', 'apple'}), support=0.75, ordered_statistics=[OrderedStatistic(items_base=frozenset(), items_add=frozenset({'banana', 'apple'}), confidence=0.75, lift=1.0), OrderedStatistic(items_base=frozenset({'apple'}), items_add=frozenset({'banana'}), confidence=1.0, lift=1.0), OrderedStatistic(items_base=frozenset({'banana'}), items_add=frozenset({'apple'}), confidence=0.75, lift=1.0)]), RelationRecord(items=frozenset({'banana', 'pear'}), support=0.5, ordered_statistics=[OrderedStatistic(items_base=frozenset({'pear'}), items_add=frozenset({'banana'}), confidence=1.0, lift=1.0)])]\n"
          ]
        }
      ]
    }
  ]
}