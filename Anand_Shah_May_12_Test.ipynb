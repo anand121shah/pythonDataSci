{
  "nbformat": 4,
  "nbformat_minor": 0,
  "metadata": {
    "colab": {
      "provenance": [],
      "authorship_tag": "ABX9TyNdfMbUCRGugNIi2a32v39x",
      "include_colab_link": true
    },
    "kernelspec": {
      "name": "python3",
      "display_name": "Python 3"
    },
    "language_info": {
      "name": "python"
    }
  },
  "cells": [
    {
      "cell_type": "markdown",
      "metadata": {
        "id": "view-in-github",
        "colab_type": "text"
      },
      "source": [
        "<a href=\"https://colab.research.google.com/github/as-bestinclass/pythonDataSci/blob/main/Anand_Shah_May_12_Test.ipynb\" target=\"_parent\"><img src=\"https://colab.research.google.com/assets/colab-badge.svg\" alt=\"Open In Colab\"/></a>"
      ]
    },
    {
      "cell_type": "code",
      "execution_count": null,
      "metadata": {
        "id": "rZp3M8XKKOe5"
      },
      "outputs": [],
      "source": [
        "#Write a function to calculate area and circumference of a circle.\n",
        "\n",
        "#A certain print order costs $3.00 per copy for orders of less than ten copies, $1.25 for for orders of 10-99 copies, and $0.90 per copy for orders of 100 copies or more. Write a function that returns a total price for the order.\n",
        "\n",
        "#Write a function that takes in a list of integers or floats and returns True if the list contains duplicates and False if the list does not contain duplicates. Use a type hint to “enforce” the correct type.\n",
        "\n",
        "#Write a function that takes in a string and returns the string with all the vowels\n",
        "\n",
        "#Using a loop (that is, without using a slice), write a function “reverse_list” and takes a list as input and returns a copy of the list in which all the elements have been swapped (the first element with the last, the second with the next to last, etc.) Test that it works correctly for the following lists:"
      ]
    },
    {
      "cell_type": "code",
      "source": [
        "#Write a function to calculate area and circumference of a circle.\n",
        "\n",
        "r = 6\n",
        "\n",
        "def Area(r):\n",
        "  return 3.14*r*r\n",
        "\n",
        "def Circumference(r):\n",
        "  return 3.14*2*r\n",
        "\n",
        "print ('Area is ', Area(r))\n",
        "print ('Circumference is ', Circumference(r))"
      ],
      "metadata": {
        "colab": {
          "base_uri": "https://localhost:8080/"
        },
        "id": "u7m8SemvL0wW",
        "outputId": "57a4d088-f449-4db5-f6f5-a1d35521c6b8"
      },
      "execution_count": null,
      "outputs": [
        {
          "output_type": "stream",
          "name": "stdout",
          "text": [
            "Area is  113.03999999999999\n",
            "Circumference is  37.68\n"
          ]
        }
      ]
    },
    {
      "cell_type": "code",
      "source": [
        "#A certain print order costs $3.00 per copy for orders of less than ten copies, \n",
        "#$1.25 for for orders of 10-99 copies, \n",
        "#and $0.90 per copy for orders of 100 copies or more. \n",
        "#Write a function that returns a total price for the order.\n",
        "\n",
        "c = 72\n",
        "\n",
        "def total(c):\n",
        "  if (c<10):\n",
        "    cost = 3*c\n",
        "  elif (c <100):\n",
        "    cost = 1.25*c\n",
        "  else:\n",
        "    cost = .9*c\n",
        "  return cost\n",
        "\n",
        "print('Cost is ', total(c))"
      ],
      "metadata": {
        "colab": {
          "base_uri": "https://localhost:8080/"
        },
        "id": "cp7ysIIGPrsD",
        "outputId": "8396d898-1200-48e7-821f-0f525461b459"
      },
      "execution_count": null,
      "outputs": [
        {
          "output_type": "stream",
          "name": "stdout",
          "text": [
            "Cost is  90.0\n"
          ]
        }
      ]
    },
    {
      "cell_type": "code",
      "source": [
        "#Write a function that takes in a list of integers or floats \n",
        "#and returns True if the list contains duplicates and False if the list does not contain duplicates. \n",
        "#Use a type hint to “enforce” the correct type.\n",
        "\n",
        "list1 = [1,2,3,1]\n",
        "\n",
        "def checkDuplicate(checkList):\n",
        "  for i in range(len(checkList)):\n",
        "    for j in range(len(checkList)):\n",
        "      if checkList[i] == checkList[j] and i != j:\n",
        "        return True\n",
        "  \n",
        "  return False\n",
        "        \n",
        "print(checkDuplicate(list1))"
      ],
      "metadata": {
        "colab": {
          "base_uri": "https://localhost:8080/"
        },
        "id": "VcW-YmxxP9b0",
        "outputId": "f12e1148-6497-4e38-e29f-4d6b19ea2a8d"
      },
      "execution_count": null,
      "outputs": [
        {
          "output_type": "stream",
          "name": "stdout",
          "text": [
            "True\n"
          ]
        }
      ]
    },
    {
      "cell_type": "code",
      "source": [
        "##Write a function that takes in a string and returns the string with all the vowels\n",
        "\n",
        "Word = 'my program is pretty good for vowel checker. lets see the output'\n",
        "Word = Word.lower()\n",
        "\n",
        "\n",
        "def vowelW(str1):\n",
        "  resultStr = ''\n",
        "  for i in str1:\n",
        "    if i == 'a' or i == 'e' or i == 'i' or i == 'o' or i == 'u':\n",
        "      resultStr = resultStr + i\n",
        "  return resultStr\n",
        "\n",
        "\n",
        "print('Vowel form is ', vowelW(Word))"
      ],
      "metadata": {
        "colab": {
          "base_uri": "https://localhost:8080/"
        },
        "id": "_pi4XizgQ4hN",
        "outputId": "e92c08cb-3b32-483a-87db-e166ef53364b"
      },
      "execution_count": null,
      "outputs": [
        {
          "output_type": "stream",
          "name": "stdout",
          "text": [
            "Vowel form is  oaieooooeeeeeeeouu\n"
          ]
        }
      ]
    },
    {
      "cell_type": "code",
      "source": [
        "#Using a loop (that is, without using a slice), \n",
        "#write a function “reverse_list” and takes a list as input and \n",
        "#returns a copy of the list in which all the elements have been swapped (the first element with the last, the second with the next to last, etc.) \n",
        "#Test that it works correctly for the following lists:\n",
        "\n",
        "list1 = [1,2,3.14,5,10,0]\n",
        "\n",
        "def reverse_list(inpList):\n",
        "  newlist = []\n",
        "  for i in range(len(inpList)-1, -1, -1):\n",
        "    newlist.append(inpList[i])\n",
        "  return newlist\n",
        "\n",
        "print(reverse_list(list1))\n",
        "    "
      ],
      "metadata": {
        "colab": {
          "base_uri": "https://localhost:8080/"
        },
        "id": "qgB0gNh8VWVg",
        "outputId": "43b7b148-ce98-4ceb-cb58-a1c7c57ce785"
      },
      "execution_count": null,
      "outputs": [
        {
          "output_type": "stream",
          "name": "stdout",
          "text": [
            "[0, 10, 5, 3.14, 2, 1]\n"
          ]
        }
      ]
    }
  ]
}