{
  "nbformat": 4,
  "nbformat_minor": 0,
  "metadata": {
    "colab": {
      "provenance": []
    },
    "kernelspec": {
      "name": "python3",
      "display_name": "Python 3"
    },
    "language_info": {
      "name": "python"
    }
  },
  "cells": [
    {
      "cell_type": "code",
      "execution_count": null,
      "metadata": {
        "colab": {
          "base_uri": "https://localhost:8080/"
        },
        "id": "2q-6NpKjFs4P",
        "outputId": "8c7c2593-1d84-45a4-c287-a1bff384623e"
      },
      "outputs": [
        {
          "output_type": "stream",
          "name": "stdout",
          "text": [
            "10\n",
            "5\n",
            "After swapping a is 10\n",
            "After swapping b is 5\n"
          ]
        }
      ],
      "source": [
        "#1) Swap two numbers using 3rd variable\n",
        "\n",
        "a=5\n",
        "b=10\n",
        "c=a\n",
        "a=b\n",
        "print(a)\n",
        "b=c\n",
        "print(b)\n",
        "print(\"After swapping a\" ,\"is\",a)\n",
        "print(\"After swapping b\" ,\"is\",b)\n"
      ]
    },
    {
      "cell_type": "code",
      "source": [
        "#2) Swap two numbers without using 3rd variable.\n",
        "a=50\n",
        "b=10\n",
        "a=a+b\n",
        "#print(a)\n",
        "b=a-b\n",
        "#print(b)\n",
        "a=a-b\n",
        "#print(a)\n",
        "print(\"After swapping a\" ,\"is\",a)\n",
        "print(\"After swapping b\" ,\"is\",b)\n"
      ],
      "metadata": {
        "colab": {
          "base_uri": "https://localhost:8080/"
        },
        "id": "-3kIjMyTWp0C",
        "outputId": "6b02434b-ce27-47fc-e1e6-8eb2c9960d21"
      },
      "execution_count": null,
      "outputs": [
        {
          "output_type": "stream",
          "name": "stdout",
          "text": [
            "After swapping a is 10\n",
            "After swapping b is 50\n"
          ]
        }
      ]
    },
    {
      "cell_type": "code",
      "source": [],
      "metadata": {
        "id": "z1IcdYRFYNgE"
      },
      "execution_count": null,
      "outputs": []
    },
    {
      "cell_type": "code",
      "source": [
        "#3) Remove duplicate elements from a list without converting to tuple.\n",
        "lst1=[1,2,4,5,2,1,6,7]\n",
        "new_list=[]\n",
        "for i  in lst1:\n",
        "  if i not in new_list:\n",
        "   new_list.append(i)\n",
        "print(new_list)\n",
        "\n"
      ],
      "metadata": {
        "colab": {
          "base_uri": "https://localhost:8080/"
        },
        "id": "hVTI2xgbXB5i",
        "outputId": "ef118670-d756-4a18-f56b-f09045a1dc49"
      },
      "execution_count": null,
      "outputs": [
        {
          "output_type": "stream",
          "name": "stdout",
          "text": [
            "[1, 2, 4, 5, 6, 7]\n"
          ]
        }
      ]
    },
    {
      "cell_type": "code",
      "source": [
        "#4.Write a program to find greatest common divisor (GCD) or highest common factor (HCF) of given two numbers\n",
        "n1=int(input(\"Enter the first number:\"))\n",
        "n2=int(input(\"Enter the  second number:\"))\n",
        "if n1<n2:\n",
        "  small_no=n1\n",
        "else:\n",
        "  small_no=n2\n",
        "HCF=1\n",
        "for i in range (1,small_no+1):\n",
        "  if n1%i==0 and n2%i==0:\n",
        "      HCF=i\n",
        "      print(HCF)\n",
        "print(\"HCF of\",n1,n2,\"is\",HCF)    \n"
      ],
      "metadata": {
        "id": "uFTob_8T7-Kz",
        "colab": {
          "base_uri": "https://localhost:8080/"
        },
        "outputId": "488f75c5-05f7-4120-e5d2-d0ddeb01576d"
      },
      "execution_count": null,
      "outputs": [
        {
          "output_type": "stream",
          "name": "stdout",
          "text": [
            "Enter the first number:6\n",
            "Enter the  second number:9\n",
            "1\n",
            "1\n",
            "3\n",
            "3\n",
            "HCF of 6 9 is 3\n"
          ]
        }
      ]
    },
    {
      "cell_type": "code",
      "source": [
        "#4) Write a loop to print following series\n",
        "#10, 20, 30, ....., 300\n",
        "for i in range(10,301,10):\n",
        "  print(i,end=',')\n",
        "  \n",
        "\n"
      ],
      "metadata": {
        "id": "C7hphnTn-l1u",
        "colab": {
          "base_uri": "https://localhost:8080/"
        },
        "outputId": "f865474b-d20a-4746-d351-2e6ea5b0fe65"
      },
      "execution_count": null,
      "outputs": [
        {
          "output_type": "stream",
          "name": "stdout",
          "text": [
            "10,20,30,40,50,60,70,80,90,100,110,120,130,140,150,160,170,180,190,200,210,220,230,240,250,260,270,280,290,300,"
          ]
        }
      ]
    },
    {
      "cell_type": "code",
      "source": [
        "#5.Write a loop to print following series\n",
        "#105,98,91,………………………,7\n",
        "\n",
        "for i in range(105,6,-7):\n",
        "  print(i,end=' ')\n"
      ],
      "metadata": {
        "colab": {
          "base_uri": "https://localhost:8080/"
        },
        "id": "kx1j9uw_V50H",
        "outputId": "6d6f3d3f-3f14-4d10-fc6c-3bd0b4805255"
      },
      "execution_count": null,
      "outputs": [
        {
          "output_type": "stream",
          "name": "stdout",
          "text": [
            "105 98 91 84 77 70 63 56 49 42 35 28 21 14 7 "
          ]
        }
      ]
    },
    {
      "cell_type": "code",
      "source": [
        "#6.Write a program to print number names of digits in a number like \n",
        "#SAMPLE INPUT 231 \t\tSAMPLE OUTPUT TWO THREE ONE\n",
        "a = int(input(\"Enter the number: \"))\n",
        "words =[]\n",
        "str1 = str(a)\n",
        "\n",
        "for i in str1:\n",
        "    if i == '1':\n",
        "        words.append(\"One\")\n",
        "    if i == '2':\n",
        "        words.append(\"Two\")\n",
        "    if i == '3':\n",
        "        words.append(\"Three\")\n",
        "    if i == '4':\n",
        "        words.append(\"Four\")\n",
        "    if i == '5':\n",
        "        words.append(\"Five\")\n",
        "    if i == '6':\n",
        "        words.append(\"Six\")\n",
        "    if i == '7':\n",
        "        words.append(\"Seven\")\n",
        "    if i == '8':\n",
        "        words.append(\"Eight\")\n",
        "    if i == '9':\n",
        "        words.append(\"Nine\")\n",
        "result=' '.join(words)\n",
        "print(result)    \n",
        "    \n",
        "\n",
        "\n",
        "\n"
      ],
      "metadata": {
        "colab": {
          "base_uri": "https://localhost:8080/"
        },
        "id": "qmpeASkHXzf-",
        "outputId": "a51b1524-adea-4671-feb4-1a3d9ed71670"
      },
      "execution_count": null,
      "outputs": [
        {
          "output_type": "stream",
          "name": "stdout",
          "text": [
            "Enter the number: 456\n",
            "Four Five Six\n"
          ]
        }
      ]
    },
    {
      "cell_type": "code",
      "source": [
        "#7) Write a program to print Fibonacci series till n terms take n =50\n",
        "# 0,1,1,2,3,5,8,13....\n",
        "a=0\n",
        "b=1\n",
        "n=50\n",
        "print(a,b,end=', ')\n",
        "for i in range(n-2):\n",
        " \n",
        "  c=a+b\n",
        "  print(c,end=',')\n",
        "  a=b\n",
        "  b=c"
      ],
      "metadata": {
        "colab": {
          "base_uri": "https://localhost:8080/"
        },
        "id": "vSkMVpnxY79-",
        "outputId": "db28dc0d-4df6-4f3e-f3c4-e13b8daf2cc5"
      },
      "execution_count": null,
      "outputs": [
        {
          "output_type": "stream",
          "name": "stdout",
          "text": [
            "0 1, 1,2,3,5,8,13,21,34,55,89,144,233,377,610,987,1597,2584,4181,6765,10946,17711,28657,46368,75025,121393,196418,317811,514229,832040,1346269,2178309,3524578,5702887,9227465,14930352,24157817,39088169,63245986,102334155,165580141,267914296,433494437,701408733,1134903170,1836311903,2971215073,4807526976,7778742049,"
          ]
        }
      ]
    },
    {
      "cell_type": "code",
      "source": [
        "#8.Write a program to print factorial of a number.\n",
        "num=int(input(\"Enter the number:\"))\n",
        "factorial=1\n",
        "if num < 0:\n",
        "  print(\"The number should be positive.\")\n",
        "elif num==0:\n",
        " print(\"The factorial of  is 1.\")  \n",
        "else:\n",
        "  for i in range(1,num+1):\n",
        "   factorial=factorial*i\n",
        "  print(\"The factorial of\",num, \"is:\",factorial)\n",
        "\n",
        "\n"
      ],
      "metadata": {
        "id": "t783D7GhiRG5",
        "colab": {
          "base_uri": "https://localhost:8080/"
        },
        "outputId": "8d2eb211-cf89-401f-e260-8f039226388d"
      },
      "execution_count": null,
      "outputs": [
        {
          "output_type": "stream",
          "name": "stdout",
          "text": [
            "Enter the number:6\n",
            "The factorila of 6 is: 720\n"
          ]
        }
      ]
    },
    {
      "cell_type": "code",
      "source": [
        "#9.Write a program to check if a number is Armstrong or not.\n",
        "#An Armstrong number is one whose sum of digits raised to the power three equals the number itself. 371, for example, is an Armstrong number because 3**3 + 7**3 + 1**3 = 371\n",
        "\n",
        "n=int(input(\"Enter the number:\"))\n",
        "num=n\n",
        "sum=0\n",
        "while num>0:\n",
        " a=num%10 # it gives remainder\n",
        " print(a)\n",
        " sum+=a*a*a\n",
        " print(sum)\n",
        " num=num//10\n",
        " print(num)\n",
        "if sum==n:\n",
        "  print(\"It is Armstrong number.\")\n",
        "else:\n",
        "  print(\"It is not a armstrong number.\") \n"
      ],
      "metadata": {
        "colab": {
          "base_uri": "https://localhost:8080/"
        },
        "id": "u1TcmtGXuuz7",
        "outputId": "4b60917a-d460-4171-8590-463c0606fb0d"
      },
      "execution_count": null,
      "outputs": [
        {
          "output_type": "stream",
          "name": "stdout",
          "text": [
            "Enter the number:371\n",
            "1\n",
            "1\n",
            "37\n",
            "7\n",
            "344\n",
            "3\n",
            "3\n",
            "371\n",
            "0\n",
            "It is Armstrong number.\n"
          ]
        }
      ]
    },
    {
      "cell_type": "code",
      "source": [
        "371%10"
      ],
      "metadata": {
        "colab": {
          "base_uri": "https://localhost:8080/"
        },
        "id": "MTWZOafb0ATS",
        "outputId": "5f89bd32-f3a1-4440-a1b7-c01fa8950d33"
      },
      "execution_count": null,
      "outputs": [
        {
          "output_type": "execute_result",
          "data": {
            "text/plain": [
              "1"
            ]
          },
          "metadata": {},
          "execution_count": 2
        }
      ]
    },
    {
      "cell_type": "code",
      "source": [
        "10.#Write a program to convert binary to decimal\n",
        "num = int(input(\"Enter the binary number:\"))\n",
        "power = 0\n",
        "decimal_sum = 0\n",
        "\n",
        "while num > 0:\n",
        "    a = num % 10\n",
        "    decimal_sum += a * (2 ** power)\n",
        "    num = num // 10\n",
        "    power += 1\n",
        "print(\"The required decimal number is:\",decimal_sum)"
      ],
      "metadata": {
        "colab": {
          "base_uri": "https://localhost:8080/"
        },
        "id": "SoRd2ymX78aJ",
        "outputId": "19b47b76-8ace-49a3-b9d9-a18f2c1d04e0"
      },
      "execution_count": null,
      "outputs": [
        {
          "output_type": "stream",
          "name": "stdout",
          "text": [
            "Enter the binary number:10011\n",
            "The required decimal number is: 19\n"
          ]
        }
      ]
    },
    {
      "cell_type": "code",
      "source": [
        "#11.Write a program to convert decimal to binary\n",
        "num = int(input(\"Enter the decimal number:\"))\n",
        "\n",
        "binary_num = []\n",
        "\n",
        "while num > 0:\n",
        "    remainder = str(num % 2)\n",
        "    binary_num.append(remainder)\n",
        "    num = num // 2\n",
        "\n",
        "binary_num.reverse()\n",
        "print(binary_num)\n",
        "binary_nums=''.join(binary_num)\n",
        "\n",
        "print(\"The required binary number is:\", binary_nums)"
      ],
      "metadata": {
        "colab": {
          "base_uri": "https://localhost:8080/"
        },
        "id": "6ijS2WQADhfr",
        "outputId": "cfa71b95-cce5-4216-ac04-28394a765e05"
      },
      "execution_count": null,
      "outputs": [
        {
          "output_type": "stream",
          "name": "stdout",
          "text": [
            "Enter the decimal number:19\n",
            "['1', '0', '0', '1', '1']\n",
            "The required binary number is: 10011\n"
          ]
        }
      ]
    },
    {
      "cell_type": "code",
      "source": [
        "19%10"
      ],
      "metadata": {
        "colab": {
          "base_uri": "https://localhost:8080/"
        },
        "id": "WCH0jSjNBrhW",
        "outputId": "a302a3b1-dda6-4d9b-fe48-519b4df010f4"
      },
      "execution_count": null,
      "outputs": [
        {
          "output_type": "execute_result",
          "data": {
            "text/plain": [
              "9"
            ]
          },
          "metadata": {},
          "execution_count": 39
        }
      ]
    },
    {
      "cell_type": "code",
      "source": [
        "#12) Write a program to check if number is palindrome on not (Without converting to string)\n",
        "n=int(input(\"Enter the number:\"))\n",
        "num=n\n",
        "rev=0\n",
        "pallin=[]\n",
        "while num>0:\n",
        "  a=num%10\n",
        "  rev=rev*10+a\n",
        "  num=num//10\n",
        "if n==rev:\n",
        "   print(\"It is a pallindrome number.\")\n",
        "else:\n",
        "   print(\"It is not a pallindrome number.\")  "
      ],
      "metadata": {
        "colab": {
          "base_uri": "https://localhost:8080/"
        },
        "id": "WapA_pIKFkGx",
        "outputId": "4d417007-5e86-4936-a8cf-2cababdf2374"
      },
      "execution_count": null,
      "outputs": [
        {
          "output_type": "stream",
          "name": "stdout",
          "text": [
            "Enter the number:345\n",
            "It is not a pallindrome number.\n"
          ]
        }
      ]
    },
    {
      "cell_type": "markdown",
      "source": [
        "# **OR**"
      ],
      "metadata": {
        "id": "jmJ6vNU1SdQh"
      }
    },
    {
      "cell_type": "code",
      "source": [
        "#12) Write a program to check if number is palindrome on not (Without converting to string)\n",
        "n=int(input(\"Enter the number:\"))\n",
        "num=n\n",
        "rev=[]\n",
        "pallin=[]\n",
        "while num>0:\n",
        "  a=num%10\n",
        "  num=num//10\n",
        "  rev.append(str(a))\n",
        "  #print(rev)\n",
        "\n",
        "pallin=''.join(rev)\n",
        "print(pallin)\n",
        "  \n",
        "if n==int(pallin):\n",
        "   print(\"It is a pallindrome number.\")\n",
        "else:\n",
        "   print(\"It is not a pallindrome number.\")"
      ],
      "metadata": {
        "colab": {
          "base_uri": "https://localhost:8080/"
        },
        "id": "3LBAOGiwKvmg",
        "outputId": "7e3d6771-2c22-43cd-b4da-8339fdff7af7"
      },
      "execution_count": null,
      "outputs": [
        {
          "output_type": "stream",
          "name": "stdout",
          "text": [
            "Enter the number:567\n",
            "765\n",
            "It is not a pallindrome number.\n"
          ]
        }
      ]
    },
    {
      "cell_type": "code",
      "source": [
        "#13) Write a program to print all numbers which are divisible by 13 but not by 3 between 100 and 500\n",
        "for i in range(100,501):\n",
        "  if i%13==0 and i%3!=0:\n",
        "    print(i,end=' ')"
      ],
      "metadata": {
        "colab": {
          "base_uri": "https://localhost:8080/"
        },
        "id": "5o9AAh-xTSPO",
        "outputId": "128da1ac-c3a2-425d-a7d5-968b3f435aae"
      },
      "execution_count": null,
      "outputs": [
        {
          "output_type": "stream",
          "name": "stdout",
          "text": [
            "104 130 143 169 182 208 221 247 260 286 299 325 338 364 377 403 416 442 455 481 494 "
          ]
        }
      ]
    },
    {
      "cell_type": "code",
      "source": [
        "#14) Write a Python program to convert temperatures to and from Celsius and Fahrenheit.\n",
        "def Fahrenheit_to_Celsius(Fahrenheit):\n",
        "\n",
        "  Celsius=(Fahrenheit-32)*5/9\n",
        "  return Celsius \n",
        "def Celsius_to_Fahrenheit(Celsius):\n",
        "  Fahrenheit=(Celsius*9/5)+32\n",
        "  return Fahrenheit \n",
        "\n",
        "Fahrenheit=float(input(\"Enter the Fahrenheit teperature:\"))\n",
        "Celsius=Fahrenheit_to_Celsius(Fahrenheit)\n",
        "print(\"The  Celsius temperature is\",Celsius)\n",
        "\n",
        "Celsius=float(input(\"Enter the Celsius teperature:\"))\n",
        "Fahrenheit=Celsius_to_Fahrenheit(Celsius)\n",
        "print(\"The  Fahrenheit temperature is\",Fahrenheit)\n"
      ],
      "metadata": {
        "id": "OtFsPHoSSbB3",
        "colab": {
          "base_uri": "https://localhost:8080/"
        },
        "outputId": "1cd210ae-9d77-4e3e-805b-a8dbc0b008da"
      },
      "execution_count": null,
      "outputs": [
        {
          "output_type": "stream",
          "name": "stdout",
          "text": [
            "Enter the Fahrenheit teperature:76\n",
            "The  Celsius temperature is 24.444444444444443\n",
            "Enter the Celsius teperature:24\n",
            "The  Fahrenheit temperature is 75.2\n"
          ]
        }
      ]
    },
    {
      "cell_type": "code",
      "source": [
        "'''15) Write a Python program that takes two digits m (row) and n (column) as input and generates a two-dimensional array. The element value in the i-th row\n",
        " and j-th column of the array should be i*j. else it will be 0'''\n",
        "row_num = int(input(\"Input number of rows: \"))\n",
        "col_num = int(input(\"Input number of columns: \"))\n",
        "\n",
        "# 2d list list[0][1]\n",
        "grid = []\n",
        "for i in range(row_num):\n",
        "    row = []\n",
        "    for j in range(col_num):\n",
        "        row.append(i * j)\n",
        "    grid.append(row)\n",
        "    print(row)\n"
      ],
      "metadata": {
        "id": "J6NkmOYHS1kA",
        "colab": {
          "base_uri": "https://localhost:8080/"
        },
        "outputId": "c0b54433-c01d-45dc-d017-29c5451bf4bc"
      },
      "execution_count": 2,
      "outputs": [
        {
          "output_type": "stream",
          "name": "stdout",
          "text": [
            "Input number of rows: 4\n",
            "Input number of columns: 4\n",
            "[0, 0, 0, 0]\n",
            "[0, 1, 2, 3]\n",
            "[0, 2, 4, 6]\n",
            "[0, 3, 6, 9]\n"
          ]
        }
      ]
    },
    {
      "cell_type": "code",
      "source": [
        "'''16. Write a Python program that accepts a string and calculates the number of digits and letters.\n",
        "Sample Data: Python 3.2\n",
        "Expected Output: \n",
        "Letters 6\n",
        "Digits 2'''\n",
        "digit=0\n",
        "letter=0\n",
        "str1=input(\"enter the string:\")\n",
        "for i in str1:\n",
        "  if i.isalpha():\n",
        "   letter=letter+1\n",
        "  elif i.isdigit(): \n",
        "   digit=digit+1\n",
        "  else:\n",
        "    pass\n",
        "print(\"Total letters are.\",letter)\n",
        "print(\"Total digits are.\",digit)    \n"
      ],
      "metadata": {
        "id": "zUISnaLPS6OB",
        "colab": {
          "base_uri": "https://localhost:8080/"
        },
        "outputId": "2f90224f-64fe-4866-994a-49c9cdff1e04"
      },
      "execution_count": null,
      "outputs": [
        {
          "output_type": "stream",
          "name": "stdout",
          "text": [
            "enter the string:435hgh 57y\n",
            "Total letters are. 4\n",
            "Total digits are. 5\n"
          ]
        }
      ]
    },
    {
      "cell_type": "code",
      "source": [
        "'''17) Print all possible combination for a string or a word\n",
        "Sample input “ABC”\n",
        "Sample output\n",
        "BAC\n",
        "CAB\n",
        "CBA\n",
        "ACB\n",
        "BCA'''\n",
        "\n",
        "import random\n",
        "all_combinations=[]\n",
        "\n",
        "def get_permutation(string_inp):\n",
        "  list_final=[]\n",
        "  for k in range(len(string_inp)):\n",
        "    set_temp=set()\n",
        "    words=[c for c in string_inp]\n",
        "    words.pop(k)\n",
        "    while len(set_temp)!=len(string_inp)-1:\n",
        "      random.shuffle(words)\n",
        "      set_temp.add(string_inp[k]+\"\".join(words))\n",
        "    list_final=list_final+list(set_temp)\n",
        "  return list_final\n",
        "#{'uyyp', 'yyup', 'yuyp', 'yupy', 'upyy', 'uypy', 'pyuy', 'yypu', 'puyy', 'ypyu', 'ypuy', 'pyyu'}\n",
        "print(get_permutation('yupy'))\n",
        "\n",
        "\n"
      ],
      "metadata": {
        "id": "BYdSL8rOTEE0",
        "colab": {
          "base_uri": "https://localhost:8080/"
        },
        "outputId": "74e79bda-672d-4f4d-ac54-72a18ec7419f"
      },
      "execution_count": 3,
      "outputs": [
        {
          "output_type": "stream",
          "name": "stdout",
          "text": [
            "['yupy', 'yuyp', 'ypyu', 'uypy', 'upyy', 'uyyp', 'pyyu', 'pyuy', 'puyy', 'yupy', 'ypyu', 'ypuy']\n"
          ]
        }
      ]
    },
    {
      "cell_type": "code",
      "source": [
        "#18) Write a Python program to check if a triangle is equilateral, isosceles or scalene. Take 3 inputs for each side.\n",
        "a = int(input(\"Enter a variable: \"))\n",
        "b=int(input(\"Enter b variable: \"))\n",
        "c=int(input(\"Enter c variable8: \"))\n",
        "print(a,b,c)\n",
        "if a==b and b==c:\n",
        "  print(\"The triangle is equilateral.\")\n",
        "elif a==b or b==c:\n",
        "  print(\"The triangle is isosceles.\")\n",
        "elif a!=b and b!=c:\n",
        "  print(\"The triangle is scalene.\")\n",
        "else:\n",
        "  print(\"Error value.\")     "
      ],
      "metadata": {
        "colab": {
          "base_uri": "https://localhost:8080/"
        },
        "id": "XhOLjVX3WIXM",
        "outputId": "8ee5f362-8346-41aa-83e7-7246b5895d2a"
      },
      "execution_count": null,
      "outputs": [
        {
          "output_type": "stream",
          "name": "stdout",
          "text": [
            "Enter a variable: 3\n",
            "Enter b variable: 7\n",
            "Enter c variable8: 9\n",
            "3 7 9\n",
            "The triangle is scalene.\n"
          ]
        }
      ]
    },
    {
      "cell_type": "code",
      "source": [
        "'''19) Write a Python program to get the next day of a given date.\n",
        "Expected Output:\n",
        "Input a year: 2016                                                      \n",
        "Input a month [1-12]: 08                                                \n",
        "Input a day [1-31]: 23                                                  \n",
        "The next date is [yyyy-mm-dd] 2016-8-24 ''' \n",
        "\n",
        "a = int(input(\"Enter a year: \"))\n",
        "b=int(input(\"Enter a month [1-12]: \"))\n",
        "c=int(input(\"enter a day [1-31]: \"))\n",
        "if c==31 or (b==2 and c==28)or((b==4 or b==6 or b==9 or b==11) and c==30):#if it is last day of month\n",
        "  if b==12:# to check for last day of december, adding q to the year to make it next year\n",
        "   a=a+1\n",
        "   b=1\n",
        "   c=1\n",
        "  else:# if last day of month, setting the day to 1\n",
        "\n",
        "   b=b+1\n",
        "   c=1\n",
        "else:\n",
        "    c=c+1\n",
        "\n",
        "\n",
        "print(\"The next day is [yyyy-mm-dd] \",a,\"-\",b,\"-\",c)"
      ],
      "metadata": {
        "colab": {
          "base_uri": "https://localhost:8080/"
        },
        "id": "A2BqnzkbTJ2V",
        "outputId": "d360040f-9503-49b4-d46c-922d9bddddcf"
      },
      "execution_count": null,
      "outputs": [
        {
          "output_type": "stream",
          "name": "stdout",
          "text": [
            "Enter a year: 2016\n",
            "Enter a month [1-12]: 2\n",
            "enter a day [1-31]: 28\n",
            "The next day is [yyyy-mm-dd]  2016 - 3 - 1\n"
          ]
        }
      ]
    },
    {
      "cell_type": "code",
      "source": [],
      "metadata": {
        "id": "44lLLJMuZDz6"
      },
      "execution_count": null,
      "outputs": []
    }
  ]
}