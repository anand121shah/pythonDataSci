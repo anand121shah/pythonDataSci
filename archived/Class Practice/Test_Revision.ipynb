{
  "nbformat": 4,
  "nbformat_minor": 0,
  "metadata": {
    "colab": {
      "provenance": []
    },
    "kernelspec": {
      "name": "python3",
      "display_name": "Python 3"
    },
    "language_info": {
      "name": "python"
    }
  },
  "cells": [
    {
      "cell_type": "code",
      "execution_count": null,
      "metadata": {
        "colab": {
          "base_uri": "https://localhost:8080/"
        },
        "id": "w5QuYHDYVWjy",
        "outputId": "c9b8b2e4-7537-47b7-a897-836309e4af45"
      },
      "outputs": [
        {
          "output_type": "stream",
          "name": "stdout",
          "text": [
            "Area and Circumference of circle :-  113.03999999999999\n",
            "Circumference of circle :-  37.68\n"
          ]
        }
      ],
      "source": [
        "#Write a function to calculate area and circumference of a circle.\n",
        "\n",
        "def area_of_circle(radius):\n",
        "  return 3.14*radius*radius,2*3.14*radius\n",
        "\n",
        "# def circumfernce_of_circle(radius):\n",
        "#   return \n",
        "\n",
        "radius=6\n",
        "area,circumfernce=area_of_circle(6)\n",
        "print(\"Area and Circumference of circle :- \",area)\n",
        "print(\"Circumference of circle :- \",circumfernce)"
      ]
    },
    {
      "cell_type": "code",
      "source": [
        "#A certain print order costs $3.00 per copy for orders of less than ten copies, $1.25 for for orders of 10-99 copies, and $0.90 per copy for orders of 100 copies or more. Write a function that returns a total price for the order.\n",
        "\n",
        "copies=100\n",
        "def cost_of_copies(copies):\n",
        "  if copies<10:\n",
        "    print(\"less then 10\")\n",
        "    cost=3\n",
        "  elif copies<100:\n",
        "    print(\"more then 10 less then 100\")\n",
        "    cost=1.25\n",
        "  elif copies >99:\n",
        "    print(\"More then 100\")\n",
        "    cost=.90\n",
        "  return cost*copies\n",
        "\n",
        "print(\"COST FOR \"+str(copies)+\" copies in $ :- \",cost_of_copies(copies))"
      ],
      "metadata": {
        "colab": {
          "base_uri": "https://localhost:8080/"
        },
        "id": "HK6DwIqxWgrs",
        "outputId": "ba68dddc-2d81-4e2b-dcba-9549b17ec6ed"
      },
      "execution_count": null,
      "outputs": [
        {
          "output_type": "stream",
          "name": "stdout",
          "text": [
            "More then 100\n",
            "COST FOR 100 copies in $ :-  90.0\n"
          ]
        }
      ]
    },
    {
      "cell_type": "code",
      "source": [
        "#Write a function that takes in a list of integers or floats and returns True if the list contains duplicates and False if the list does not contain duplicates. Use a type hint to “enforce” the correct type.\n",
        "\n",
        "#Write a function that takes in a string and returns the string with all the vowels\n",
        "\n",
        "#Using a loop (that is, without using a slice), write a function “reverse_list” and takes a list as input and returns a copy of the list in which all the elements have been swapped (the first element with the last, the second with the next to last, etc.) Test that it works correctly for the following lists:"
      ],
      "metadata": {
        "id": "sfC7WOi3Zk-L"
      },
      "execution_count": null,
      "outputs": []
    },
    {
      "cell_type": "code",
      "source": [
        "#Write a function that takes in a list of integers or floats and returns True if the list contains duplicates and False if the list does not contain duplicates. Use a type hint to “enforce” the correct type.\n",
        "\n",
        "list1=[1,2,3,2]\n",
        "\n",
        "def check_dublicates(list_temp): \n",
        "  for k in list1:\n",
        "    temp_check=list_temp.copy()\n",
        "    temp_check.remove(k)\n",
        "    print(\"REMOVED LIST \",temp_check)\n",
        "    if k in temp_check:\n",
        "      return True\n",
        "      \n",
        "  return False\n",
        "\n",
        "\n",
        "print(\"Check Dublicates :- \",check_dublicates(list1))"
      ],
      "metadata": {
        "colab": {
          "base_uri": "https://localhost:8080/"
        },
        "id": "aRtKgcPmZrM0",
        "outputId": "89a7dfe8-0092-458d-cb03-babf1d154543"
      },
      "execution_count": null,
      "outputs": [
        {
          "output_type": "stream",
          "name": "stdout",
          "text": [
            "REMOVED LIST  [2, 3, 2]\n",
            "REMOVED LIST  [1, 3, 2]\n",
            "Check Dublicates :-  True\n"
          ]
        }
      ]
    },
    {
      "cell_type": "code",
      "source": [
        "#Write a function that takes in a list of integers or floats and returns True if the list contains duplicates and False if the list does not contain duplicates. Use a type hint to “enforce” the correct type.\n",
        "\n",
        "list1=[1,2,3]\n",
        "\n",
        "def check_dublicates(list_temp): \n",
        "  for k in range(len(list1)):\n",
        "    print(list1[k+1:],list1[k])\n",
        "    if list1[k] in list1[k+1:]:\n",
        "      return True \n",
        "  return False\n",
        "\n",
        "print(\"Check Dublicates :- \",check_dublicates(list1))"
      ],
      "metadata": {
        "colab": {
          "base_uri": "https://localhost:8080/"
        },
        "id": "8EGVuy1zcjuU",
        "outputId": "b17402bd-b1af-4374-f16e-ea1e0425f46c"
      },
      "execution_count": null,
      "outputs": [
        {
          "output_type": "stream",
          "name": "stdout",
          "text": [
            "[2, 3] 1\n",
            "[3] 2\n",
            "[] 3\n",
            "Check Dublicates :-  False\n"
          ]
        }
      ]
    },
    {
      "cell_type": "code",
      "source": [
        "#Write a function that takes in a string and returns the string with all the vowels\n",
        "\n",
        "string_temp=\"Hello Python PrOgramming\"\n",
        "\n",
        "def check_vowels(string_temp):\n",
        "  dem_string=\"\"\n",
        "  vowels=\"eaiou\"\n",
        "  for k in string_temp:\n",
        "    if k.lower() in vowels:\n",
        "      dem_string=dem_string+k\n",
        "  return dem_string\n",
        "\n",
        "print(check_vowels(string_temp))"
      ],
      "metadata": {
        "colab": {
          "base_uri": "https://localhost:8080/"
        },
        "id": "EhDn8o1DcSHF",
        "outputId": "9deaa460-cbec-4ef0-e014-cd0e423045a7"
      },
      "execution_count": null,
      "outputs": [
        {
          "output_type": "stream",
          "name": "stdout",
          "text": [
            "eooOai\n"
          ]
        }
      ]
    },
    {
      "cell_type": "code",
      "source": [
        "#Using a loop (that is, without using a slice), write a function “reverse_list” and takes a list as input and returns a copy of the list in which all the elements have been swapped (the first element with the last, the second with the next to last, etc.) Test that it works correctly for the following lists:\n",
        "\n",
        "list_temp=[1,2,3,4,5,6,7]\n",
        "\n",
        "def reverse_list(list_temp):\n",
        "  reversed_list_val=[]\n",
        "  length=len(list_temp)\n",
        "  for p in range(length-1,-1,-1):\n",
        "    reversed_list_val.append(list_temp[p])\n",
        "  return reversed_list_val\n",
        "\n",
        "print(\"Reversed List :- \",reverse_list(list_temp))"
      ],
      "metadata": {
        "colab": {
          "base_uri": "https://localhost:8080/"
        },
        "id": "GmKT8CN5fzvW",
        "outputId": "c1ec89e5-b491-4786-b3fd-945842d3352c"
      },
      "execution_count": null,
      "outputs": [
        {
          "output_type": "stream",
          "name": "stdout",
          "text": [
            "Reversed List :-  [7, 6, 5, 4, 3, 2, 1]\n"
          ]
        }
      ]
    },
    {
      "cell_type": "code",
      "source": [
        "#Using a loop (that is, without using a slice), write a function “reverse_list” and takes a list as input and returns a copy of the list in which all the elements have been swapped (the first element with the last, the second with the next to last, etc.) Test that it works correctly for the following lists:\n",
        "\n",
        "list_temp=[1,2,3,4,5,6,7]\n",
        "\n",
        "def reverse_list(list_temp):\n",
        "  return list_temp[::-1]\n",
        "print(\"Reversed List :- \",reverse_list(list_temp))"
      ],
      "metadata": {
        "colab": {
          "base_uri": "https://localhost:8080/"
        },
        "id": "P01jpfXph9BR",
        "outputId": "5fe43c01-97fb-497d-add8-ad9a2d42cb73"
      },
      "execution_count": null,
      "outputs": [
        {
          "output_type": "stream",
          "name": "stdout",
          "text": [
            "Reversed List :-  [7, 6, 5, 4, 3, 2, 1]\n"
          ]
        }
      ]
    },
    {
      "cell_type": "code",
      "source": [
        "#Using a loop (that is, without using a slice), write a function “reverse_list” and takes a list as input and returns a copy of the list in which all the elements have been swapped (the first element with the last, the second with the next to last, etc.) Test that it works correctly for the following lists:\n",
        "\n",
        "list_temp=[1,2,3,4,5,6,7]\n",
        "\n",
        "def reverse_list(list_temp):\n",
        "  list_temp.reverse()\n",
        "  return list_temp\n",
        "\n",
        "print(\"Reversed List :- \",reverse_list(list_temp))"
      ],
      "metadata": {
        "colab": {
          "base_uri": "https://localhost:8080/"
        },
        "id": "QMWP5N4Zfm2e",
        "outputId": "f205f69d-afb6-4b68-9918-63c72091b28b"
      },
      "execution_count": null,
      "outputs": [
        {
          "output_type": "stream",
          "name": "stdout",
          "text": [
            "Reversed List :-  [7, 6, 5, 4, 3, 2, 1]\n"
          ]
        }
      ]
    },
    {
      "cell_type": "code",
      "source": [
        "#Write a program to print twin primes less than 1000. If two consecutive odd numbers are both prime then they are known as twin primes\n",
        "\n",
        "def is_prime(n):\n",
        "   for i in range(2, n//2):\n",
        "      if n % i == 0:\n",
        "        return False\n",
        "   return True\n",
        "\n",
        "def generate_twins(start, end):\n",
        "   for i in range(start, end):\n",
        "    if i%2!=0:\n",
        "      j = i + 2\n",
        "      if(is_prime(i) and is_prime(j)):\n",
        "        print(\"Twin Prime numbers are :- \",i,j)\n",
        "\n",
        "generate_twins(3, 1000)"
      ],
      "metadata": {
        "id": "Lrg9F-0EvCDs"
      },
      "execution_count": null,
      "outputs": []
    },
    {
      "cell_type": "code",
      "source": [
        "# Write a program to find out the prime factors of a number. Example: prime factors of 56\n",
        "\n",
        "def is_prime(n):\n",
        "   for i in range(2, n):\n",
        "      if n % i == 0:\n",
        "        return False\n",
        "   return True\n",
        "\n",
        "def primeFactors(n):\n",
        "  checkmate=True\n",
        "  for k in range(2,n+1):\n",
        "    if n%k==0:\n",
        "      if is_prime(k):\n",
        "        print(str(k)+\" is a prime factor of\",n)\n",
        "        checkmate=False\n",
        "  if checkmate:\n",
        "    print(\"Number has no prime factors\")\n",
        "\n",
        "n = 7\n",
        "primeFactors(n)"
      ],
      "metadata": {
        "colab": {
          "base_uri": "https://localhost:8080/"
        },
        "id": "SeY67CEwlxOw",
        "outputId": "91f74b9f-39bb-4218-9ffd-2e3c171f7d88"
      },
      "execution_count": null,
      "outputs": [
        {
          "output_type": "stream",
          "name": "stdout",
          "text": [
            "7 is a prime factor of 7\n"
          ]
        }
      ]
    },
    {
      "cell_type": "code",
      "source": [
        "def mutiplcation_of_digits(a):\n",
        "  mul=1\n",
        "  for i in str(a):\n",
        "    mul=mul*int(i)\n",
        "  return mul\n",
        "\n",
        "def get_mdr_and_mp(number):\n",
        "  time_multiplied=0\n",
        "  current_mdr = number\n",
        "  while current_mdr > 9:\n",
        "    current_mdr=mutiplcation_of_digits(current_mdr)\n",
        "    time_multiplied =time_multiplied+1\n",
        "  print(\"Multiplicative Digital Root of number \"+str(number)+\" is :-\",current_mdr)\n",
        "  print(\"Multiplicative Persistance of number \"+str(number)+\" is :-\",time_multiplied)\n",
        "\n",
        "get_mdr_and_mp(86)"
      ],
      "metadata": {
        "colab": {
          "base_uri": "https://localhost:8080/"
        },
        "id": "dkAsVtozry8S",
        "outputId": "11f65dac-2adf-4feb-e69c-b0aa9d0e6cdb"
      },
      "execution_count": null,
      "outputs": [
        {
          "output_type": "stream",
          "name": "stdout",
          "text": [
            "Multiplicative Digital Root of number 86 is :- 6\n",
            "Multiplicative Persistance of number 86 is :- 3\n"
          ]
        }
      ]
    }
  ]
}