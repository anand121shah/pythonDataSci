{
  "nbformat": 4,
  "nbformat_minor": 0,
  "metadata": {
    "colab": {
      "provenance": []
    },
    "kernelspec": {
      "name": "python3",
      "display_name": "Python 3"
    },
    "language_info": {
      "name": "python"
    }
  },
  "cells": [
    {
      "cell_type": "code",
      "execution_count": null,
      "metadata": {
        "colab": {
          "base_uri": "https://localhost:8080/"
        },
        "id": "KS19tTzQSz-9",
        "outputId": "6a9479bc-5320-4a18-9f2d-b641934264d2"
      },
      "outputs": [
        {
          "output_type": "stream",
          "name": "stdout",
          "text": [
            "5\n"
          ]
        }
      ],
      "source": [
        "# Write a program to find list digit of a number for example 131 the last digit is 1\n",
        "n=98765\n",
        "print(n % 10)"
      ]
    },
    {
      "cell_type": "code",
      "source": [
        "#Write a program to take input between 1-12 and print which month of the year is it?\n",
        "x=1\n",
        "if (x==1):\n",
        "  print (\"Jan\")\n",
        "if (x==2):\n",
        "  print(\"Feb\")\n",
        "if (x==3):\n",
        "  print(\"March\")\n",
        "if (x==4):\n",
        "  print(\"April\")\n",
        "if (x==5):\n",
        "  print(\"May\")\n",
        "if (x==6):\n",
        "  print(\"June\")\n",
        "if (x==7):\n",
        "  print(\"July\")\n",
        "if (x==8):\n",
        "  print(\"August\")\n",
        "if(x==9):\n",
        "  print(\"September\")\n",
        "if(x==10):\n",
        "  print(\"October\")\n",
        "if(x==11):\n",
        "  print(\"November\")\n",
        "if(x==12):\n",
        "  print(\"December\")\n",
        "if(x<1 or x>12):\n",
        "  print(\"Invalid input\")"
      ],
      "metadata": {
        "colab": {
          "base_uri": "https://localhost:8080/"
        },
        "id": "SFjSN7rtS36S",
        "outputId": "af61eeca-91cb-488a-d2c8-88099f5d393f"
      },
      "execution_count": null,
      "outputs": [
        {
          "output_type": "stream",
          "name": "stdout",
          "text": [
            "Jan\n"
          ]
        }
      ]
    },
    {
      "cell_type": "code",
      "source": [
        "# Check if a character entered is a vowel or not"
      ],
      "metadata": {
        "id": "PQwXlXMJZ_1R"
      },
      "execution_count": null,
      "outputs": []
    },
    {
      "cell_type": "code",
      "source": [
        "# start,stop,step\n",
        "#stop-1\n",
        "for i in range(1,10,1):\n",
        "  for j in range(i*2):\n",
        "    print(j)\n",
        "  print(\"======================== \"+str(i)+\" ===================\")"
      ],
      "metadata": {
        "colab": {
          "base_uri": "https://localhost:8080/"
        },
        "id": "cQaFGE4GbwIw",
        "outputId": "15a1414d-6181-4246-a57b-55a5ed06c316"
      },
      "execution_count": null,
      "outputs": [
        {
          "output_type": "stream",
          "name": "stdout",
          "text": [
            "0\n",
            "1\n",
            "======================== 1 ===================\n",
            "0\n",
            "1\n",
            "2\n",
            "3\n",
            "======================== 2 ===================\n",
            "0\n",
            "1\n",
            "2\n",
            "3\n",
            "4\n",
            "5\n",
            "======================== 3 ===================\n",
            "0\n",
            "1\n",
            "2\n",
            "3\n",
            "4\n",
            "5\n",
            "6\n",
            "7\n",
            "======================== 4 ===================\n",
            "0\n",
            "1\n",
            "2\n",
            "3\n",
            "4\n",
            "5\n",
            "6\n",
            "7\n",
            "8\n",
            "9\n",
            "======================== 5 ===================\n",
            "0\n",
            "1\n",
            "2\n",
            "3\n",
            "4\n",
            "5\n",
            "6\n",
            "7\n",
            "8\n",
            "9\n",
            "10\n",
            "11\n",
            "======================== 6 ===================\n",
            "0\n",
            "1\n",
            "2\n",
            "3\n",
            "4\n",
            "5\n",
            "6\n",
            "7\n",
            "8\n",
            "9\n",
            "10\n",
            "11\n",
            "12\n",
            "13\n",
            "======================== 7 ===================\n",
            "0\n",
            "1\n",
            "2\n",
            "3\n",
            "4\n",
            "5\n",
            "6\n",
            "7\n",
            "8\n",
            "9\n",
            "10\n",
            "11\n",
            "12\n",
            "13\n",
            "14\n",
            "15\n",
            "======================== 8 ===================\n",
            "0\n",
            "1\n",
            "2\n",
            "3\n",
            "4\n",
            "5\n",
            "6\n",
            "7\n",
            "8\n",
            "9\n",
            "10\n",
            "11\n",
            "12\n",
            "13\n",
            "14\n",
            "15\n",
            "16\n",
            "17\n",
            "======================== 9 ===================\n"
          ]
        }
      ]
    },
    {
      "cell_type": "code",
      "source": [
        "# 1) check if a number is prime or not  7   1 and 7\n",
        "n=2\n",
        "#2,3,4\n",
        "flag=True\n",
        "if n <= 1:\n",
        "  print(str(n)+\" is a unqiue number\")\n",
        "  \n",
        "for i in range(2, n//2):\n",
        "  if n % i == 0:\n",
        "    flag=False\n",
        "\n",
        "if flag:\n",
        "  print(\"Prime Number\")\n",
        "else:\n",
        "  print(\"Not A Prime Number\")"
      ],
      "metadata": {
        "colab": {
          "base_uri": "https://localhost:8080/"
        },
        "id": "LqTABWDIel-B",
        "outputId": "b03e39ec-3333-4564-d128-65fb51cec614"
      },
      "execution_count": null,
      "outputs": [
        {
          "output_type": "stream",
          "name": "stdout",
          "text": [
            "Prime number\n",
            "Not a prime nuber\n"
          ]
        }
      ]
    },
    {
      "cell_type": "code",
      "source": [
        "# 2) print all prime numbers till a given range suppose n=11 2,3,5,7"
      ],
      "metadata": {
        "id": "UFJgNmBylNm4"
      },
      "execution_count": null,
      "outputs": []
    },
    {
      "cell_type": "code",
      "source": [
        "n=6\n",
        "# 2,3,4,5,6,7,8,9,10\n",
        "# checking if the number is prime or not\n",
        "for i in range(2, n):\n",
        "  for j in range(2, i):\n",
        "    if (i % j) == 0:\n",
        "        break\n",
        "  else:\n",
        "      print(str(i)+\" is a prime number\")"
      ],
      "metadata": {
        "colab": {
          "base_uri": "https://localhost:8080/"
        },
        "id": "8ajviRcolaEP",
        "outputId": "533bb663-13bd-4f0b-ab9e-def2a8167fac"
      },
      "execution_count": null,
      "outputs": [
        {
          "output_type": "stream",
          "name": "stdout",
          "text": [
            "2 is a prime number\n",
            "3 is a prime number\n",
            "5 is a prime number\n"
          ]
        }
      ]
    },
    {
      "cell_type": "code",
      "source": [
        "for p in range(2,3,1):\n",
        "  print(p)"
      ],
      "metadata": {
        "colab": {
          "base_uri": "https://localhost:8080/"
        },
        "id": "0jss0znarBud",
        "outputId": "5e506faa-f188-44dc-d99d-3f36fee00761"
      },
      "execution_count": null,
      "outputs": [
        {
          "output_type": "stream",
          "name": "stdout",
          "text": [
            "2\n"
          ]
        }
      ]
    }
  ]
}