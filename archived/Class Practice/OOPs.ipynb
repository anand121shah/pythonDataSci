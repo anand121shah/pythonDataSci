{
  "nbformat": 4,
  "nbformat_minor": 0,
  "metadata": {
    "colab": {
      "provenance": []
    },
    "kernelspec": {
      "name": "python3",
      "display_name": "Python 3"
    },
    "language_info": {
      "name": "python"
    }
  },
  "cells": [
    {
      "cell_type": "code",
      "execution_count": null,
      "metadata": {
        "id": "M5jfZO1YkWeI"
      },
      "outputs": [],
      "source": [
        "class Employee:\n",
        "    def __init__(self, name, emp_id, salary, department):\n",
        "        self.name = name\n",
        "        self.id = emp_id\n",
        "        self.salary = salary\n",
        "        self.department = department\n",
        "\n",
        "    def calculate_salary(self, salary, hours_worked):\n",
        "        self.salary = salary*hours_worked\n",
        "\n",
        "    def assign_department(self, emp_department):\n",
        "        self.department = emp_department\n",
        "\n",
        "    def print_employee_details(self):\n",
        "        print(\"\\nName: \", self.name)\n",
        "        print(\"ID: \", self.id)\n",
        "        print(\"Salary: \", self.salary)\n",
        "        print(\"Department: \", self.department)\n",
        "        print(\"----------------------\")"
      ]
    },
    {
      "cell_type": "code",
      "source": [
        "employee1 = Employee(\"ADAMS\", \"E7876\", 50000, \"ACCOUNTING\")\n",
        "employee2 = Employee(\"JONES\", \"E7499\", 45000, \"RESEARCH\")\n",
        "employee3 = Employee(\"MARTIN\", \"E7900\", 50000, \"SALES\")\n",
        "employee4 = Employee(\"SMITH\", \"E7698\", 55000, \"OPERATIONS\")"
      ],
      "metadata": {
        "id": "ISV5cYQCkdcu"
      },
      "execution_count": null,
      "outputs": []
    },
    {
      "cell_type": "code",
      "source": [
        "employee1.print_employee_details()\n",
        "employee2.print_employee_details()\n",
        "employee3.print_employee_details()\n",
        "employee4.print_employee_details()"
      ],
      "metadata": {
        "colab": {
          "base_uri": "https://localhost:8080/"
        },
        "id": "Q1hiTZYMkgJ-",
        "outputId": "c1e1fce8-342d-4d22-9ffa-8507e9220ca7"
      },
      "execution_count": null,
      "outputs": [
        {
          "output_type": "stream",
          "name": "stdout",
          "text": [
            "\n",
            "Name:  ADAMS\n",
            "ID:  E7876\n",
            "Salary:  50000\n",
            "Department:  OPERATIONS\n",
            "----------------------\n",
            "\n",
            "Name:  JONES\n",
            "ID:  E7499\n",
            "Salary:  46800.0\n",
            "Department:  RESEARCH\n",
            "----------------------\n",
            "\n",
            "Name:  MARTIN\n",
            "ID:  E7900\n",
            "Salary:  50000\n",
            "Department:  SALES\n",
            "----------------------\n",
            "\n",
            "Name:  SMITH\n",
            "ID:  E7698\n",
            "Salary:  66000.0\n",
            "Department:  SALES\n",
            "----------------------\n"
          ]
        }
      ]
    },
    {
      "cell_type": "code",
      "source": [
        "employee1.assign_department(\"Data Scientist\")\n",
        "employee4.assign_department(\"SALES\")\n",
        "\n",
        "# Now calculate the overtime of the employees who are eligible:\n",
        "employee2.calculate_salary(45000, 52)\n",
        "employee4.calculate_salary(45000, 60)\n",
        "\n",
        "print(\"Updated Employee Details:\")\n",
        "employee1.print_employee_details()\n",
        "employee2.print_employee_details()\n",
        "employee3.print_employee_details()\n",
        "employee4.print_employee_details()"
      ],
      "metadata": {
        "colab": {
          "base_uri": "https://localhost:8080/"
        },
        "id": "r1NyAFgskk5e",
        "outputId": "1e7ccac7-64c3-4787-ffd5-3884c486038e"
      },
      "execution_count": null,
      "outputs": [
        {
          "output_type": "stream",
          "name": "stdout",
          "text": [
            "Updated Employee Details:\n",
            "\n",
            "Name:  ADAMS\n",
            "ID:  E7876\n",
            "Salary:  50000\n",
            "Department:  Data Scientist\n",
            "----------------------\n",
            "\n",
            "Name:  JONES\n",
            "ID:  E7499\n",
            "Salary:  48672.0\n",
            "Department:  RESEARCH\n",
            "----------------------\n",
            "\n",
            "Name:  MARTIN\n",
            "ID:  E7900\n",
            "Salary:  50000\n",
            "Department:  SALES\n",
            "----------------------\n",
            "\n",
            "Name:  SMITH\n",
            "ID:  E7698\n",
            "Salary:  79200.0\n",
            "Department:  SALES\n",
            "----------------------\n"
          ]
        }
      ]
    }
  ]
}