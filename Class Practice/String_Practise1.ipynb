{
  "nbformat": 4,
  "nbformat_minor": 0,
  "metadata": {
    "colab": {
      "provenance": []
    },
    "kernelspec": {
      "name": "python3",
      "display_name": "Python 3"
    },
    "language_info": {
      "name": "python"
    }
  },
  "cells": [
    {
      "cell_type": "code",
      "execution_count": null,
      "metadata": {
        "id": "0JbcXYxNauX1"
      },
      "outputs": [],
      "source": [
        "test_string= \"Hello Python Programming\""
      ]
    },
    {
      "cell_type": "code",
      "source": [
        "# STRING ARE IMMUTABLE for example\n",
        "test_string[0]=\"h\""
      ],
      "metadata": {
        "colab": {
          "base_uri": "https://localhost:8080/",
          "height": 165
        },
        "id": "DN3gkVaGa-fo",
        "outputId": "f4ce4dd4-3386-4165-e882-a9a4b4a2a9c6"
      },
      "execution_count": null,
      "outputs": [
        {
          "output_type": "error",
          "ename": "TypeError",
          "evalue": "ignored",
          "traceback": [
            "\u001b[0;31m---------------------------------------------------------------------------\u001b[0m",
            "\u001b[0;31mTypeError\u001b[0m                                 Traceback (most recent call last)",
            "\u001b[0;32m<ipython-input-3-eb10a48f2d4f>\u001b[0m in \u001b[0;36m<cell line: 1>\u001b[0;34m()\u001b[0m\n\u001b[0;32m----> 1\u001b[0;31m \u001b[0mtest_string\u001b[0m\u001b[0;34m[\u001b[0m\u001b[0;36m0\u001b[0m\u001b[0;34m]\u001b[0m\u001b[0;34m=\u001b[0m\u001b[0;34m\"h\"\u001b[0m\u001b[0;34m\u001b[0m\u001b[0;34m\u001b[0m\u001b[0m\n\u001b[0m",
            "\u001b[0;31mTypeError\u001b[0m: 'str' object does not support item assignment"
          ]
        }
      ]
    },
    {
      "cell_type": "code",
      "source": [
        "# INDEXS 0,2,4\n",
        "# left to right side \n",
        "# right to left side negative indexing\n",
        "\n",
        "test_string[0:-3]"
      ],
      "metadata": {
        "colab": {
          "base_uri": "https://localhost:8080/",
          "height": 35
        },
        "id": "eeyXw0hsbOBv",
        "outputId": "bbe630ca-1202-4134-82eb-b678a680e51d"
      },
      "execution_count": null,
      "outputs": [
        {
          "output_type": "execute_result",
          "data": {
            "text/plain": [
              "''"
            ],
            "application/vnd.google.colaboratory.intrinsic+json": {
              "type": "string"
            }
          },
          "metadata": {},
          "execution_count": 20
        }
      ]
    },
    {
      "cell_type": "code",
      "source": [
        "test_string=\"hello python programming\""
      ],
      "metadata": {
        "id": "w0MLY9cDe60H"
      },
      "execution_count": null,
      "outputs": []
    },
    {
      "cell_type": "code",
      "source": [
        "test_string.capitalize()"
      ],
      "metadata": {
        "colab": {
          "base_uri": "https://localhost:8080/",
          "height": 35
        },
        "id": "8zzfgC16fGuF",
        "outputId": "caad5f99-987d-46bf-bfee-907f867c0b88"
      },
      "execution_count": null,
      "outputs": [
        {
          "output_type": "execute_result",
          "data": {
            "text/plain": [
              "'Hello python programming'"
            ],
            "application/vnd.google.colaboratory.intrinsic+json": {
              "type": "string"
            }
          },
          "metadata": {},
          "execution_count": 21
        }
      ]
    },
    {
      "cell_type": "code",
      "source": [
        "dir(test_string)"
      ],
      "metadata": {
        "colab": {
          "base_uri": "https://localhost:8080/"
        },
        "id": "d8LD-B36fbj1",
        "outputId": "b38a4b83-173e-4cac-fb2f-c1c400210e03"
      },
      "execution_count": null,
      "outputs": [
        {
          "output_type": "execute_result",
          "data": {
            "text/plain": [
              "['__add__',\n",
              " '__class__',\n",
              " '__contains__',\n",
              " '__delattr__',\n",
              " '__dir__',\n",
              " '__doc__',\n",
              " '__eq__',\n",
              " '__format__',\n",
              " '__ge__',\n",
              " '__getattribute__',\n",
              " '__getitem__',\n",
              " '__getnewargs__',\n",
              " '__gt__',\n",
              " '__hash__',\n",
              " '__init__',\n",
              " '__init_subclass__',\n",
              " '__iter__',\n",
              " '__le__',\n",
              " '__len__',\n",
              " '__lt__',\n",
              " '__mod__',\n",
              " '__mul__',\n",
              " '__ne__',\n",
              " '__new__',\n",
              " '__reduce__',\n",
              " '__reduce_ex__',\n",
              " '__repr__',\n",
              " '__rmod__',\n",
              " '__rmul__',\n",
              " '__setattr__',\n",
              " '__sizeof__',\n",
              " '__str__',\n",
              " '__subclasshook__',\n",
              " 'capitalize',\n",
              " 'casefold',\n",
              " 'center',\n",
              " 'count',\n",
              " 'encode',\n",
              " 'endswith',\n",
              " 'expandtabs',\n",
              " 'find',\n",
              " 'format',\n",
              " 'format_map',\n",
              " 'index',\n",
              " 'isalnum',\n",
              " 'isalpha',\n",
              " 'isascii',\n",
              " 'isdecimal',\n",
              " 'isdigit',\n",
              " 'isidentifier',\n",
              " 'islower',\n",
              " 'isnumeric',\n",
              " 'isprintable',\n",
              " 'isspace',\n",
              " 'istitle',\n",
              " 'isupper',\n",
              " 'join',\n",
              " 'ljust',\n",
              " 'lower',\n",
              " 'lstrip',\n",
              " 'maketrans',\n",
              " 'partition',\n",
              " 'removeprefix',\n",
              " 'removesuffix',\n",
              " 'replace',\n",
              " 'rfind',\n",
              " 'rindex',\n",
              " 'rjust',\n",
              " 'rpartition',\n",
              " 'rsplit',\n",
              " 'rstrip',\n",
              " 'split',\n",
              " 'splitlines',\n",
              " 'startswith',\n",
              " 'strip',\n",
              " 'swapcase',\n",
              " 'title',\n",
              " 'translate',\n",
              " 'upper',\n",
              " 'zfill']"
            ]
          },
          "metadata": {},
          "execution_count": 22
        }
      ]
    },
    {
      "cell_type": "code",
      "source": [
        "a=\"hello \"\n",
        "b=\"world\"\n",
        "c=a+b\n",
        "print(c)\n",
        "print(\"\"\"abcxzasdasdas'daa'sdasd'\n",
        "s\"adsa'dasdsd'\"sadsa'dasdsadasdasd\"\"\")"
      ],
      "metadata": {
        "colab": {
          "base_uri": "https://localhost:8080/"
        },
        "id": "2tOZV9GsgjvO",
        "outputId": "56fea8f9-024c-483b-91ab-2a9ada73660d"
      },
      "execution_count": null,
      "outputs": [
        {
          "output_type": "stream",
          "name": "stdout",
          "text": [
            "hello world\n",
            "abcxzasdasdas'daa'sdasd'\n",
            "s\"adsa'dasdsd'\"sadsa'dasdsadasdasd\n"
          ]
        }
      ]
    },
    {
      "cell_type": "code",
      "source": [
        "# Lowers all the characters\n",
        "test_string=\"hello PYTHON programming\"\n",
        "test_string.casefold()"
      ],
      "metadata": {
        "colab": {
          "base_uri": "https://localhost:8080/",
          "height": 35
        },
        "id": "wQ4JM3Ehil3G",
        "outputId": "f4878d92-57cd-4c74-97e4-d7beefb8af43"
      },
      "execution_count": null,
      "outputs": [
        {
          "output_type": "execute_result",
          "data": {
            "text/plain": [
              "'hello python programming'"
            ],
            "application/vnd.google.colaboratory.intrinsic+json": {
              "type": "string"
            }
          },
          "metadata": {},
          "execution_count": 50
        }
      ]
    },
    {
      "cell_type": "code",
      "source": [
        "test_string.center(28,\"$\")"
      ],
      "metadata": {
        "colab": {
          "base_uri": "https://localhost:8080/",
          "height": 35
        },
        "id": "slH4DGYRlbw9",
        "outputId": "54516d6e-6537-4db7-aa33-b90692e1cb36"
      },
      "execution_count": null,
      "outputs": [
        {
          "output_type": "execute_result",
          "data": {
            "text/plain": [
              "'$$hello PYTHON programming$$'"
            ],
            "application/vnd.google.colaboratory.intrinsic+json": {
              "type": "string"
            }
          },
          "metadata": {},
          "execution_count": 61
        }
      ]
    },
    {
      "cell_type": "code",
      "source": [
        "count_string=\"hello world , i hope the world is a better place to live for everyone\"\n",
        "count_string.count(\"sadasdasd\")"
      ],
      "metadata": {
        "colab": {
          "base_uri": "https://localhost:8080/"
        },
        "id": "hIoioaaomegt",
        "outputId": "7005f4ce-2c43-44b2-c3fe-0a3bde6b4445"
      },
      "execution_count": null,
      "outputs": [
        {
          "output_type": "execute_result",
          "data": {
            "text/plain": [
              "0"
            ]
          },
          "metadata": {},
          "execution_count": 8
        }
      ]
    },
    {
      "cell_type": "code",
      "source": [
        "test_string=\"hello PYTHON programming\"\n",
        "test_string.endswith(\"ming\")"
      ],
      "metadata": {
        "colab": {
          "base_uri": "https://localhost:8080/"
        },
        "id": "0A9Vt1DbngDd",
        "outputId": "cf973c55-3753-4f98-f99b-6dae6fd1a282"
      },
      "execution_count": null,
      "outputs": [
        {
          "output_type": "execute_result",
          "data": {
            "text/plain": [
              "True"
            ]
          },
          "metadata": {},
          "execution_count": 10
        }
      ]
    },
    {
      "cell_type": "code",
      "source": [
        "test_string=\"               hello PYTHON programming  \"\n",
        "test_string.expandtabs()"
      ],
      "metadata": {
        "colab": {
          "base_uri": "https://localhost:8080/",
          "height": 35
        },
        "id": "GHMmcbCun5jF",
        "outputId": "80e85b20-09ab-4f15-f1a0-01bd58b85877"
      },
      "execution_count": null,
      "outputs": [
        {
          "output_type": "execute_result",
          "data": {
            "text/plain": [
              "'               hello PYTHON programming  '"
            ],
            "application/vnd.google.colaboratory.intrinsic+json": {
              "type": "string"
            }
          },
          "metadata": {},
          "execution_count": 73
        }
      ]
    },
    {
      "cell_type": "code",
      "source": [
        "# Finds Lowest index of the substring inside a string If string does not exsists it returns -1\n",
        "test_string=\"hello PYTHON programming pro\"\n",
        "print(test_string.find(\"pro111111\"))\n",
        "print(test_string[13:16])"
      ],
      "metadata": {
        "colab": {
          "base_uri": "https://localhost:8080/"
        },
        "id": "1A6dDZJAoxHc",
        "outputId": "39589311-35ee-4687-d3ef-b0a30c13229f"
      },
      "execution_count": null,
      "outputs": [
        {
          "output_type": "stream",
          "name": "stdout",
          "text": [
            "-1\n",
            "pro\n"
          ]
        }
      ]
    },
    {
      "cell_type": "code",
      "source": [
        "test_string=\"Hello my name is {fname} , i am {age}\"\n",
        "print(test_string.format(fname=\"Rohit\",age=\"ice cream\"))\n",
        "test_string=\"Hello my name is {0} , i am {1}\"\n",
        "test_string.format(\"Rohit\",\"Programmimng\")"
      ],
      "metadata": {
        "colab": {
          "base_uri": "https://localhost:8080/",
          "height": 53
        },
        "id": "sFwoKePPqfls",
        "outputId": "4425f1f6-14b3-4a31-8aac-40b3d826a173"
      },
      "execution_count": null,
      "outputs": [
        {
          "output_type": "stream",
          "name": "stdout",
          "text": [
            "Hello my name is Rohit , i am Programmer\n"
          ]
        },
        {
          "output_type": "execute_result",
          "data": {
            "text/plain": [
              "'Hello my name is Rohit , i am Programmimng'"
            ],
            "application/vnd.google.colaboratory.intrinsic+json": {
              "type": "string"
            }
          },
          "metadata": {},
          "execution_count": 12
        }
      ]
    },
    {
      "cell_type": "code",
      "source": [
        "test_string=\"hello PYTHON programming pro\"\n",
        "test_string.islower()"
      ],
      "metadata": {
        "colab": {
          "base_uri": "https://localhost:8080/"
        },
        "id": "NX3i1bXRsDn1",
        "outputId": "04625bef-a403-47a7-a9e6-8b2714307063"
      },
      "execution_count": null,
      "outputs": [
        {
          "output_type": "execute_result",
          "data": {
            "text/plain": [
              "False"
            ]
          },
          "metadata": {},
          "execution_count": 13
        }
      ]
    },
    {
      "cell_type": "code",
      "source": [
        "test_string=\"PYTHON\"\n",
        "test_string.isupper()"
      ],
      "metadata": {
        "colab": {
          "base_uri": "https://localhost:8080/"
        },
        "id": "5jyDSa5Ys4zL",
        "outputId": "eafdfdab-3c6a-426a-8fdc-0e8d17f22550"
      },
      "execution_count": null,
      "outputs": [
        {
          "output_type": "execute_result",
          "data": {
            "text/plain": [
              "True"
            ]
          },
          "metadata": {},
          "execution_count": 105
        }
      ]
    },
    {
      "cell_type": "code",
      "source": [
        "test_string=\"hello PYTHONß\"\n",
        "print(test_string.lower())\n",
        "print(test_string.casefold())"
      ],
      "metadata": {
        "colab": {
          "base_uri": "https://localhost:8080/"
        },
        "id": "6rfQQYqFuCBa",
        "outputId": "2d455295-fb1f-40e2-c753-d3e85f241825"
      },
      "execution_count": null,
      "outputs": [
        {
          "output_type": "stream",
          "name": "stdout",
          "text": [
            "hello pythonß\n",
            "hello pythonss\n"
          ]
        }
      ]
    },
    {
      "cell_type": "code",
      "source": [
        "# 1st argument is what you want to replace, 2nd argument with what you want to replace\n",
        "test_string=\"hello PYTHON programming pro\"\n",
        "print(test_string)\n",
        "print(\"After Replacement :- \"+ test_string.replace(\"programming13212131231\",\"how are\"))"
      ],
      "metadata": {
        "id": "u9LdtARGusaD",
        "colab": {
          "base_uri": "https://localhost:8080/"
        },
        "outputId": "39aa2443-4eec-4f38-881d-b51e80e294bb"
      },
      "execution_count": null,
      "outputs": [
        {
          "output_type": "stream",
          "name": "stdout",
          "text": [
            "hello PYTHON programming pro\n",
            "After Replacement :- hello PYTHON programming pro\n"
          ]
        }
      ]
    },
    {
      "cell_type": "code",
      "source": [
        "# Split\n",
        "b=\"Hey i have been thinking Harry potter was a movie worth watching i really loved it\"\n",
        "print(b.split(' '))"
      ],
      "metadata": {
        "colab": {
          "base_uri": "https://localhost:8080/"
        },
        "id": "uH_Vy7RoqF2t",
        "outputId": "768f3f90-e9e5-4a07-9966-3854c2ee9c05"
      },
      "execution_count": null,
      "outputs": [
        {
          "output_type": "stream",
          "name": "stdout",
          "text": [
            "['Hey', 'i', 'have', 'been', 'thinking', 'Harry', 'potter', 'was', 'a', 'movie', 'worth', 'watching', 'i', 'really', 'loved', 'it']\n"
          ]
        }
      ]
    },
    {
      "cell_type": "code",
      "source": [
        "# SPLIT FUNCTION\n",
        "a=\"\"\"hello\n",
        "PYTHON\n",
        "programming\n",
        "pro\"\"\"\n",
        "print(a.splitlines(False))\n",
        "print(a.splitlines())\n",
        "print(a.splitlines(True))"
      ],
      "metadata": {
        "colab": {
          "base_uri": "https://localhost:8080/"
        },
        "id": "Qzqdf2ohti8b",
        "outputId": "8566eace-1c0d-4f92-d9f2-2c3dca661d45"
      },
      "execution_count": null,
      "outputs": [
        {
          "output_type": "stream",
          "name": "stdout",
          "text": [
            "['hello', 'PYTHON', 'programming', 'pro']\n",
            "['hello', 'PYTHON', 'programming', 'pro']\n",
            "['hello\\n', 'PYTHON\\n', 'programming\\n', 'pro']\n"
          ]
        }
      ]
    },
    {
      "cell_type": "code",
      "source": [
        "test_string=\" \\t a  \\t  a  Hey how are you?     \\t       \"\n",
        "print(test_string.strip())\n",
        "print(test_string.rstrip())\n",
        "test_string.lstrip()"
      ],
      "metadata": {
        "colab": {
          "base_uri": "https://localhost:8080/",
          "height": 70
        },
        "id": "C2N1LeSbud6M",
        "outputId": "8d8881f4-2eab-4701-bcac-71b31cce0b25"
      },
      "execution_count": null,
      "outputs": [
        {
          "output_type": "stream",
          "name": "stdout",
          "text": [
            "a  \t  a  Hey how are you?\n",
            " \t a  \t  a  Hey how are you?\n"
          ]
        },
        {
          "output_type": "execute_result",
          "data": {
            "text/plain": [
              "'a  \\t  a  Hey how are you?     \\t       '"
            ],
            "application/vnd.google.colaboratory.intrinsic+json": {
              "type": "string"
            }
          },
          "metadata": {},
          "execution_count": 53
        }
      ]
    },
    {
      "cell_type": "code",
      "source": [
        "#list_temp=['hello, PYTHON, programming, pro','22']\n",
        "\n",
        "list_temp=[\"1\",\" 2\",\" 3\", \"4\",\"22\"]\n",
        "'$'.join(list_temp)"
      ],
      "metadata": {
        "colab": {
          "base_uri": "https://localhost:8080/",
          "height": 35
        },
        "id": "Yxi-6-C8vv5b",
        "outputId": "6ceda43d-7084-49b9-841c-fd21d590a7d3"
      },
      "execution_count": null,
      "outputs": [
        {
          "output_type": "execute_result",
          "data": {
            "text/plain": [
              "'1$ 2$ 3$4$22'"
            ],
            "application/vnd.google.colaboratory.intrinsic+json": {
              "type": "string"
            }
          },
          "metadata": {},
          "execution_count": 62
        }
      ]
    }
  ]
}