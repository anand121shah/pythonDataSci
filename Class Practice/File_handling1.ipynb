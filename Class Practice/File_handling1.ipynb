{
  "nbformat": 4,
  "nbformat_minor": 0,
  "metadata": {
    "colab": {
      "provenance": []
    },
    "kernelspec": {
      "name": "python3",
      "display_name": "Python 3"
    },
    "language_info": {
      "name": "python"
    }
  },
  "cells": [
    {
      "cell_type": "code",
      "source": [
        "abcd=False\n",
        "n=87\n",
        "while abcd==False:\n",
        "  if n%2==0:\n",
        "    abcd=True\n",
        "  else:\n",
        "    n=n//2\n",
        "  print(n,abcd)"
      ],
      "metadata": {
        "colab": {
          "base_uri": "https://localhost:8080/"
        },
        "id": "nf8wfMdPr95J",
        "outputId": "e6b6737c-cc9e-416d-f91c-d2d85262c257"
      },
      "execution_count": null,
      "outputs": [
        {
          "output_type": "stream",
          "name": "stdout",
          "text": [
            "43 False\n",
            "21 False\n",
            "10 False\n",
            "10 True\n"
          ]
        }
      ]
    },
    {
      "cell_type": "code",
      "source": [
        "f=open(\"abcd.txt\",\"r\")\n",
        "# how many bytes you want to print\n",
        "print(f.read().split(\"\\n\"))"
      ],
      "metadata": {
        "colab": {
          "base_uri": "https://localhost:8080/"
        },
        "id": "js4I8THDtug7",
        "outputId": "ca42a349-c6b2-4e17-a672-b2655ff3ae14"
      },
      "execution_count": null,
      "outputs": [
        {
          "output_type": "stream",
          "name": "stdout",
          "text": [
            "['hello how are you', 'i am good thank you', 'i am good thank you', 'i am good thank you', 'i am good thank you']\n"
          ]
        }
      ]
    },
    {
      "cell_type": "code",
      "source": [
        "f=open(\"abcd.txt\",\"r\")\n",
        "print(f.readlines())"
      ],
      "metadata": {
        "colab": {
          "base_uri": "https://localhost:8080/"
        },
        "id": "6Zz4s3ezwhAz",
        "outputId": "6f7f2a38-3605-4162-a5ae-be8e0ddcc9c9"
      },
      "execution_count": null,
      "outputs": [
        {
          "output_type": "stream",
          "name": "stdout",
          "text": [
            "['hello how are you\\n', 'i am good thank you\\n', 'i am good thank you\\n', 'i am good thank you\\n', 'i am good thank you']\n"
          ]
        }
      ]
    },
    {
      "cell_type": "code",
      "source": [
        "a=\"Hey whats up\"\n",
        "f=open(\"abcd.txt\",\"w\")\n",
        "f.write(a)\n",
        "f.close()"
      ],
      "metadata": {
        "id": "s61zoryNv758"
      },
      "execution_count": null,
      "outputs": []
    },
    {
      "cell_type": "code",
      "source": [
        "a=\" \\n Hey whats up???\"\n",
        "f=open(\"abcd.txt\",\"a\")\n",
        "f.write(a)\n",
        "f.close()"
      ],
      "metadata": {
        "id": "U8SM3rJyxJnM"
      },
      "execution_count": null,
      "outputs": []
    },
    {
      "cell_type": "code",
      "source": [
        "temp_dict={}\n",
        "for k in range(10):\n",
        "  temp_dict[\"Name\"+str(k)]=k\n"
      ],
      "metadata": {
        "colab": {
          "base_uri": "https://localhost:8080/"
        },
        "id": "vj31I8KFxpm8",
        "outputId": "1b4de969-c517-4f0a-8327-dfb17f0fcd58"
      },
      "execution_count": null,
      "outputs": [
        {
          "output_type": "stream",
          "name": "stdout",
          "text": [
            "{'Name0': 0, 'Name1': 1, 'Name2': 2, 'Name3': 3, 'Name4': 4, 'Name5': 5, 'Name6': 6, 'Name7': 7, 'Name8': 8, 'Name9': 9}\n"
          ]
        }
      ]
    },
    {
      "cell_type": "code",
      "source": [
        "\"\"\"\n",
        "Write this dictonary to text file\n",
        "read the data from text file\n",
        "and convert it back to dictoanary \n",
        "\"\"\""
      ],
      "metadata": {
        "id": "AAmPvHqIyVeU"
      },
      "execution_count": null,
      "outputs": []
    },
    {
      "cell_type": "code",
      "source": [
        "print(temp_dict)\n",
        "f=open(\"dictonary.txt\",'w')\n",
        "for kk in temp_dict.items():\n",
        "  f.write(str(key)+\",\"+str(value)+\"\\n\")\n",
        "f.close()"
      ],
      "metadata": {
        "colab": {
          "base_uri": "https://localhost:8080/"
        },
        "id": "e5hgFgZf7Mng",
        "outputId": "1555d205-b840-4bd1-8739-b878ec4b3be5"
      },
      "execution_count": null,
      "outputs": [
        {
          "output_type": "stream",
          "name": "stdout",
          "text": [
            "{'Name0': 0, 'Name1': 1, 'Name2': 2, 'Name3': 3, 'Name4': 4, 'Name5': 5, 'Name6': 6, 'Name7': 7, 'Name8': 8, 'Name9': 9}\n",
            "('Name0', 0)\n",
            "('Name1', 1)\n",
            "('Name2', 2)\n",
            "('Name3', 3)\n",
            "('Name4', 4)\n",
            "('Name5', 5)\n",
            "('Name6', 6)\n",
            "('Name7', 7)\n",
            "('Name8', 8)\n",
            "('Name9', 9)\n"
          ]
        }
      ]
    },
    {
      "cell_type": "code",
      "source": [
        "empt_dict={}\n",
        "f1=open(\"dictonary.txt\",'r')\n",
        "data=f1.read()\n",
        "each_line=data.split(\"\\n\")\n",
        "print(\"each line\", each_line)\n",
        "for k in each_line[:-1]:\n",
        "  key,value=k.split(\",\")\n",
        "  empt_dict[key]=int(value)\n",
        "print(empt_dict)"
      ],
      "metadata": {
        "id": "T38nGmSw7Nyf"
      },
      "execution_count": null,
      "outputs": []
    },
    {
      "cell_type": "code",
      "source": [
        "a=1\n",
        "b=1.5\n",
        "c=\"Stereee\"\n",
        "print(dir(a))"
      ],
      "metadata": {
        "colab": {
          "base_uri": "https://localhost:8080/"
        },
        "id": "SqCN4bu69ByX",
        "outputId": "3777354c-8077-4ed9-fa77-12bda699c54f"
      },
      "execution_count": null,
      "outputs": [
        {
          "output_type": "stream",
          "name": "stdout",
          "text": [
            "['__abs__', '__add__', '__and__', '__bool__', '__ceil__', '__class__', '__delattr__', '__dir__', '__divmod__', '__doc__', '__eq__', '__float__', '__floor__', '__floordiv__', '__format__', '__ge__', '__getattribute__', '__getnewargs__', '__gt__', '__hash__', '__index__', '__init__', '__init_subclass__', '__int__', '__invert__', '__le__', '__lshift__', '__lt__', '__mod__', '__mul__', '__ne__', '__neg__', '__new__', '__or__', '__pos__', '__pow__', '__radd__', '__rand__', '__rdivmod__', '__reduce__', '__reduce_ex__', '__repr__', '__rfloordiv__', '__rlshift__', '__rmod__', '__rmul__', '__ror__', '__round__', '__rpow__', '__rrshift__', '__rshift__', '__rsub__', '__rtruediv__', '__rxor__', '__setattr__', '__sizeof__', '__str__', '__sub__', '__subclasshook__', '__truediv__', '__trunc__', '__xor__', 'as_integer_ratio', 'bit_count', 'bit_length', 'conjugate', 'denominator', 'from_bytes', 'imag', 'numerator', 'real', 'to_bytes']\n"
          ]
        }
      ]
    },
    {
      "cell_type": "code",
      "source": [
        "print(type(b))"
      ],
      "metadata": {
        "colab": {
          "base_uri": "https://localhost:8080/"
        },
        "id": "33F0DmKd9KA_",
        "outputId": "40748a44-7aef-4020-ecab-4f8d4cdbd758"
      },
      "execution_count": null,
      "outputs": [
        {
          "output_type": "stream",
          "name": "stdout",
          "text": [
            "<class 'float'>\n"
          ]
        }
      ]
    },
    {
      "cell_type": "code",
      "source": [
        "print(type(c))"
      ],
      "metadata": {
        "colab": {
          "base_uri": "https://localhost:8080/"
        },
        "id": "xar6oEVq9LwQ",
        "outputId": "f0809e74-3abb-48dc-cc06-1ed9bcbf44ae"
      },
      "execution_count": null,
      "outputs": [
        {
          "output_type": "stream",
          "name": "stdout",
          "text": [
            "<class 'str'>\n"
          ]
        }
      ]
    }
  ]
}