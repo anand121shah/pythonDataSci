{
  "nbformat": 4,
  "nbformat_minor": 0,
  "metadata": {
    "colab": {
      "provenance": []
    },
    "kernelspec": {
      "name": "python3",
      "display_name": "Python 3"
    },
    "language_info": {
      "name": "python"
    }
  },
  "cells": [
    {
      "cell_type": "code",
      "source": [
        "#1.a=[1,2,3,4,5,6,7,8] Divide this list in two equal paths\n",
        "a=[1,2,3,4,5,6,7,8]\n",
        "print(a[0:len(a)//2])\n",
        "print(a[len(a)//2:len(a)])"
      ],
      "metadata": {
        "id": "0lK12i7Z1683"
      },
      "execution_count": null,
      "outputs": []
    },
    {
      "cell_type": "code",
      "source": [
        "#2.c=[1,2,3,4,5,1,2,3,'a','b',['h','a']] find count of all elements in this list\n",
        "c=[1,2,3,4,5,1,2,3,'a','b',['h','a']]\n",
        "pop_list=c.pop()\n",
        "print(pop_list)\n",
        "c.extend(pop_list)\n",
        "print(c)\n",
        "print(set(c))\n",
        "print(c.count(1))\n",
        "print(c.count(2))\n",
        "print(c.count(3))\n",
        "print(c.count(4))\n",
        "print(c.count(5))\n",
        "print(c.count('b'))\n",
        "print(c.count('h'))\n",
        "print(c.count('a'))\n",
        "\n",
        "\n"
      ],
      "metadata": {
        "colab": {
          "base_uri": "https://localhost:8080/"
        },
        "id": "Z63joLyD2nZV",
        "outputId": "fb0ac0fd-9d65-4cad-bd5f-b217434f32bb"
      },
      "execution_count": null,
      "outputs": [
        {
          "output_type": "stream",
          "name": "stdout",
          "text": [
            "['h', 'a']\n",
            "[1, 2, 3, 4, 5, 1, 2, 3, 'a', 'b', 'h', 'a']\n",
            "{1, 2, 3, 4, 5, 'b', 'h', 'a'}\n",
            "2\n",
            "2\n",
            "2\n",
            "1\n",
            "1\n",
            "1\n",
            "1\n",
            "2\n"
          ]
        }
      ]
    },
    {
      "cell_type": "code",
      "source": [
        "#4.Write a program to insert number 88 on 2nd index of this list and number on 2nd index should move to last index of the list  a=[1,2,3,4,5,7] Expected Output= [1,2,88,4,5,7,3]\n",
        "a=[1,2,3,4,5,7]\n",
        "a.insert(2,88) \n",
        "print(a)\n",
        "st=a.pop(3)\n",
        "print(a)\n",
        "a.append(st)\n",
        "print(a)"
      ],
      "metadata": {
        "colab": {
          "base_uri": "https://localhost:8080/"
        },
        "id": "Ep-2Bmay4hM2",
        "outputId": "cd2e08eb-ef60-4f06-a12d-71d075082d46"
      },
      "execution_count": null,
      "outputs": [
        {
          "output_type": "stream",
          "name": "stdout",
          "text": [
            "[1, 2, 88, 3, 4, 5, 7]\n",
            "[1, 2, 88, 4, 5, 7]\n",
            "[1, 2, 88, 4, 5, 7, 3]\n"
          ]
        }
      ]
    },
    {
      "cell_type": "code",
      "source": [
        "#3) Write a Python program to reverse a string \"11abcdeghsuyy\"\n",
        "a=\"11abcdeghsuyy\"\n",
        "a[::-1]"
      ],
      "metadata": {
        "colab": {
          "base_uri": "https://localhost:8080/",
          "height": 35
        },
        "id": "qLb9jqDX66gR",
        "outputId": "385b77bf-480b-4189-b37b-75844673d880"
      },
      "execution_count": null,
      "outputs": [
        {
          "output_type": "execute_result",
          "data": {
            "text/plain": [
              "'yyushgedcba11'"
            ],
            "application/vnd.google.colaboratory.intrinsic+json": {
              "type": "string"
            }
          },
          "metadata": {},
          "execution_count": 27
        }
      ]
    },
    {
      "cell_type": "code",
      "source": [
        "#1). Write A program to check if a person if eligible for voting or not?\n",
        "age=19\n",
        "if age>=18:\n",
        "  print(\"You are eligible to vote.\")\n",
        "else:\n",
        "  print(\"You are not eligible to vote.\")  \n"
      ],
      "metadata": {
        "colab": {
          "base_uri": "https://localhost:8080/"
        },
        "id": "9X3fA-n686Bo",
        "outputId": "704f5182-82e2-4ac4-d8e0-e567953467f5"
      },
      "execution_count": null,
      "outputs": [
        {
          "output_type": "stream",
          "name": "stdout",
          "text": [
            "You are eligible to vote.\n"
          ]
        }
      ]
    },
    {
      "cell_type": "code",
      "source": [
        "#2. Check ODD or EVEN\n",
        "\n",
        "n=23\n",
        "if n%2==0:\n",
        "  print(\"n is even\")\n",
        "else:\n",
        "  print(\"n is odd\")  "
      ],
      "metadata": {
        "colab": {
          "base_uri": "https://localhost:8080/"
        },
        "id": "IXGxfK-6CYV6",
        "outputId": "0449afd7-6004-4eed-97ba-b37745a6cc37"
      },
      "execution_count": null,
      "outputs": [
        {
          "output_type": "stream",
          "name": "stdout",
          "text": [
            "n is odd\n"
          ]
        }
      ]
    },
    {
      "cell_type": "code",
      "source": [
        "#3. check if number is divisible by 7 or not\n",
        "n=63\n",
        "if n%7==0:\n",
        "  print(\"n is divisible by 7\")\n",
        "else:\n",
        "  print(\"not divisible by 7\")  "
      ],
      "metadata": {
        "colab": {
          "base_uri": "https://localhost:8080/"
        },
        "id": "kwiRfpJNCu6a",
        "outputId": "887b4cda-8f95-4a5f-c48d-363dd329ed8e"
      },
      "execution_count": null,
      "outputs": [
        {
          "output_type": "stream",
          "name": "stdout",
          "text": [
            "n is divisible by 7\n"
          ]
        }
      ]
    },
    {
      "cell_type": "code",
      "source": [
        "n=18\n",
        "print(n/7)\n",
        "print(n//7)\n",
        "\n"
      ],
      "metadata": {
        "colab": {
          "base_uri": "https://localhost:8080/"
        },
        "id": "XtHfC8EeHDJU",
        "outputId": "908ff5f2-f0eb-4dc1-ab0d-35859ddbf701"
      },
      "execution_count": null,
      "outputs": [
        {
          "output_type": "stream",
          "name": "stdout",
          "text": [
            "2.5714285714285716\n",
            "2\n"
          ]
        }
      ]
    },
    {
      "cell_type": "code",
      "source": [
        "#4) Write a program to print \"hello\" if a number is a multiple of 5 else print \"Bye\" \n",
        "n=45\n",
        "if n>=1 and n%5==0:\n",
        "  print(\"Hello\")\n",
        "else:\n",
        "   print(\"Bye\") "
      ],
      "metadata": {
        "colab": {
          "base_uri": "https://localhost:8080/"
        },
        "id": "nLEht4zQIDWn",
        "outputId": "ff8131bf-f24a-40bc-be9e-b41b65aed520"
      },
      "execution_count": null,
      "outputs": [
        {
          "output_type": "stream",
          "name": "stdout",
          "text": [
            "Hello\n"
          ]
        }
      ]
    },
    {
      "cell_type": "code",
      "source": [
        "\"\"\"Write a program to calculate electricity bill according to following criteria\n",
        "\n",
        " First 100 units                     No Charge\n",
        "\n",
        "Next 100 units                     5 rupees per unit\n",
        "\n",
        "After 200 Units                     10 rupees per unit\"\"\"\n",
        "bill=200\n",
        "\n",
        "if bill<=100:\n",
        "   print(\"No charge\")\n",
        "\n",
        "elif bill>100 and bill<=200:\n",
        "  print(\"Bill amount is \" +  str((bill-100)*5) + \" rupees.\")\n",
        "\n",
        "elif bill > 200:\n",
        "  print( \"Bill amount is \" + str((bill-100)*5+ (bill-200)*10) + \" rupees.\")\n",
        "\n",
        "else:\n",
        "  print(\"Not Found\")    \n",
        " "
      ],
      "metadata": {
        "colab": {
          "base_uri": "https://localhost:8080/"
        },
        "id": "c60fJhblJ9cS",
        "outputId": "dca8d5fa-14c2-4ee9-d01a-9d7dfc2e347e"
      },
      "execution_count": null,
      "outputs": [
        {
          "output_type": "stream",
          "name": "stdout",
          "text": [
            "Bill amount is 500 rupees.\n"
          ]
        }
      ]
    },
    {
      "cell_type": "code",
      "source": [
        "\"\"\"1) Write a program to find list digit of a number\n",
        "\n",
        "2) Write a program to check criteria of the student according to %\n",
        "\n",
        "Marks                                 GRADES\n",
        "\n",
        "\n",
        "> 90 marks                         A\n",
        "\n",
        "<80 and >=90 marks        B\n",
        "\n",
        "<60 and <= 80 marks       C\n",
        "\n",
        "Below 60                            Failed\n",
        "\n",
        " \n",
        "\n",
        "3)  Write a program to take input between 1-12 and print which month of the year is it?\n",
        "\n",
        "Hint)  1 is January\n",
        "\n",
        " \n",
        "\n",
        "4)  Write a program to take input between 1-7 and print which day of week it is\n",
        "\n",
        "Hint)  1 is Sunday\n",
        "\n",
        " \n",
        "\n",
        "5) Check which number is greatest and smallest?\n",
        "\n",
        "A= 82\n",
        "\n",
        "B=76\n",
        "\n",
        "C=51\n",
        "\n",
        "D=42\n",
        "\n",
        " \n",
        "\n",
        "6) Check if a person is senior citizen or NO?\n",
        "\n",
        "7) Check if a number is positive or negative\n",
        "\n",
        "8) Check if a number is divisible by both 2 and 3\n",
        "\n",
        "9) Check if a character entered is a vowel or not\n",
        "\n",
        " \n",
        "\n",
        " \n",
        "\n",
        " \n",
        "\n",
        "10) Tell which person is the youngest and oldest\n",
        "\n",
        " \n",
        "\n",
        "Messi=82\n",
        "\n",
        "Ronaldo=91\n",
        "\n",
        "Ronaldino=62\n",
        "\n",
        "Neymar=51\"\"\""
      ],
      "metadata": {
        "id": "qRh6ppM8SsmL"
      },
      "execution_count": null,
      "outputs": []
    },
    {
      "cell_type": "markdown",
      "source": [
        "Assignment 2. Week 1 05 MAy"
      ],
      "metadata": {
        "id": "51bZ7Ne7K04s"
      }
    },
    {
      "cell_type": "code",
      "source": [
        "#1) Write a program to find last digit of a number\n",
        "\n",
        "n=123\n",
        "b=n%10\n",
        "print(\"The last digit is\",b)\n"
      ],
      "metadata": {
        "colab": {
          "base_uri": "https://localhost:8080/"
        },
        "id": "bxrZIs32GXEk",
        "outputId": "9e4df55c-79f9-40db-d72e-2a1b49e221d5"
      },
      "execution_count": null,
      "outputs": [
        {
          "output_type": "stream",
          "name": "stdout",
          "text": [
            "The last digit is 3\n"
          ]
        }
      ]
    },
    {
      "cell_type": "code",
      "source": [
        "\"\"\"2) Write a program to check criteria of the student according to %\n",
        "\n",
        "Marks                           GRADES\n",
        "\n",
        "\n",
        "> 90 marks                       A\n",
        "\n",
        "<80 and >=90 marks              B\n",
        "\n",
        "<60 and <= 80 marks             C\n",
        "\n",
        "Below 60                       Failed\"\"\"\n",
        "\n",
        "Marks=67\n",
        "\n",
        "if Marks> 90:\n",
        "  print(\"Your grade is A.\")\n",
        "elif Marks>80:\n",
        "  print(\"Your grade is B.\")\n",
        "elif Marks>60  :\n",
        "   print(\"Your grade is C.\")\n",
        "elif Marks<=60:\n",
        "  print(\"You have failed.\")\n",
        "else:\n",
        "   print(\"Result not found.\") "
      ],
      "metadata": {
        "colab": {
          "base_uri": "https://localhost:8080/"
        },
        "id": "Q-MmrsHNS-r5",
        "outputId": "b79fd3c6-e8a5-46ed-810d-592607fc7f59"
      },
      "execution_count": null,
      "outputs": [
        {
          "output_type": "stream",
          "name": "stdout",
          "text": [
            "Your grade is C.\n"
          ]
        }
      ]
    },
    {
      "cell_type": "code",
      "source": [
        "\"\"\"3)  Write a program to take input between 1-12 and print which month of the year is it?\n",
        "\n",
        "Hint)  1 is January\"\"\"\n",
        "\n",
        "\n",
        "month=input(\"Enter the month.\")\n",
        "a=int(month)\n",
        "if a==1:\n",
        "  print(\"January\")\n",
        "elif a==2:\n",
        "   print(\"Feburary\")\n",
        "elif a==3:\n",
        "   print(\"March\")  \n",
        "elif a==4:\n",
        "   print(\"April\")  \n",
        "elif a==5:\n",
        "   print(\"May\")  \n",
        "elif a==6:\n",
        "   print(\"June\")  \n",
        "elif a==7:\n",
        "   print(\"July\")  \n",
        "elif a==8:\n",
        "   print(\"August\")  \n",
        "elif a==9:\n",
        "   print(\"September\")\n",
        "elif a==10:\n",
        "   print(\"October\")  \n",
        "elif a==11:\n",
        "   print(\"November\")  \n",
        "elif a==12:\n",
        "   print(\"December\") \n",
        "else:\n",
        "  print(\"Error\")        \n",
        "\n"
      ],
      "metadata": {
        "colab": {
          "base_uri": "https://localhost:8080/"
        },
        "id": "XOn2hc5jmgPP",
        "outputId": "0ef0e8c2-99ba-4e70-a53e-dfe4d1327b55"
      },
      "execution_count": null,
      "outputs": [
        {
          "output_type": "stream",
          "name": "stdout",
          "text": [
            "Enter the month.3\n",
            "March\n"
          ]
        }
      ]
    },
    {
      "cell_type": "code",
      "source": [
        "\"\"\"4)  Write a program to take input between 1-7 and print which day of week it is\n",
        "\n",
        "Hint)  1 is Sunday\"\"\"\n",
        "day=input(\"Enter the number.\")\n",
        "a=int(day)\n",
        "print(a)\n",
        "print(type(a))\n",
        "if a==1:\n",
        "  print(\"Sunday\")\n",
        "elif a==2:\n",
        "  print(\"Monday\")\n",
        "elif a==3:\n",
        "  print(\"Tuesday\")\n",
        "elif a==4:\n",
        "  print(\"Wednesday\")\n",
        "elif a==5:\n",
        "  print(\"Thursday\")\n",
        "elif a==6:\n",
        "  print(\"Friday\")\n",
        "elif a==7:\n",
        "  print(\"Saturday\")  \n",
        "else:\n",
        "  print(\"Error\")    \n",
        "\n"
      ],
      "metadata": {
        "id": "3oGUAPXep5N9"
      },
      "execution_count": null,
      "outputs": []
    },
    {
      "cell_type": "code",
      "source": [
        "\"\"\"5) Check which number is greatest and smallest?\n",
        "\n",
        "A= 82\n",
        "\n",
        "B=76\n",
        "\n",
        "C=51\n",
        "\n",
        "D=42\"\"\"\n",
        "\n",
        "A=82\n",
        "B=76\n",
        "C=51\n",
        "D=42\n",
        "grt=A\n",
        "if B>grt:\n",
        " grt=B\n",
        "if C> grt:\n",
        "  grt=C\n",
        "if D>grt:\n",
        "  grt=D   \n",
        "print(\"Greatest is:\", grt)\n",
        "smlt=A\n",
        "if B<smlt:\n",
        " smlt=B\n",
        "if C< smlt:\n",
        "  smlt=C\n",
        "if D<smlt:\n",
        "  smlt=D   \n",
        "print(\"Smallest is:\", smlt)"
      ],
      "metadata": {
        "id": "TGZ1XpZGq7KS",
        "colab": {
          "base_uri": "https://localhost:8080/"
        },
        "outputId": "a7850bc5-5ebd-411f-c27a-b71c3093572d"
      },
      "execution_count": null,
      "outputs": [
        {
          "output_type": "stream",
          "name": "stdout",
          "text": [
            "Greatest is: 82\n",
            "Smallest is: 42\n"
          ]
        }
      ]
    },
    {
      "cell_type": "code",
      "source": [
        "#6) Check if a person is senior citizen or NO?\n",
        "num=input(\"Enter the age:\")\n",
        "age=int(num)\n",
        "if age>=62:\n",
        "  print(\"Senior Citizen.\")\n",
        "elif age<62:\n",
        "  print(\"Not a Senior Citizen.\")  \n",
        "else:\n",
        "  print(\"error\")  \n",
        "\n"
      ],
      "metadata": {
        "id": "IeYx5ix9pJbw",
        "colab": {
          "base_uri": "https://localhost:8080/"
        },
        "outputId": "e197b764-7798-4859-b9ac-2a949266f718"
      },
      "execution_count": null,
      "outputs": [
        {
          "output_type": "stream",
          "name": "stdout",
          "text": [
            "Enter the age:34\n",
            "Not a Senior Citizen.\n"
          ]
        }
      ]
    },
    {
      "cell_type": "code",
      "source": [
        "#7) Check if a number is positive or negative.\n",
        "\n",
        "a=input(\"Enter the number:\")\n",
        "num=int(a)\n",
        "if num>0:\n",
        "  print(\"positive\")\n",
        "elif num<0:\n",
        "  print(\"negative\")\n",
        "else:\n",
        "  print(\"zero\")   \n"
      ],
      "metadata": {
        "id": "FQP6Yjezs96S",
        "colab": {
          "base_uri": "https://localhost:8080/"
        },
        "outputId": "f691b5aa-a564-4cca-e4c8-f153e72cbad6"
      },
      "execution_count": null,
      "outputs": [
        {
          "output_type": "stream",
          "name": "stdout",
          "text": [
            "Enter the number:56\n",
            "positive\n"
          ]
        }
      ]
    },
    {
      "cell_type": "code",
      "source": [
        "#8) Check if a number is divisible by both 2 and 3\n",
        "\n",
        "num=67\n",
        "if num%2 and num%3==0:\n",
        "  print(\"divisible by both 2 and 3\")\n",
        "else:\n",
        "  print(\"not divisible by 2 and 3\")  \n"
      ],
      "metadata": {
        "id": "eaBg6hUIuVCk",
        "colab": {
          "base_uri": "https://localhost:8080/"
        },
        "outputId": "50f31e78-0da9-4306-b38d-9bf318bfa2ea"
      },
      "execution_count": null,
      "outputs": [
        {
          "output_type": "stream",
          "name": "stdout",
          "text": [
            "not divisible by 2 and 3\n"
          ]
        }
      ]
    },
    {
      "cell_type": "code",
      "source": [
        "#9) Check if a character entered is a vowel or not.\n",
        "\n",
        "str1= 'a'\n",
        "if str1=='a' or 'e'or 'i'or 'o' or 'u':\n",
        "  print(\"vowel\")\n",
        "else:\n",
        "  print(\"not a vowel\")  "
      ],
      "metadata": {
        "id": "Zlf3TOcKu0UF",
        "colab": {
          "base_uri": "https://localhost:8080/"
        },
        "outputId": "96b7b659-ef5a-4a68-c273-5cd72fd9218e"
      },
      "execution_count": null,
      "outputs": [
        {
          "output_type": "stream",
          "name": "stdout",
          "text": [
            "vowel\n"
          ]
        }
      ]
    },
    {
      "cell_type": "code",
      "source": [
        "\"\"\"10) Tell which person is the youngest and oldest\n",
        " Messi=82\n",
        "Ronaldo=91\n",
        "Ronaldino=62\n",
        "Neymar=51\"\"\"\n",
        "\n",
        "Messi=82\n",
        "Ronaldo=91\n",
        "Ronaldino=62\n",
        "Neymar=51\n",
        "\n",
        "if Messi>Ronaldo:\n",
        "  print(\"Messi is oldest\")\n",
        "elif Ronaldo>Ronaldino:\n",
        "  print(\"Ronaldo is oldest\")\n",
        "elif Ronaldino>Neymar:\n",
        "  print(\"Ronaldino is oldest\")\n",
        "else:\n",
        "  print(\"Neymar is oldest\")\n",
        " \n",
        "\n",
        "\n",
        "if Messi<Ronaldo:\n",
        "  print(\"Messi is youngest\")\n",
        "elif Ronaldo<Ronaldino:\n",
        "  print(\"Ronaldo is youngest\")\n",
        "elif Ronaldino<Neymar:\n",
        "  print(\"Ronaldino is youngest\")\n",
        "elif Messi<Neymar:\n",
        "  print(\"Messi is youngest\")  \n",
        "else:\n",
        "  print(\"Neymar is youngest\")\n",
        "\n",
        "\n",
        "  "
      ],
      "metadata": {
        "id": "T0HUueXFzcF2",
        "colab": {
          "base_uri": "https://localhost:8080/"
        },
        "outputId": "a401165d-8d7a-4270-c014-a7aa787854b3"
      },
      "execution_count": null,
      "outputs": [
        {
          "output_type": "stream",
          "name": "stdout",
          "text": [
            "Ronaldo is oldest\n",
            "Messi is youngest\n"
          ]
        }
      ]
    },
    {
      "cell_type": "markdown",
      "source": [
        "2nd week Monday 08 May"
      ],
      "metadata": {
        "id": "14UJQSCLeL8D"
      }
    },
    {
      "cell_type": "code",
      "source": [
        "\n",
        "for i in range(1,10,1):\n",
        "  for j in range(i*2):\n",
        "    print(j)\n",
        "  print(\"==========\")  "
      ],
      "metadata": {
        "colab": {
          "base_uri": "https://localhost:8080/"
        },
        "id": "4wNty9endzQD",
        "outputId": "6e7fa9ba-b9cd-424c-9d53-5d404ceeb1df"
      },
      "execution_count": null,
      "outputs": [
        {
          "output_type": "stream",
          "name": "stdout",
          "text": [
            "0\n",
            "1\n",
            "==========\n",
            "0\n",
            "1\n",
            "2\n",
            "3\n",
            "==========\n",
            "0\n",
            "1\n",
            "2\n",
            "3\n",
            "4\n",
            "5\n",
            "==========\n",
            "0\n",
            "1\n",
            "2\n",
            "3\n",
            "4\n",
            "5\n",
            "6\n",
            "7\n",
            "==========\n",
            "0\n",
            "1\n",
            "2\n",
            "3\n",
            "4\n",
            "5\n",
            "6\n",
            "7\n",
            "8\n",
            "9\n",
            "==========\n",
            "0\n",
            "1\n",
            "2\n",
            "3\n",
            "4\n",
            "5\n",
            "6\n",
            "7\n",
            "8\n",
            "9\n",
            "10\n",
            "11\n",
            "==========\n",
            "0\n",
            "1\n",
            "2\n",
            "3\n",
            "4\n",
            "5\n",
            "6\n",
            "7\n",
            "8\n",
            "9\n",
            "10\n",
            "11\n",
            "12\n",
            "13\n",
            "==========\n",
            "0\n",
            "1\n",
            "2\n",
            "3\n",
            "4\n",
            "5\n",
            "6\n",
            "7\n",
            "8\n",
            "9\n",
            "10\n",
            "11\n",
            "12\n",
            "13\n",
            "14\n",
            "15\n",
            "==========\n",
            "0\n",
            "1\n",
            "2\n",
            "3\n",
            "4\n",
            "5\n",
            "6\n",
            "7\n",
            "8\n",
            "9\n",
            "10\n",
            "11\n",
            "12\n",
            "13\n",
            "14\n",
            "15\n",
            "16\n",
            "17\n",
            "==========\n"
          ]
        }
      ]
    },
    {
      "cell_type": "code",
      "source": [
        "# Check if a number is prime or not.\n",
        "\n",
        "n=8\n",
        "s=1\n",
        "for i in range(2,9):\n",
        "  if n%i==0:\n",
        "    print(\"not a prime number\")\n",
        "    break;\n",
        "    s=s+1\n",
        "if s==1:\n",
        " print(\"prime\")\n",
        "\n"
      ],
      "metadata": {
        "colab": {
          "base_uri": "https://localhost:8080/"
        },
        "id": "Uwb7TiQ-enq2",
        "outputId": "dceb1592-8a69-4d1c-a841-d998a20b528e"
      },
      "execution_count": null,
      "outputs": [
        {
          "output_type": "stream",
          "name": "stdout",
          "text": [
            "not a prime number\n",
            "prime\n"
          ]
        }
      ]
    },
    {
      "cell_type": "code",
      "source": [
        "# Check if a number is prime or not.\n",
        "n=997\n",
        "if n<=1:\n",
        " print(str(n)+\"is a prime number\")\n",
        "\n",
        "for i in range(2,n//2):\n",
        "  if n%i==0:\n",
        "    print(\"not a prime\")\n",
        "    break\n",
        "  else:\n",
        "    print(\"prime\")\n",
        "    break\n",
        "\n",
        "\n",
        "\n"
      ],
      "metadata": {
        "colab": {
          "base_uri": "https://localhost:8080/"
        },
        "id": "ehRXU9jvimGO",
        "outputId": "94de3d0f-4b5a-424d-c9d1-d6cd0056e9be"
      },
      "execution_count": null,
      "outputs": [
        {
          "output_type": "stream",
          "name": "stdout",
          "text": [
            "prime\n"
          ]
        }
      ]
    },
    {
      "cell_type": "code",
      "source": [
        "#print all prime numbers till a given range of 11( ie. 2,3,5,7,11)\n",
        "\n",
        "\n",
        "for num in range(2,12):\n",
        "\n",
        "  for i in range(2,num):\n",
        "\n",
        "    if (num%i)==0:\n",
        "        break\n",
        "  else:  \n",
        "    print(num)"
      ],
      "metadata": {
        "colab": {
          "base_uri": "https://localhost:8080/"
        },
        "id": "EaP5gIKdlcuP",
        "outputId": "1ef2c2bf-a2aa-4369-d2e2-b143bf955644"
      },
      "execution_count": null,
      "outputs": [
        {
          "output_type": "stream",
          "name": "stdout",
          "text": [
            "11\n",
            "11\n",
            "2\n",
            "11\n",
            "2\n",
            "11\n",
            "2\n",
            "3\n",
            "4\n",
            "11\n",
            "2\n",
            "11\n",
            "2\n",
            "3\n",
            "4\n",
            "5\n",
            "6\n",
            "11\n",
            "2\n",
            "11\n",
            "2\n",
            "3\n",
            "11\n",
            "2\n",
            "11\n",
            "2\n",
            "3\n",
            "4\n",
            "5\n",
            "6\n",
            "7\n",
            "8\n",
            "9\n",
            "10\n"
          ]
        }
      ]
    },
    {
      "cell_type": "code",
      "source": [],
      "metadata": {
        "id": "BhgcsPrXsNQ3"
      },
      "execution_count": null,
      "outputs": []
    },
    {
      "cell_type": "code",
      "source": [
        "127//2\n"
      ],
      "metadata": {
        "colab": {
          "base_uri": "https://localhost:8080/"
        },
        "id": "hmlW9DBokJ7u",
        "outputId": "25e299b2-d678-4af7-eb11-ed27d4545b36"
      },
      "execution_count": null,
      "outputs": [
        {
          "output_type": "execute_result",
          "data": {
            "text/plain": [
              "63"
            ]
          },
          "metadata": {},
          "execution_count": 34
        }
      ]
    },
    {
      "cell_type": "markdown",
      "source": [
        "Assignment 3. 8 May"
      ],
      "metadata": {
        "id": "l3SuyJZ5AX9j"
      }
    },
    {
      "cell_type": "code",
      "source": [
        "\"\"\"1) Calculate the sum of all numbers from 1 to a given number\n",
        "\n",
        "2) Write a program to print multiplication table of a given number\n",
        "\n",
        "3) Count the total number of digits in a number\n",
        "\n",
        "4) Reverse a given integer number\n",
        "\n",
        "5) Calculate the cube of all numbers from 1 to a given number\"\"\""
      ],
      "metadata": {
        "id": "Pg_M_frksOsY"
      },
      "execution_count": null,
      "outputs": []
    },
    {
      "cell_type": "code",
      "source": [
        "#1) Calculate the sum of all numbers from 1 to a given number\n",
        "# calculate the sum of all numbers from 1 to 50.\n",
        "n=20\n",
        "sum=0\n",
        "for i in range(1,n+1):\n",
        "  sum=sum+i\n",
        "print(sum)\n",
        "\n"
      ],
      "metadata": {
        "colab": {
          "base_uri": "https://localhost:8080/"
        },
        "id": "XvieRhqEAfNF",
        "outputId": "49a1df98-1ca1-4919-bfc7-854a8195a69c"
      },
      "execution_count": null,
      "outputs": [
        {
          "output_type": "stream",
          "name": "stdout",
          "text": [
            "210\n"
          ]
        }
      ]
    },
    {
      "cell_type": "code",
      "source": [
        "#2. Write a program to print multiplication table of a given number\n",
        "n=7\n",
        "for j in range(1,11):\n",
        "  print(n,\" * \",j, \" = \",n*j)\n"
      ],
      "metadata": {
        "colab": {
          "base_uri": "https://localhost:8080/"
        },
        "id": "x5CWUMpKB2rl",
        "outputId": "d7e0d3bb-fc78-4318-ce5a-ca2c57fdb1a0"
      },
      "execution_count": null,
      "outputs": [
        {
          "output_type": "stream",
          "name": "stdout",
          "text": [
            "7  *  1  =  7\n",
            "7  *  2  =  14\n",
            "7  *  3  =  21\n",
            "7  *  4  =  28\n",
            "7  *  5  =  35\n",
            "7  *  6  =  42\n",
            "7  *  7  =  49\n",
            "7  *  8  =  56\n",
            "7  *  9  =  63\n",
            "7  *  10  =  70\n"
          ]
        }
      ]
    },
    {
      "cell_type": "code",
      "source": [],
      "metadata": {
        "id": "4y16HHfvk48q"
      },
      "execution_count": null,
      "outputs": []
    },
    {
      "cell_type": "code",
      "source": [
        "#3.Count the total number of digits in a number\n",
        "n=132\n",
        "count=len(str(n))\n",
        "\n",
        "print(count)"
      ],
      "metadata": {
        "colab": {
          "base_uri": "https://localhost:8080/"
        },
        "id": "OO6qH-YcAWOL",
        "outputId": "5ee3c8f2-330e-4ce1-ef1d-4b6a727d1f75"
      },
      "execution_count": null,
      "outputs": [
        {
          "output_type": "stream",
          "name": "stdout",
          "text": [
            "3\n"
          ]
        }
      ]
    },
    {
      "cell_type": "code",
      "source": [
        "n=19989997\n",
        "count=0\n",
        "while n>0:\n",
        "  n=n//10\n",
        "  count=count+1\n",
        "print(\"The length of a integer is:\",count)"
      ],
      "metadata": {
        "id": "coDJcE3mLZ75"
      },
      "execution_count": null,
      "outputs": []
    },
    {
      "cell_type": "code",
      "source": [
        "2%10"
      ],
      "metadata": {
        "colab": {
          "base_uri": "https://localhost:8080/"
        },
        "id": "tfRJZUZUMCMl",
        "outputId": "16e49175-9672-4b19-cca7-fd4a3fa104bd"
      },
      "execution_count": null,
      "outputs": [
        {
          "output_type": "execute_result",
          "data": {
            "text/plain": [
              "2"
            ]
          },
          "metadata": {},
          "execution_count": 34
        }
      ]
    },
    {
      "cell_type": "code",
      "source": [
        "#4) Reverse a given integer number.\n",
        "n=12234\n",
        "num=str(n)\n",
        "b=(num[::-1])\n",
        "print(b)"
      ],
      "metadata": {
        "colab": {
          "base_uri": "https://localhost:8080/"
        },
        "id": "ehaV_MShEB0R",
        "outputId": "6babbe13-8699-49a6-a86f-f194504ad30e"
      },
      "execution_count": null,
      "outputs": [
        {
          "output_type": "stream",
          "name": "stdout",
          "text": [
            "43221\n"
          ]
        }
      ]
    },
    {
      "cell_type": "code",
      "source": [
        "#5.Calculate the cube of all numbers from 1 to a given number\n",
        "n=int(input(\"Enter the number:\"))\n",
        "cube=0\n",
        "for i in range(1,n+1):\n",
        "  cube=i**3\n",
        "  print(cube)"
      ],
      "metadata": {
        "colab": {
          "base_uri": "https://localhost:8080/"
        },
        "id": "P8Qkn8cUFCE1",
        "outputId": "9645f176-980f-45b0-e2a0-111e2728abf2"
      },
      "execution_count": null,
      "outputs": [
        {
          "output_type": "stream",
          "name": "stdout",
          "text": [
            "Enter the number:4\n",
            "1\n",
            "8\n",
            "27\n",
            "64\n"
          ]
        }
      ]
    },
    {
      "cell_type": "markdown",
      "source": [
        "Tuesday.9 may "
      ],
      "metadata": {
        "id": "V156cYTKk9_E"
      }
    },
    {
      "cell_type": "code",
      "source": [
        "a=5\n",
        "while a>=0:\n",
        "  print(\"value of a is\",a)\n",
        "  if a==2:\n",
        "    break\n",
        "  else:\n",
        "    print(a)\n",
        "  a=a-1  "
      ],
      "metadata": {
        "colab": {
          "base_uri": "https://localhost:8080/"
        },
        "id": "l4usQrxVk7bR",
        "outputId": "7182e381-6b6e-4028-8877-2816b5010801"
      },
      "execution_count": null,
      "outputs": [
        {
          "output_type": "stream",
          "name": "stdout",
          "text": [
            "value of a is 5\n",
            "5\n",
            "value of a is 4\n",
            "4\n",
            "value of a is 3\n",
            "3\n",
            "value of a is 2\n"
          ]
        }
      ]
    },
    {
      "cell_type": "code",
      "source": [
        "a=5\n",
        "while a>=0:\n",
        "  print(\"value of a is\",a)\n",
        "  a=a-1\n",
        "  if a==2:\n",
        "    continue\n",
        "  else:\n",
        "    print(a)\n",
        "  "
      ],
      "metadata": {
        "id": "vmIjvgEHpbTM"
      },
      "execution_count": null,
      "outputs": []
    },
    {
      "cell_type": "code",
      "source": [
        "#Write a Python program to count the number of characters (character frequency) in a string.\n",
        "\n",
        "n=\" I am fine\"\n",
        "set1=set(n)\n",
        "print(set1)\n",
        "count=0\n",
        "while len(n)>0:\n",
        "  b=len(n)//10\n",
        "  count=count+1\n",
        "print(count)\n"
      ],
      "metadata": {
        "colab": {
          "base_uri": "https://localhost:8080/",
          "height": 252
        },
        "id": "zlrhn3Mxs_Pl",
        "outputId": "5529562b-0728-46ce-f93f-698d425a9a10"
      },
      "execution_count": null,
      "outputs": [
        {
          "output_type": "stream",
          "name": "stdout",
          "text": [
            "{' ', 'I', 'e', 'a', 'n', 'm', 'f', 'i'}\n"
          ]
        },
        {
          "output_type": "error",
          "ename": "KeyboardInterrupt",
          "evalue": "ignored",
          "traceback": [
            "\u001b[0;31m---------------------------------------------------------------------------\u001b[0m",
            "\u001b[0;31mKeyboardInterrupt\u001b[0m                         Traceback (most recent call last)",
            "\u001b[0;32m<ipython-input-18-39b2c130f36e>\u001b[0m in \u001b[0;36m<cell line: 7>\u001b[0;34m()\u001b[0m\n\u001b[1;32m      5\u001b[0m \u001b[0mprint\u001b[0m\u001b[0;34m(\u001b[0m\u001b[0mset1\u001b[0m\u001b[0;34m)\u001b[0m\u001b[0;34m\u001b[0m\u001b[0;34m\u001b[0m\u001b[0m\n\u001b[1;32m      6\u001b[0m \u001b[0mcount\u001b[0m\u001b[0;34m=\u001b[0m\u001b[0;36m0\u001b[0m\u001b[0;34m\u001b[0m\u001b[0;34m\u001b[0m\u001b[0m\n\u001b[0;32m----> 7\u001b[0;31m \u001b[0;32mwhile\u001b[0m \u001b[0mlen\u001b[0m\u001b[0;34m(\u001b[0m\u001b[0mn\u001b[0m\u001b[0;34m)\u001b[0m\u001b[0;34m>\u001b[0m\u001b[0;36m0\u001b[0m\u001b[0;34m:\u001b[0m\u001b[0;34m\u001b[0m\u001b[0;34m\u001b[0m\u001b[0m\n\u001b[0m\u001b[1;32m      8\u001b[0m   \u001b[0mb\u001b[0m\u001b[0;34m=\u001b[0m\u001b[0mlen\u001b[0m\u001b[0;34m(\u001b[0m\u001b[0mn\u001b[0m\u001b[0;34m)\u001b[0m\u001b[0;34m//\u001b[0m\u001b[0;36m10\u001b[0m\u001b[0;34m\u001b[0m\u001b[0;34m\u001b[0m\u001b[0m\n\u001b[1;32m      9\u001b[0m   \u001b[0mcount\u001b[0m\u001b[0;34m=\u001b[0m\u001b[0mcount\u001b[0m\u001b[0;34m+\u001b[0m\u001b[0;36m1\u001b[0m\u001b[0;34m\u001b[0m\u001b[0;34m\u001b[0m\u001b[0m\n",
            "\u001b[0;31mKeyboardInterrupt\u001b[0m: "
          ]
        }
      ]
    },
    {
      "cell_type": "code",
      "source": [
        "#Write a Python program to count the number of characters (character frequency) in a string.\n",
        "text1=\"I am fine\"\n",
        "for i in set(text1):\n",
        "  print(\"Frequency of \" + str(i)+ \" is:\",text1.count(i))\n",
        "\n"
      ],
      "metadata": {
        "colab": {
          "base_uri": "https://localhost:8080/"
        },
        "id": "oIpoIv2vvcDH",
        "outputId": "d4eaf9a7-ac36-44ed-940b-547ff3c0c1d2"
      },
      "execution_count": null,
      "outputs": [
        {
          "output_type": "stream",
          "name": "stdout",
          "text": [
            "Frequency of   is: 2\n",
            "Frequency of I is: 1\n",
            "Frequency of e is: 1\n",
            "Frequency of a is: 1\n",
            "Frequency of n is: 1\n",
            "Frequency of m is: 1\n",
            "Frequency of f is: 1\n",
            "Frequency of i is: 1\n"
          ]
        }
      ]
    },
    {
      "cell_type": "code",
      "source": [
        "#Write a Python program to count the number of characters (character frequency) in a string.\n",
        "# without count function\n",
        "a=\"hello world i hope everyone is doing well\"\n",
        "for k in set(a):\n",
        "  freq=0\n",
        "  for j in a:\n",
        "    if k==j:\n",
        "      freq=freq+1\n",
        "  print(\"Frequency of \"+str(k) +\" is :- \",freq)"
      ],
      "metadata": {
        "colab": {
          "base_uri": "https://localhost:8080/"
        },
        "id": "nxlXtqlfxPYt",
        "outputId": "48f3592a-a28f-438e-9b45-afb3708de0ae"
      },
      "execution_count": null,
      "outputs": [
        {
          "output_type": "stream",
          "name": "stdout",
          "text": [
            "Frequency of   is :-  7\n",
            "Frequency of e is :-  6\n",
            "Frequency of y is :-  1\n",
            "Frequency of v is :-  1\n",
            "Frequency of s is :-  1\n",
            "Frequency of h is :-  2\n",
            "Frequency of w is :-  2\n",
            "Frequency of o is :-  5\n",
            "Frequency of r is :-  2\n",
            "Frequency of n is :-  2\n",
            "Frequency of p is :-  1\n",
            "Frequency of g is :-  1\n",
            "Frequency of i is :-  3\n",
            "Frequency of l is :-  5\n",
            "Frequency of d is :-  2\n"
          ]
        }
      ]
    },
    {
      "cell_type": "markdown",
      "source": [
        "# **10 May 2nd week** **Wednesday**"
      ],
      "metadata": {
        "id": "y_DfLd4Dm-pj"
      }
    },
    {
      "cell_type": "code",
      "source": [
        "#Python program to convert lower letter to upper and upper letter to lower in a string.\n",
        "\n",
        "txt=\"I am fine\"\n",
        "swapped_str=\"\"\n",
        "for i in txt:\n",
        "  if i.isupper():\n",
        "    swapped_str=swapped_str+i.lower()\n",
        "  else:\n",
        "      swapped_str=swapped_str+i.upper()\n",
        "\n",
        "print(swapped_str)"
      ],
      "metadata": {
        "id": "Zoph3I-Nxdte",
        "colab": {
          "base_uri": "https://localhost:8080/"
        },
        "outputId": "cf4edbe6-bcb8-4682-91c0-a589b2802b83"
      },
      "execution_count": null,
      "outputs": [
        {
          "output_type": "stream",
          "name": "stdout",
          "text": [
            "i AM FINE\n"
          ]
        }
      ]
    },
    {
      "cell_type": "code",
      "source": [
        "#Write a python program to sort letters of word by lower to upper case format.\n",
        "txt1=\"Hello I am Shanti\"\n",
        "\n",
        "lower_string=\"\"\n",
        "upper_string=\"\"\n",
        "for i in txt1:\n",
        "  if i.islower():\n",
        "\n",
        "    lower_string=lower_string+i\n",
        "  else:\n",
        "    upper_string=upper_string+i\n",
        "lower_string=sorted(lower_string)\n",
        "upper_string=sorted(upper_string)   \n",
        "print(\"\".join(sorted(lower_string)+sorted(upper_string)))       \n",
        "\n"
      ],
      "metadata": {
        "colab": {
          "base_uri": "https://localhost:8080/"
        },
        "id": "dx4cIBBdrGi7",
        "outputId": "7ec61986-0073-4c1c-b150-2b5436b9dbe0"
      },
      "execution_count": null,
      "outputs": [
        {
          "output_type": "stream",
          "name": "stdout",
          "text": [
            "aaehillmnot   HIS\n"
          ]
        }
      ]
    },
    {
      "cell_type": "code",
      "source": [
        "txt=\"Hello\"\n",
        "\n",
        "lower=[]\n",
        "upper=[]\n",
        "for i in txt1:\n",
        "  if i.islower():\n",
        "\n",
        "    lower.append(i)\n",
        "  else:\n",
        "    upper.append(i)\n",
        "lower.sort()\n",
        "upper=sort()   \n",
        "print(\"\".join(sort(lower)+sor(upper)))       \n"
      ],
      "metadata": {
        "colab": {
          "base_uri": "https://localhost:8080/",
          "height": 217
        },
        "id": "3t51wmcpyAWd",
        "outputId": "ce1c03cf-0184-4170-efce-71dd1d4e1499"
      },
      "execution_count": null,
      "outputs": [
        {
          "output_type": "error",
          "ename": "NameError",
          "evalue": "ignored",
          "traceback": [
            "\u001b[0;31m---------------------------------------------------------------------------\u001b[0m",
            "\u001b[0;31mNameError\u001b[0m                                 Traceback (most recent call last)",
            "\u001b[0;32m<ipython-input-44-9751abab45c7>\u001b[0m in \u001b[0;36m<cell line: 12>\u001b[0;34m()\u001b[0m\n\u001b[1;32m     10\u001b[0m     \u001b[0mupper\u001b[0m\u001b[0;34m.\u001b[0m\u001b[0mappend\u001b[0m\u001b[0;34m(\u001b[0m\u001b[0mi\u001b[0m\u001b[0;34m)\u001b[0m\u001b[0;34m\u001b[0m\u001b[0;34m\u001b[0m\u001b[0m\n\u001b[1;32m     11\u001b[0m \u001b[0mlower\u001b[0m\u001b[0;34m.\u001b[0m\u001b[0msort\u001b[0m\u001b[0;34m(\u001b[0m\u001b[0;34m)\u001b[0m\u001b[0;34m\u001b[0m\u001b[0;34m\u001b[0m\u001b[0m\n\u001b[0;32m---> 12\u001b[0;31m \u001b[0mupper\u001b[0m\u001b[0;34m=\u001b[0m\u001b[0msort\u001b[0m\u001b[0;34m(\u001b[0m\u001b[0;34m)\u001b[0m\u001b[0;34m\u001b[0m\u001b[0;34m\u001b[0m\u001b[0m\n\u001b[0m\u001b[1;32m     13\u001b[0m \u001b[0mprint\u001b[0m\u001b[0;34m(\u001b[0m\u001b[0;34m\"\"\u001b[0m\u001b[0;34m.\u001b[0m\u001b[0mjoin\u001b[0m\u001b[0;34m(\u001b[0m\u001b[0msort\u001b[0m\u001b[0;34m(\u001b[0m\u001b[0mlower\u001b[0m\u001b[0;34m)\u001b[0m\u001b[0;34m+\u001b[0m\u001b[0msor\u001b[0m\u001b[0;34m(\u001b[0m\u001b[0mupper\u001b[0m\u001b[0;34m)\u001b[0m\u001b[0;34m)\u001b[0m\u001b[0;34m)\u001b[0m\u001b[0;34m\u001b[0m\u001b[0;34m\u001b[0m\u001b[0m\n",
            "\u001b[0;31mNameError\u001b[0m: name 'sort' is not defined"
          ]
        }
      ]
    },
    {
      "cell_type": "code",
      "source": [
        "#Write a program in Python to count lower, upper, numeric and special characters in a string.\n",
        "\n",
        "str1=\"Hey! how are you 1 ?\"\n",
        "lower_string=0\n",
        "upper_string=0\n",
        "num_string=0\n",
        "spl_char=0\n",
        "\n",
        "for i in str1:\n",
        "  if i.islower():\n",
        "\n",
        "    lower_string+=1\n",
        "  elif i.isupper():\n",
        "    upper_string=upper_string+1\n",
        "  elif i.isnumeric():\n",
        "    num_string=num_string+1 \n",
        "  else: #space is counted as special character\n",
        "      spl_char+=1\n",
        "\n",
        "print(\"Count of lower_string is\",lower_string)\n",
        "print(\"Count of upper_string is\",upper_string)   \n",
        "print(\"Count of spl_char is\",spl_char) \n",
        "print(\"Count of num_string is\",num_string) "
      ],
      "metadata": {
        "colab": {
          "base_uri": "https://localhost:8080/"
        },
        "id": "bESWic8EzB43",
        "outputId": "1b0ce507-fd45-45a2-f5b9-d993e33344dd"
      },
      "execution_count": null,
      "outputs": [
        {
          "output_type": "stream",
          "name": "stdout",
          "text": [
            "Count of lower_string is 11\n",
            "Count of upper_string is 1\n",
            "Count of spl_char is 7\n",
            "Count of num_string is 1\n"
          ]
        }
      ]
    },
    {
      "cell_type": "code",
      "source": [
        "dir(\"hello\")"
      ],
      "metadata": {
        "colab": {
          "base_uri": "https://localhost:8080/"
        },
        "id": "Iivr3QtG1M42",
        "outputId": "449c069e-edfd-42bb-a702-0b56f1233353"
      },
      "execution_count": null,
      "outputs": [
        {
          "output_type": "execute_result",
          "data": {
            "text/plain": [
              "['__add__',\n",
              " '__class__',\n",
              " '__contains__',\n",
              " '__delattr__',\n",
              " '__dir__',\n",
              " '__doc__',\n",
              " '__eq__',\n",
              " '__format__',\n",
              " '__ge__',\n",
              " '__getattribute__',\n",
              " '__getitem__',\n",
              " '__getnewargs__',\n",
              " '__gt__',\n",
              " '__hash__',\n",
              " '__init__',\n",
              " '__init_subclass__',\n",
              " '__iter__',\n",
              " '__le__',\n",
              " '__len__',\n",
              " '__lt__',\n",
              " '__mod__',\n",
              " '__mul__',\n",
              " '__ne__',\n",
              " '__new__',\n",
              " '__reduce__',\n",
              " '__reduce_ex__',\n",
              " '__repr__',\n",
              " '__rmod__',\n",
              " '__rmul__',\n",
              " '__setattr__',\n",
              " '__sizeof__',\n",
              " '__str__',\n",
              " '__subclasshook__',\n",
              " 'capitalize',\n",
              " 'casefold',\n",
              " 'center',\n",
              " 'count',\n",
              " 'encode',\n",
              " 'endswith',\n",
              " 'expandtabs',\n",
              " 'find',\n",
              " 'format',\n",
              " 'format_map',\n",
              " 'index',\n",
              " 'isalnum',\n",
              " 'isalpha',\n",
              " 'isascii',\n",
              " 'isdecimal',\n",
              " 'isdigit',\n",
              " 'isidentifier',\n",
              " 'islower',\n",
              " 'isnumeric',\n",
              " 'isprintable',\n",
              " 'isspace',\n",
              " 'istitle',\n",
              " 'isupper',\n",
              " 'join',\n",
              " 'ljust',\n",
              " 'lower',\n",
              " 'lstrip',\n",
              " 'maketrans',\n",
              " 'partition',\n",
              " 'removeprefix',\n",
              " 'removesuffix',\n",
              " 'replace',\n",
              " 'rfind',\n",
              " 'rindex',\n",
              " 'rjust',\n",
              " 'rpartition',\n",
              " 'rsplit',\n",
              " 'rstrip',\n",
              " 'split',\n",
              " 'splitlines',\n",
              " 'startswith',\n",
              " 'strip',\n",
              " 'swapcase',\n",
              " 'title',\n",
              " 'translate',\n",
              " 'upper',\n",
              " 'zfill']"
            ]
          },
          "metadata": {},
          "execution_count": 50
        }
      ]
    },
    {
      "cell_type": "code",
      "source": [
        "#Write a program in Python to remove an empty character from a list sequence.\n",
        "\n",
        "list1= ['hello','I','','fine','alright']\n",
        "\n",
        "for i in list1:\n",
        "  if len(i)<=0:\n",
        "    list1.remove(i)\n",
        "print(list1)"
      ],
      "metadata": {
        "colab": {
          "base_uri": "https://localhost:8080/"
        },
        "id": "07gnL2iK4f1X",
        "outputId": "003237d9-782b-40ca-c0a1-f943328dda2d"
      },
      "execution_count": null,
      "outputs": [
        {
          "output_type": "stream",
          "name": "stdout",
          "text": [
            "['hello', 'I', 'fine', 'alright']\n"
          ]
        }
      ]
    },
    {
      "cell_type": "code",
      "source": [
        "list1= ['hello',1,'','fine','alright']\n",
        "new_list=[]\n",
        "for i in list1:\n",
        "  if len(str(i))>0:\n",
        "    new_list.append(i)\n",
        "print(new_list)"
      ],
      "metadata": {
        "colab": {
          "base_uri": "https://localhost:8080/"
        },
        "id": "8YAwIODv7iOB",
        "outputId": "4ee198ac-3663-4844-ec50-8c8f69cfe7b0"
      },
      "execution_count": null,
      "outputs": [
        {
          "output_type": "stream",
          "name": "stdout",
          "text": [
            "['hello', 1, 'fine', 'alright']\n"
          ]
        }
      ]
    },
    {
      "cell_type": "code",
      "source": [
        "#find the file extension from the name of the file for example demofile.pdf\n",
        "str1=\"demofile.pdf\"\n",
        "\n",
        "splt=str1.split(\".\")\n",
        "print(splt)\n",
        "print(\"The file extension is\",splt[-1])"
      ],
      "metadata": {
        "colab": {
          "base_uri": "https://localhost:8080/"
        },
        "id": "ttUosdC97stN",
        "outputId": "f4b87907-a516-4cae-c8b0-292211fd0f14"
      },
      "execution_count": null,
      "outputs": [
        {
          "output_type": "stream",
          "name": "stdout",
          "text": [
            "['demofile', 'pdf']\n",
            "The file extension is pdf\n"
          ]
        }
      ]
    },
    {
      "cell_type": "code",
      "source": [],
      "metadata": {
        "id": "kENFfMxm8yYw"
      },
      "execution_count": null,
      "outputs": []
    }
  ]
}